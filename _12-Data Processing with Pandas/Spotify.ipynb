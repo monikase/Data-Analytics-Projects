{
 "cells": [
  {
   "cell_type": "markdown",
   "id": "69306121-3f0f-4dd5-9043-05d3b7144507",
   "metadata": {},
   "source": [
    "# Data Processing with Pandas - Spotify Top 50 Tracks of 2020"
   ]
  },
  {
   "cell_type": "markdown",
   "id": "8eed1050-667d-412f-8eb1-0a25b779a5ae",
   "metadata": {},
   "source": [
    "Ever wondered what makes a song a global hit? This analysis dives into Spotify's Top 50 tracks of 2020 to uncover the hidden musical DNA that defines popular music, from energy levels to danceability, and how these attributes shape our listening experiences."
   ]
  },
  {
   "cell_type": "markdown",
   "id": "c5f9b923-9755-4e0d-b784-71578165c61a",
   "metadata": {},
   "source": [
    "### Key Questions to Answer:\n",
    "\n",
    "1. What are the dominant genres in 2020's top charts?\n",
    "2. Are there specific audio features that consistently appear in popular tracks?\n",
    "3. Can we identify distinct 'types' of hit songs based on their characteristics?"
   ]
  },
  {
   "cell_type": "markdown",
   "id": "691286aa-8716-4abb-b9e0-6c61cf75ba55",
   "metadata": {},
   "source": [
    "Dataset is taken from Kaggle with these columns:"
   ]
  },
  {
   "cell_type": "markdown",
   "id": "8964c855-e383-4f69-9fc6-7ae89d825a0a",
   "metadata": {},
   "source": [
    "- **artist** - Name of the artist.\n",
    "- **album** - Name of the album that the song is on.\n",
    "- **track_name** - Name of the song.\n",
    "- **track_id** - ID of the song.\n",
    "- **energy** (Ranges from 0 to 1) - Higher value means that the song is more energetic.\n",
    "- **danceability** (Ranges from 0 to 1) - Higher value means that it is easier to dance to the song.\n",
    "- **key** (11 categories) - An integer between 0 and 11 that represents the pitch class of the song’s musical key.\n",
    "- **loudness** - Higher value means that the song is louder.\n",
    "- **acousticness** (Ranges from 0 to 1) - This value describes how acoustic a song is.\n",
    "- **speechiness** (Ranges from 0 to 1)\n",
    "- **instrumentalness** (Ranges from 0 to 1)\n",
    "- **liveness** (Ranges from 0 to 1)\n",
    "- **valence** (Ranges from 0 to 1)\n",
    "- **tempo** (Generally has a range of 20-200)\n",
    "- **duration_ms** (Generally has a range of 200k-400k)\n",
    "- **genre** (16 categories)\n"
   ]
  },
  {
   "cell_type": "code",
   "execution_count": 1,
   "id": "823d562f-63aa-49ed-9094-3a6c2b5c5b29",
   "metadata": {},
   "outputs": [],
   "source": [
    "# Import neccessary libraries\n",
    "import pandas as pd\n",
    "import numpy as np\n",
    "import matplotlib.pyplot as plt\n",
    "import seaborn as sns"
   ]
  },
  {
   "cell_type": "code",
   "execution_count": 2,
   "id": "b1b681cd-7f9d-43d5-a17a-2fb1baa734da",
   "metadata": {},
   "outputs": [],
   "source": [
    "%load_ext blackcellmagic"
   ]
  },
  {
   "cell_type": "markdown",
   "id": "537aea3a-2da2-4f38-96b2-5780a2dde2c7",
   "metadata": {},
   "source": [
    "## 1. Load & Display Data"
   ]
  },
  {
   "cell_type": "markdown",
   "id": "aca3f650-765d-4c69-9205-c943fcea7acf",
   "metadata": {},
   "source": [
    "First, we load the data and inspect its structure to ensure it's ready for analysis. We'll check the first few rows and column data types."
   ]
  },
  {
   "cell_type": "markdown",
   "id": "ea0101dd-7830-4da7-8722-f9a3be8ed3c0",
   "metadata": {},
   "source": [
    "The CSV file has its own index column, so we instruct pandas to use the first column (index 0)."
   ]
  },
  {
   "cell_type": "code",
   "execution_count": 3,
   "id": "f741f763-a692-4abd-802b-169c0d21b407",
   "metadata": {},
   "outputs": [
    {
     "data": {
      "text/html": [
       "<div>\n",
       "<style scoped>\n",
       "    .dataframe tbody tr th:only-of-type {\n",
       "        vertical-align: middle;\n",
       "    }\n",
       "\n",
       "    .dataframe tbody tr th {\n",
       "        vertical-align: top;\n",
       "    }\n",
       "\n",
       "    .dataframe thead th {\n",
       "        text-align: right;\n",
       "    }\n",
       "</style>\n",
       "<table border=\"1\" class=\"dataframe\">\n",
       "  <thead>\n",
       "    <tr style=\"text-align: right;\">\n",
       "      <th></th>\n",
       "      <th>artist</th>\n",
       "      <th>album</th>\n",
       "      <th>track_name</th>\n",
       "      <th>track_id</th>\n",
       "      <th>energy</th>\n",
       "      <th>danceability</th>\n",
       "      <th>key</th>\n",
       "      <th>loudness</th>\n",
       "      <th>acousticness</th>\n",
       "      <th>speechiness</th>\n",
       "      <th>instrumentalness</th>\n",
       "      <th>liveness</th>\n",
       "      <th>valence</th>\n",
       "      <th>tempo</th>\n",
       "      <th>duration_ms</th>\n",
       "      <th>genre</th>\n",
       "    </tr>\n",
       "  </thead>\n",
       "  <tbody>\n",
       "    <tr>\n",
       "      <th>0</th>\n",
       "      <td>The Weeknd</td>\n",
       "      <td>After Hours</td>\n",
       "      <td>Blinding Lights</td>\n",
       "      <td>0VjIjW4GlUZAMYd2vXMi3b</td>\n",
       "      <td>0.730</td>\n",
       "      <td>0.514</td>\n",
       "      <td>1</td>\n",
       "      <td>-5.934</td>\n",
       "      <td>0.00146</td>\n",
       "      <td>0.0598</td>\n",
       "      <td>0.000095</td>\n",
       "      <td>0.0897</td>\n",
       "      <td>0.334</td>\n",
       "      <td>171.005</td>\n",
       "      <td>200040</td>\n",
       "      <td>R&amp;B/Soul</td>\n",
       "    </tr>\n",
       "    <tr>\n",
       "      <th>1</th>\n",
       "      <td>Tones And I</td>\n",
       "      <td>Dance Monkey</td>\n",
       "      <td>Dance Monkey</td>\n",
       "      <td>1rgnBhdG2JDFTbYkYRZAku</td>\n",
       "      <td>0.593</td>\n",
       "      <td>0.825</td>\n",
       "      <td>6</td>\n",
       "      <td>-6.401</td>\n",
       "      <td>0.68800</td>\n",
       "      <td>0.0988</td>\n",
       "      <td>0.000161</td>\n",
       "      <td>0.1700</td>\n",
       "      <td>0.540</td>\n",
       "      <td>98.078</td>\n",
       "      <td>209755</td>\n",
       "      <td>Alternative/Indie</td>\n",
       "    </tr>\n",
       "    <tr>\n",
       "      <th>2</th>\n",
       "      <td>Roddy Ricch</td>\n",
       "      <td>Please Excuse Me For Being Antisocial</td>\n",
       "      <td>The Box</td>\n",
       "      <td>0nbXyq5TXYPCO7pr3N8S4I</td>\n",
       "      <td>0.586</td>\n",
       "      <td>0.896</td>\n",
       "      <td>10</td>\n",
       "      <td>-6.687</td>\n",
       "      <td>0.10400</td>\n",
       "      <td>0.0559</td>\n",
       "      <td>0.000000</td>\n",
       "      <td>0.7900</td>\n",
       "      <td>0.642</td>\n",
       "      <td>116.971</td>\n",
       "      <td>196653</td>\n",
       "      <td>Hip-Hop/Rap</td>\n",
       "    </tr>\n",
       "    <tr>\n",
       "      <th>3</th>\n",
       "      <td>SAINt JHN</td>\n",
       "      <td>Roses (Imanbek Remix)</td>\n",
       "      <td>Roses - Imanbek Remix</td>\n",
       "      <td>2Wo6QQD1KMDWeFkkjLqwx5</td>\n",
       "      <td>0.721</td>\n",
       "      <td>0.785</td>\n",
       "      <td>8</td>\n",
       "      <td>-5.457</td>\n",
       "      <td>0.01490</td>\n",
       "      <td>0.0506</td>\n",
       "      <td>0.004320</td>\n",
       "      <td>0.2850</td>\n",
       "      <td>0.894</td>\n",
       "      <td>121.962</td>\n",
       "      <td>176219</td>\n",
       "      <td>Dance/Electronic</td>\n",
       "    </tr>\n",
       "    <tr>\n",
       "      <th>4</th>\n",
       "      <td>Dua Lipa</td>\n",
       "      <td>Future Nostalgia</td>\n",
       "      <td>Don't Start Now</td>\n",
       "      <td>3PfIrDoz19wz7qK7tYeu62</td>\n",
       "      <td>0.793</td>\n",
       "      <td>0.793</td>\n",
       "      <td>11</td>\n",
       "      <td>-4.521</td>\n",
       "      <td>0.01230</td>\n",
       "      <td>0.0830</td>\n",
       "      <td>0.000000</td>\n",
       "      <td>0.0951</td>\n",
       "      <td>0.679</td>\n",
       "      <td>123.950</td>\n",
       "      <td>183290</td>\n",
       "      <td>Nu-disco</td>\n",
       "    </tr>\n",
       "  </tbody>\n",
       "</table>\n",
       "</div>"
      ],
      "text/plain": [
       "        artist                                  album             track_name  \\\n",
       "0   The Weeknd                            After Hours        Blinding Lights   \n",
       "1  Tones And I                           Dance Monkey           Dance Monkey   \n",
       "2  Roddy Ricch  Please Excuse Me For Being Antisocial                The Box   \n",
       "3    SAINt JHN                  Roses (Imanbek Remix)  Roses - Imanbek Remix   \n",
       "4     Dua Lipa                       Future Nostalgia        Don't Start Now   \n",
       "\n",
       "                 track_id  energy  danceability  key  loudness  acousticness  \\\n",
       "0  0VjIjW4GlUZAMYd2vXMi3b   0.730         0.514    1    -5.934       0.00146   \n",
       "1  1rgnBhdG2JDFTbYkYRZAku   0.593         0.825    6    -6.401       0.68800   \n",
       "2  0nbXyq5TXYPCO7pr3N8S4I   0.586         0.896   10    -6.687       0.10400   \n",
       "3  2Wo6QQD1KMDWeFkkjLqwx5   0.721         0.785    8    -5.457       0.01490   \n",
       "4  3PfIrDoz19wz7qK7tYeu62   0.793         0.793   11    -4.521       0.01230   \n",
       "\n",
       "   speechiness  instrumentalness  liveness  valence    tempo  duration_ms  \\\n",
       "0       0.0598          0.000095    0.0897    0.334  171.005       200040   \n",
       "1       0.0988          0.000161    0.1700    0.540   98.078       209755   \n",
       "2       0.0559          0.000000    0.7900    0.642  116.971       196653   \n",
       "3       0.0506          0.004320    0.2850    0.894  121.962       176219   \n",
       "4       0.0830          0.000000    0.0951    0.679  123.950       183290   \n",
       "\n",
       "               genre  \n",
       "0           R&B/Soul  \n",
       "1  Alternative/Indie  \n",
       "2        Hip-Hop/Rap  \n",
       "3   Dance/Electronic  \n",
       "4           Nu-disco  "
      ]
     },
     "execution_count": 3,
     "metadata": {},
     "output_type": "execute_result"
    }
   ],
   "source": [
    "# Load CSV file and set the first column as the DataFrame index\n",
    "df = pd.read_csv(\"spotify/spotifytoptracks.csv\", index_col=0)\n",
    "df.head()"
   ]
  },
  {
   "cell_type": "markdown",
   "id": "1e2abeab-ae91-458f-82ac-dae87ee67d7a",
   "metadata": {},
   "source": [
    "Change the data types of the columns accordingly to their type."
   ]
  },
  {
   "cell_type": "code",
   "execution_count": 4,
   "id": "b2536da2-033d-4bd6-8e4e-7ac9a9d84105",
   "metadata": {},
   "outputs": [],
   "source": [
    "df['key'] = df['key'].astype('category')\n",
    "df['genre'] = df['genre'].astype('category')\n",
    "df['artist'] = df['artist'].astype('string')\n",
    "df['album'] = df['album'].astype('string')\n",
    "df['track_name'] = df['track_name'].astype('string')"
   ]
  },
  {
   "cell_type": "code",
   "execution_count": 5,
   "id": "9f6eb7e6-d37b-4dbe-b632-b5acbf03210f",
   "metadata": {},
   "outputs": [
    {
     "name": "stdout",
     "output_type": "stream",
     "text": [
      "\n",
      "DataFrame Info:\n",
      "<class 'pandas.core.frame.DataFrame'>\n",
      "Index: 50 entries, 0 to 49\n",
      "Data columns (total 16 columns):\n",
      " #   Column            Non-Null Count  Dtype   \n",
      "---  ------            --------------  -----   \n",
      " 0   artist            50 non-null     string  \n",
      " 1   album             50 non-null     string  \n",
      " 2   track_name        50 non-null     string  \n",
      " 3   track_id          50 non-null     object  \n",
      " 4   energy            50 non-null     float64 \n",
      " 5   danceability      50 non-null     float64 \n",
      " 6   key               50 non-null     category\n",
      " 7   loudness          50 non-null     float64 \n",
      " 8   acousticness      50 non-null     float64 \n",
      " 9   speechiness       50 non-null     float64 \n",
      " 10  instrumentalness  50 non-null     float64 \n",
      " 11  liveness          50 non-null     float64 \n",
      " 12  valence           50 non-null     float64 \n",
      " 13  tempo             50 non-null     float64 \n",
      " 14  duration_ms       50 non-null     int64   \n",
      " 15  genre             50 non-null     category\n",
      "dtypes: category(2), float64(9), int64(1), object(1), string(3)\n",
      "memory usage: 7.0+ KB\n"
     ]
    }
   ],
   "source": [
    "# Display basic info\n",
    "print(f\"\\nDataFrame Info:\")\n",
    "df.info()"
   ]
  },
  {
   "cell_type": "markdown",
   "id": "614ef9c5-ccc1-4024-ab9b-f652f2891fa3",
   "metadata": {},
   "source": [
    "#### Initial Data Overview:"
   ]
  },
  {
   "cell_type": "markdown",
   "id": "9233bdb2-de24-4181-8f03-e99c840b27c6",
   "metadata": {},
   "source": [
    "- Dataset contains 50 rows and 16 columns\n",
    "- There are no missing values\n",
    "- Provides an overview of popular music attributes: energy, danceability, key, loudness, acousticness, speechiness, instrumentalness, liveness, valence, tempo, duration_ms.\n",
    "- **Note:** duration_ms is in miliseconds. We will convert it to minutes and seconds later\n",
    "- Provides genres: R&B/Soul, Alternative/Indie, Hip-Hop/Rap, Dance/Electronic, etc.\n",
    "- The dataset is relatively small, consuming only 6.6+ KB of memory, making it efficient to work with."
   ]
  },
  {
   "cell_type": "markdown",
   "id": "860c06e6-1584-4ac1-904d-89644c5c68ab",
   "metadata": {},
   "source": [
    "## 2. Data Cleaning"
   ]
  },
  {
   "cell_type": "markdown",
   "id": "19543915-14b5-49cb-855a-2fa6d87fcbf0",
   "metadata": {},
   "source": [
    "Standardize text formatting, remove redundant columns, and address missing and duplicate values."
   ]
  },
  {
   "cell_type": "markdown",
   "id": "4c4262e1-479a-4dff-809f-adae0e2af344",
   "metadata": {},
   "source": [
    "### 2.1. String Formatting"
   ]
  },
  {
   "cell_type": "code",
   "execution_count": 6,
   "id": "cebd38f3-e51c-4fec-bc8c-c649ce9c90e2",
   "metadata": {},
   "outputs": [],
   "source": [
    "# Capitalize the first letter of each word in selected columns\n",
    "text_cols = [\"artist\", \"album\", \"track_name\"]\n",
    "for col in text_cols:\n",
    "    df[col] = df[col].str.title()"
   ]
  },
  {
   "cell_type": "markdown",
   "id": "ffafbf8e-c666-4046-b70d-b242b49d8b45",
   "metadata": {},
   "source": [
    "### 2.2. Removing Columns"
   ]
  },
  {
   "cell_type": "markdown",
   "id": "6de56529-cecb-45af-af4c-5f8225c0b4d6",
   "metadata": {},
   "source": [
    "Removing track_id that is a unique identifier not needed for aggregate trend analysis."
   ]
  },
  {
   "cell_type": "code",
   "execution_count": 7,
   "id": "54264356-d3d3-4c4c-989e-062c22bc706b",
   "metadata": {},
   "outputs": [],
   "source": [
    "# Eliminating \"track_id\" since it's irrelevant for analysis\n",
    "df.drop(\"track_id\", axis=1, inplace=True)"
   ]
  },
  {
   "cell_type": "code",
   "execution_count": 8,
   "id": "915482e3-d2c0-4d4e-8cde-9f17f2f2ae17",
   "metadata": {},
   "outputs": [
    {
     "data": {
      "text/html": [
       "<div>\n",
       "<style scoped>\n",
       "    .dataframe tbody tr th:only-of-type {\n",
       "        vertical-align: middle;\n",
       "    }\n",
       "\n",
       "    .dataframe tbody tr th {\n",
       "        vertical-align: top;\n",
       "    }\n",
       "\n",
       "    .dataframe thead th {\n",
       "        text-align: right;\n",
       "    }\n",
       "</style>\n",
       "<table border=\"1\" class=\"dataframe\">\n",
       "  <thead>\n",
       "    <tr style=\"text-align: right;\">\n",
       "      <th></th>\n",
       "      <th>artist</th>\n",
       "      <th>album</th>\n",
       "      <th>track_name</th>\n",
       "      <th>energy</th>\n",
       "      <th>danceability</th>\n",
       "      <th>key</th>\n",
       "      <th>loudness</th>\n",
       "      <th>acousticness</th>\n",
       "      <th>speechiness</th>\n",
       "      <th>instrumentalness</th>\n",
       "      <th>liveness</th>\n",
       "      <th>valence</th>\n",
       "      <th>tempo</th>\n",
       "      <th>duration_ms</th>\n",
       "      <th>genre</th>\n",
       "    </tr>\n",
       "  </thead>\n",
       "  <tbody>\n",
       "    <tr>\n",
       "      <th>0</th>\n",
       "      <td>The Weeknd</td>\n",
       "      <td>After Hours</td>\n",
       "      <td>Blinding Lights</td>\n",
       "      <td>0.730</td>\n",
       "      <td>0.514</td>\n",
       "      <td>1</td>\n",
       "      <td>-5.934</td>\n",
       "      <td>0.00146</td>\n",
       "      <td>0.0598</td>\n",
       "      <td>0.000095</td>\n",
       "      <td>0.0897</td>\n",
       "      <td>0.334</td>\n",
       "      <td>171.005</td>\n",
       "      <td>200040</td>\n",
       "      <td>R&amp;B/Soul</td>\n",
       "    </tr>\n",
       "    <tr>\n",
       "      <th>1</th>\n",
       "      <td>Tones And I</td>\n",
       "      <td>Dance Monkey</td>\n",
       "      <td>Dance Monkey</td>\n",
       "      <td>0.593</td>\n",
       "      <td>0.825</td>\n",
       "      <td>6</td>\n",
       "      <td>-6.401</td>\n",
       "      <td>0.68800</td>\n",
       "      <td>0.0988</td>\n",
       "      <td>0.000161</td>\n",
       "      <td>0.1700</td>\n",
       "      <td>0.540</td>\n",
       "      <td>98.078</td>\n",
       "      <td>209755</td>\n",
       "      <td>Alternative/Indie</td>\n",
       "    </tr>\n",
       "    <tr>\n",
       "      <th>2</th>\n",
       "      <td>Roddy Ricch</td>\n",
       "      <td>Please Excuse Me For Being Antisocial</td>\n",
       "      <td>The Box</td>\n",
       "      <td>0.586</td>\n",
       "      <td>0.896</td>\n",
       "      <td>10</td>\n",
       "      <td>-6.687</td>\n",
       "      <td>0.10400</td>\n",
       "      <td>0.0559</td>\n",
       "      <td>0.000000</td>\n",
       "      <td>0.7900</td>\n",
       "      <td>0.642</td>\n",
       "      <td>116.971</td>\n",
       "      <td>196653</td>\n",
       "      <td>Hip-Hop/Rap</td>\n",
       "    </tr>\n",
       "    <tr>\n",
       "      <th>3</th>\n",
       "      <td>Saint Jhn</td>\n",
       "      <td>Roses (Imanbek Remix)</td>\n",
       "      <td>Roses - Imanbek Remix</td>\n",
       "      <td>0.721</td>\n",
       "      <td>0.785</td>\n",
       "      <td>8</td>\n",
       "      <td>-5.457</td>\n",
       "      <td>0.01490</td>\n",
       "      <td>0.0506</td>\n",
       "      <td>0.004320</td>\n",
       "      <td>0.2850</td>\n",
       "      <td>0.894</td>\n",
       "      <td>121.962</td>\n",
       "      <td>176219</td>\n",
       "      <td>Dance/Electronic</td>\n",
       "    </tr>\n",
       "    <tr>\n",
       "      <th>4</th>\n",
       "      <td>Dua Lipa</td>\n",
       "      <td>Future Nostalgia</td>\n",
       "      <td>Don'T Start Now</td>\n",
       "      <td>0.793</td>\n",
       "      <td>0.793</td>\n",
       "      <td>11</td>\n",
       "      <td>-4.521</td>\n",
       "      <td>0.01230</td>\n",
       "      <td>0.0830</td>\n",
       "      <td>0.000000</td>\n",
       "      <td>0.0951</td>\n",
       "      <td>0.679</td>\n",
       "      <td>123.950</td>\n",
       "      <td>183290</td>\n",
       "      <td>Nu-disco</td>\n",
       "    </tr>\n",
       "  </tbody>\n",
       "</table>\n",
       "</div>"
      ],
      "text/plain": [
       "        artist                                  album             track_name  \\\n",
       "0   The Weeknd                            After Hours        Blinding Lights   \n",
       "1  Tones And I                           Dance Monkey           Dance Monkey   \n",
       "2  Roddy Ricch  Please Excuse Me For Being Antisocial                The Box   \n",
       "3    Saint Jhn                  Roses (Imanbek Remix)  Roses - Imanbek Remix   \n",
       "4     Dua Lipa                       Future Nostalgia        Don'T Start Now   \n",
       "\n",
       "   energy  danceability key  loudness  acousticness  speechiness  \\\n",
       "0   0.730         0.514   1    -5.934       0.00146       0.0598   \n",
       "1   0.593         0.825   6    -6.401       0.68800       0.0988   \n",
       "2   0.586         0.896  10    -6.687       0.10400       0.0559   \n",
       "3   0.721         0.785   8    -5.457       0.01490       0.0506   \n",
       "4   0.793         0.793  11    -4.521       0.01230       0.0830   \n",
       "\n",
       "   instrumentalness  liveness  valence    tempo  duration_ms  \\\n",
       "0          0.000095    0.0897    0.334  171.005       200040   \n",
       "1          0.000161    0.1700    0.540   98.078       209755   \n",
       "2          0.000000    0.7900    0.642  116.971       196653   \n",
       "3          0.004320    0.2850    0.894  121.962       176219   \n",
       "4          0.000000    0.0951    0.679  123.950       183290   \n",
       "\n",
       "               genre  \n",
       "0           R&B/Soul  \n",
       "1  Alternative/Indie  \n",
       "2        Hip-Hop/Rap  \n",
       "3   Dance/Electronic  \n",
       "4           Nu-disco  "
      ]
     },
     "execution_count": 8,
     "metadata": {},
     "output_type": "execute_result"
    }
   ],
   "source": [
    "df.head()"
   ]
  },
  {
   "cell_type": "markdown",
   "id": "717065ad-ae25-4307-8b34-2d9f37d72602",
   "metadata": {},
   "source": [
    "### 2.3. Handling missing values"
   ]
  },
  {
   "cell_type": "markdown",
   "id": "be5c83ba-ef8b-4e3c-b950-6ba2860cdc12",
   "metadata": {},
   "source": [
    "As previously noted, this dataset contains no missing values. This section is included for future re-use, when dataset with missing values require processing."
   ]
  },
  {
   "cell_type": "markdown",
   "id": "c025d71a-0aca-4b97-91d2-70bac12d253b",
   "metadata": {},
   "source": [
    "Display existing missing value rows before deletion."
   ]
  },
  {
   "cell_type": "code",
   "execution_count": 9,
   "id": "8c9522ff-0529-43dd-951d-04ff414462f2",
   "metadata": {},
   "outputs": [],
   "source": [
    "def show_missing_rows(df):\n",
    "    \"\"\"\n",
    "    Check and display rows with missing values in the DataFrame\n",
    "    \"\"\"\n",
    "    missing_rows = df[df.isnull().any(axis=1)]\n",
    "    if not missing_rows.empty:\n",
    "        print(\"Rows with missing values found:\")\n",
    "        display(missing_rows)\n",
    "    else:\n",
    "        print(\"No missing values found.\")"
   ]
  },
  {
   "cell_type": "code",
   "execution_count": 10,
   "id": "03eb53fb-4ddb-471c-91d7-c2bfdb95d000",
   "metadata": {},
   "outputs": [
    {
     "name": "stdout",
     "output_type": "stream",
     "text": [
      "No missing values found.\n"
     ]
    }
   ],
   "source": [
    "show_missing_rows(df)"
   ]
  },
  {
   "cell_type": "code",
   "execution_count": 11,
   "id": "52b896c2-ef44-4b09-950d-283c58385e9f",
   "metadata": {},
   "outputs": [],
   "source": [
    "# Remove any rows from the DataFrame that contain missing values\n",
    "# df.dropna(inplace=True)"
   ]
  },
  {
   "cell_type": "markdown",
   "id": "21586064-47b5-4d99-a02d-124c924a2a78",
   "metadata": {},
   "source": [
    "### 2.4. Display and remove duplicate samples and features"
   ]
  },
  {
   "cell_type": "markdown",
   "id": "c68f2140-a0a5-4e9c-8a54-5a2d277b967b",
   "metadata": {},
   "source": [
    "Display existing duplicate values before deletion."
   ]
  },
  {
   "cell_type": "code",
   "execution_count": 12,
   "id": "638fcf43-5a7e-45ae-8064-c6613a70c57f",
   "metadata": {},
   "outputs": [],
   "source": [
    "def handle_duplicate_df(df):\n",
    "    \"\"\"\n",
    "    Detects and removes duplicate rows and columns from the DataFrame.\n",
    "    \"\"\"\n",
    "    duplicate_rows = df[df.duplicated(keep=False)]\n",
    "    duplicate_cols = df.columns[df.T.duplicated()]\n",
    "\n",
    "    if not duplicate_rows.empty:\n",
    "        print(\"Duplicate samples found:\")\n",
    "        display(duplicate_rows)\n",
    "    else:\n",
    "        print(\"No duplicate samples found.\")\n",
    "\n",
    "    if len(duplicate_cols) > 0:\n",
    "        print(\"Duplicate features found:\", list(duplicate_cols))\n",
    "    else:\n",
    "        print(\"No duplicate features found.\")\n",
    "\n",
    "    df = df.drop_duplicates().loc[:, ~df.T.duplicated()]\n",
    "    return df"
   ]
  },
  {
   "cell_type": "code",
   "execution_count": 13,
   "id": "39e2de77-6c57-477e-bdc6-8ffe707d605d",
   "metadata": {},
   "outputs": [
    {
     "name": "stdout",
     "output_type": "stream",
     "text": [
      "No duplicate samples found.\n",
      "No duplicate features found.\n"
     ]
    }
   ],
   "source": [
    "df = handle_duplicate_df(df)"
   ]
  },
  {
   "cell_type": "markdown",
   "id": "fdf6a67d-a163-4ad9-90dc-ca09142d69ab",
   "metadata": {},
   "source": [
    "### 2.5. Checking outliers"
   ]
  },
  {
   "cell_type": "code",
   "execution_count": 14,
   "id": "d65074b4-95bc-487b-b973-ab1d6bca5228",
   "metadata": {},
   "outputs": [],
   "source": [
    "# Select only numeric columns\n",
    "df_numeric = df.select_dtypes(include=[np.number])"
   ]
  },
  {
   "cell_type": "markdown",
   "id": "5ec8bf4d-2fe4-410a-8447-581b2bbb1ab5",
   "metadata": {},
   "source": [
    "#### 2.5.2. Count upper and lower bound outliers"
   ]
  },
  {
   "cell_type": "code",
   "execution_count": 15,
   "id": "22aa3463-92b0-4f9e-90cd-e9a157605a7d",
   "metadata": {},
   "outputs": [],
   "source": [
    "def count_all_outliers(df):\n",
    "    outlier_dict = {}\n",
    "    for col in df.columns:\n",
    "        Q1 = df[col].quantile(0.25)\n",
    "        Q3 = df[col].quantile(0.75)\n",
    "        IQR = Q3 - Q1\n",
    "        lower_bound = Q1 - 1.5 * IQR\n",
    "        upper_bound = Q3 + 1.5 * IQR\n",
    "\n",
    "        lower_outliers = (df[col] < lower_bound).sum()\n",
    "        upper_outliers = (df[col] > upper_bound).sum()\n",
    "\n",
    "        outlier_dict[col] = {\n",
    "            \"Upper Outliers\": upper_outliers,\n",
    "            \"Lower Outliers\": lower_outliers  \n",
    "        }\n",
    "\n",
    "    outlier_df = pd.DataFrame.from_dict(outlier_dict, orient=\"index\").T\n",
    "    return outlier_df"
   ]
  },
  {
   "cell_type": "code",
   "execution_count": 16,
   "id": "44284177-9007-49ab-be26-2f667870c8e6",
   "metadata": {},
   "outputs": [
    {
     "data": {
      "text/html": [
       "<div>\n",
       "<style scoped>\n",
       "    .dataframe tbody tr th:only-of-type {\n",
       "        vertical-align: middle;\n",
       "    }\n",
       "\n",
       "    .dataframe tbody tr th {\n",
       "        vertical-align: top;\n",
       "    }\n",
       "\n",
       "    .dataframe thead th {\n",
       "        text-align: right;\n",
       "    }\n",
       "</style>\n",
       "<table border=\"1\" class=\"dataframe\">\n",
       "  <thead>\n",
       "    <tr style=\"text-align: right;\">\n",
       "      <th></th>\n",
       "      <th>energy</th>\n",
       "      <th>danceability</th>\n",
       "      <th>loudness</th>\n",
       "      <th>acousticness</th>\n",
       "      <th>speechiness</th>\n",
       "      <th>instrumentalness</th>\n",
       "      <th>liveness</th>\n",
       "      <th>valence</th>\n",
       "      <th>tempo</th>\n",
       "      <th>duration_ms</th>\n",
       "    </tr>\n",
       "  </thead>\n",
       "  <tbody>\n",
       "    <tr>\n",
       "      <th>Upper Outliers</th>\n",
       "      <td>0</td>\n",
       "      <td>0</td>\n",
       "      <td>0</td>\n",
       "      <td>7</td>\n",
       "      <td>6</td>\n",
       "      <td>12</td>\n",
       "      <td>3</td>\n",
       "      <td>0</td>\n",
       "      <td>0</td>\n",
       "      <td>2</td>\n",
       "    </tr>\n",
       "    <tr>\n",
       "      <th>Lower Outliers</th>\n",
       "      <td>0</td>\n",
       "      <td>3</td>\n",
       "      <td>1</td>\n",
       "      <td>0</td>\n",
       "      <td>0</td>\n",
       "      <td>0</td>\n",
       "      <td>0</td>\n",
       "      <td>0</td>\n",
       "      <td>0</td>\n",
       "      <td>0</td>\n",
       "    </tr>\n",
       "  </tbody>\n",
       "</table>\n",
       "</div>"
      ],
      "text/plain": [
       "                energy  danceability  loudness  acousticness  speechiness  \\\n",
       "Upper Outliers       0             0         0             7            6   \n",
       "Lower Outliers       0             3         1             0            0   \n",
       "\n",
       "                instrumentalness  liveness  valence  tempo  duration_ms  \n",
       "Upper Outliers                12         3        0      0            2  \n",
       "Lower Outliers                 0         0        0      0            0  "
      ]
     },
     "execution_count": 16,
     "metadata": {},
     "output_type": "execute_result"
    }
   ],
   "source": [
    "outlier_summary_df = count_all_outliers(df_numeric)\n",
    "outlier_summary_df"
   ]
  },
  {
   "cell_type": "markdown",
   "id": "4b529a19-c945-425e-bd99-403810bb3617",
   "metadata": {},
   "source": [
    "#### 2.5.2. Plot the outliers"
   ]
  },
  {
   "cell_type": "code",
   "execution_count": 17,
   "id": "50e9cccc-b0e8-41a0-b6e7-059918c5882c",
   "metadata": {},
   "outputs": [
    {
     "data": {
      "image/png": "[encoded data removed]",
      "text/plain": [
       "<Figure size 2400x1200 with 10 Axes>"
      ]
     },
     "metadata": {},
     "output_type": "display_data"
    }
   ],
   "source": [
    "num_rows = 5\n",
    "num_cols = 2\n",
    "\n",
    "fig, ax = plt.subplots(figsize=(24, 12), nrows=num_rows, ncols=num_cols)\n",
    "\n",
    "fig.suptitle(\"Box plots for numeric features\", fontsize=24)\n",
    "\n",
    "for i, col in enumerate(df_numeric.columns):\n",
    "    plt.subplot(num_rows, num_cols, i + 1)\n",
    "    sns.boxplot(data=df_numeric, x=col, color=\"limegreen\")\n",
    "\n",
    "plt.subplots_adjust(top=0.9, wspace=0.1, hspace=1)"
   ]
  },
  {
   "cell_type": "markdown",
   "id": "7c4e5a0e-6b4a-4387-b5e4-8e4fab3bcbca",
   "metadata": {},
   "source": [
    "#### Insights \n",
    "- **Outlier Presence:** Features like acousticness and speechiness show a high concentration of outliers on the upper end, suggesting some tracks have unusually high values for these characteristics.\n",
    "- Energy, valence and tempo appear to be more uniformly distributed, suggesting lower variability and fewer anomalies.\n",
    "- It's also notable that Instrumentalness has a median near zero, indicating that **most tracks are not highly instrumental**."
   ]
  },
  {
   "cell_type": "markdown",
   "id": "8fcd75d4-a770-48be-a9c2-530a6536156a",
   "metadata": {},
   "source": [
    "**We'll keep these outliers for this analysis, as top music tracks often have extreme values.**"
   ]
  },
  {
   "cell_type": "markdown",
   "id": "f4e76ba6-90b2-4b44-9944-8e2dd65b8ff8",
   "metadata": {},
   "source": [
    "## 3. Exploratory Data Analysis"
   ]
  },
  {
   "cell_type": "markdown",
   "id": "06788358-fd45-4475-9130-20fd6752bda4",
   "metadata": {},
   "source": [
    "### 3.1. Summary of Dataset"
   ]
  },
  {
   "cell_type": "code",
   "execution_count": 18,
   "id": "f80ba846-5b2c-4cbd-bef4-1f29deb0664b",
   "metadata": {},
   "outputs": [],
   "source": [
    "def summarize_dataframe(df):\n",
    "    \"\"\"\n",
    "    Generate and display a summary of the dataset including\n",
    "    number of observations, number of features, and lists\n",
    "    of categorical and numeric columns.\n",
    "    \"\"\"\n",
    "    categorical = df.select_dtypes(include=\"object\").columns.tolist()\n",
    "    numerical = df.select_dtypes(include=\"number\").columns.tolist()\n",
    "\n",
    "    summary = pd.DataFrame(\n",
    "        {\n",
    "            \"Description\": [\n",
    "                \"Number of observations\",\n",
    "                \"Number of features\",\n",
    "                f\"Categorical features ({len(categorical)})\",\n",
    "                f\"Numeric features ({len(numerical)})\",\n",
    "            ],\n",
    "            \"Value\": [\n",
    "                df.shape[0],\n",
    "                df.shape[1],\n",
    "                \", \".join(categorical),\n",
    "                \", \".join(numerical),\n",
    "            ],\n",
    "        }\n",
    "    )\n",
    "\n",
    "    pd.set_option(\"display.max_colwidth\", None)\n",
    "    display(summary)"
   ]
  },
  {
   "cell_type": "code",
   "execution_count": 19,
   "id": "cca68fac-0558-45c8-9951-c9097f519662",
   "metadata": {},
   "outputs": [
    {
     "data": {
      "text/html": [
       "<div>\n",
       "<style scoped>\n",
       "    .dataframe tbody tr th:only-of-type {\n",
       "        vertical-align: middle;\n",
       "    }\n",
       "\n",
       "    .dataframe tbody tr th {\n",
       "        vertical-align: top;\n",
       "    }\n",
       "\n",
       "    .dataframe thead th {\n",
       "        text-align: right;\n",
       "    }\n",
       "</style>\n",
       "<table border=\"1\" class=\"dataframe\">\n",
       "  <thead>\n",
       "    <tr style=\"text-align: right;\">\n",
       "      <th></th>\n",
       "      <th>Description</th>\n",
       "      <th>Value</th>\n",
       "    </tr>\n",
       "  </thead>\n",
       "  <tbody>\n",
       "    <tr>\n",
       "      <th>0</th>\n",
       "      <td>Number of observations</td>\n",
       "      <td>50</td>\n",
       "    </tr>\n",
       "    <tr>\n",
       "      <th>1</th>\n",
       "      <td>Number of features</td>\n",
       "      <td>15</td>\n",
       "    </tr>\n",
       "    <tr>\n",
       "      <th>2</th>\n",
       "      <td>Categorical features (0)</td>\n",
       "      <td></td>\n",
       "    </tr>\n",
       "    <tr>\n",
       "      <th>3</th>\n",
       "      <td>Numeric features (10)</td>\n",
       "      <td>energy, danceability, loudness, acousticness, speechiness, instrumentalness, liveness, valence, tempo, duration_ms</td>\n",
       "    </tr>\n",
       "  </tbody>\n",
       "</table>\n",
       "</div>"
      ],
      "text/plain": [
       "                Description  \\\n",
       "0    Number of observations   \n",
       "1        Number of features   \n",
       "2  Categorical features (0)   \n",
       "3     Numeric features (10)   \n",
       "\n",
       "                                                                                                                Value  \n",
       "0                                                                                                                  50  \n",
       "1                                                                                                                  15  \n",
       "2                                                                                                                      \n",
       "3  energy, danceability, loudness, acousticness, speechiness, instrumentalness, liveness, valence, tempo, duration_ms  "
      ]
     },
     "metadata": {},
     "output_type": "display_data"
    }
   ],
   "source": [
    "summarize_dataframe(df)"
   ]
  },
  {
   "cell_type": "markdown",
   "id": "c234b163-e164-449c-828d-7ac9375a8510",
   "metadata": {},
   "source": [
    "### 3.2. TOP Artists Overview"
   ]
  },
  {
   "cell_type": "code",
   "execution_count": 20,
   "id": "7caea2b9-b654-40ec-9783-01e63d94ec69",
   "metadata": {},
   "outputs": [],
   "source": [
    "# Count how many times each artist appears\n",
    "artist_counts = df[\"artist\"].value_counts()"
   ]
  },
  {
   "cell_type": "code",
   "execution_count": 21,
   "id": "c82417ab-c06e-4201-8461-8b9abdf0b87f",
   "metadata": {},
   "outputs": [],
   "source": [
    "def summarize_artists_table(artist_counts, min_tracks=2):\n",
    "    \"\"\"\n",
    "    Return a DataFrame of artists with > 1 tracks.\n",
    "    Adds a 'status' column to indicate top artist(s).\n",
    "    \"\"\"\n",
    "    max_tracks = artist_counts.max()\n",
    "\n",
    "    # Filter artists with ≥ min_tracks\n",
    "    popular_artists = artist_counts[artist_counts >= min_tracks]\n",
    "    df_popular = popular_artists.reset_index()\n",
    "    df_popular.columns = [\"artist\", \"num_top_tracks\"]\n",
    "\n",
    "    # Tag top artist(s)\n",
    "    df_popular[\"status\"] = df_popular[\"num_top_tracks\"].apply(\n",
    "        lambda x: \"Top Artist\" if x == max_tracks else \"Multiple Tracks\"\n",
    "    )\n",
    "\n",
    "    print(\n",
    "        f\"Total Artists: {len(df_popular) + (artist_counts == 1).sum()}\\n\"\n",
    "        f\"Top artist(s) with {max_tracks} track(s): \"\n",
    "        f\"{', '.join(df_popular[df_popular[\"num_top_tracks\"] == max_tracks][\"artist\"])}\"\n",
    "    )\n",
    "    print(\n",
    "        f\"Artists with ≥ {min_tracks} top track(s): {len(df_popular)}\\n\"\n",
    "        f\"Artists with 1 top track: {(artist_counts == 1).sum()}\\n\"\n",
    "    )\n",
    "\n",
    "    return df_popular.sort_values(by=\"num_top_tracks\", ascending=False)"
   ]
  },
  {
   "cell_type": "code",
   "execution_count": 22,
   "id": "b91bc2c8-b1c3-4375-9ae3-f8baa4c50c1a",
   "metadata": {},
   "outputs": [
    {
     "name": "stdout",
     "output_type": "stream",
     "text": [
      "Total Artists: 40\n",
      "Top artist(s) with 3 track(s): Billie Eilish, Travis Scott, Dua Lipa\n",
      "Artists with ≥ 2 top track(s): 7\n",
      "Artists with 1 top track: 33\n",
      "\n"
     ]
    },
    {
     "data": {
      "text/html": [
       "<div>\n",
       "<style scoped>\n",
       "    .dataframe tbody tr th:only-of-type {\n",
       "        vertical-align: middle;\n",
       "    }\n",
       "\n",
       "    .dataframe tbody tr th {\n",
       "        vertical-align: top;\n",
       "    }\n",
       "\n",
       "    .dataframe thead th {\n",
       "        text-align: right;\n",
       "    }\n",
       "</style>\n",
       "<table border=\"1\" class=\"dataframe\">\n",
       "  <thead>\n",
       "    <tr style=\"text-align: right;\">\n",
       "      <th></th>\n",
       "      <th>artist</th>\n",
       "      <th>num_top_tracks</th>\n",
       "      <th>status</th>\n",
       "    </tr>\n",
       "  </thead>\n",
       "  <tbody>\n",
       "    <tr>\n",
       "      <th>0</th>\n",
       "      <td>Billie Eilish</td>\n",
       "      <td>3</td>\n",
       "      <td>Top Artist</td>\n",
       "    </tr>\n",
       "    <tr>\n",
       "      <th>1</th>\n",
       "      <td>Travis Scott</td>\n",
       "      <td>3</td>\n",
       "      <td>Top Artist</td>\n",
       "    </tr>\n",
       "    <tr>\n",
       "      <th>2</th>\n",
       "      <td>Dua Lipa</td>\n",
       "      <td>3</td>\n",
       "      <td>Top Artist</td>\n",
       "    </tr>\n",
       "    <tr>\n",
       "      <th>3</th>\n",
       "      <td>Justin Bieber</td>\n",
       "      <td>2</td>\n",
       "      <td>Multiple Tracks</td>\n",
       "    </tr>\n",
       "    <tr>\n",
       "      <th>4</th>\n",
       "      <td>Harry Styles</td>\n",
       "      <td>2</td>\n",
       "      <td>Multiple Tracks</td>\n",
       "    </tr>\n",
       "    <tr>\n",
       "      <th>5</th>\n",
       "      <td>Lewis Capaldi</td>\n",
       "      <td>2</td>\n",
       "      <td>Multiple Tracks</td>\n",
       "    </tr>\n",
       "    <tr>\n",
       "      <th>6</th>\n",
       "      <td>Post Malone</td>\n",
       "      <td>2</td>\n",
       "      <td>Multiple Tracks</td>\n",
       "    </tr>\n",
       "  </tbody>\n",
       "</table>\n",
       "</div>"
      ],
      "text/plain": [
       "          artist  num_top_tracks           status\n",
       "0  Billie Eilish               3       Top Artist\n",
       "1   Travis Scott               3       Top Artist\n",
       "2       Dua Lipa               3       Top Artist\n",
       "3  Justin Bieber               2  Multiple Tracks\n",
       "4   Harry Styles               2  Multiple Tracks\n",
       "5  Lewis Capaldi               2  Multiple Tracks\n",
       "6    Post Malone               2  Multiple Tracks"
      ]
     },
     "metadata": {},
     "output_type": "display_data"
    }
   ],
   "source": [
    "df_summary = summarize_artists_table(artist_counts)\n",
    "display(df_summary)"
   ]
  },
  {
   "cell_type": "markdown",
   "id": "fccf8a11-aeae-4af5-97ce-15599a9cb16f",
   "metadata": {},
   "source": [
    "#### Insights \n",
    "- There are 40 artists in the Top 50 list.\n",
    "- The most popular artists: **Billie Eilish, Dua Lipa, Travis Scott** each having 3 of their tracks in the list.\n",
    "- Justin Bieber, Harry Styles, Lewis Capaldi, Post Malone has 2 of their tracks on the list."
   ]
  },
  {
   "cell_type": "markdown",
   "id": "b6ecab12-294b-4b29-b057-993d61eef716",
   "metadata": {},
   "source": [
    "### 3.3. Number of Artists by Track Visualization"
   ]
  },
  {
   "cell_type": "code",
   "execution_count": 23,
   "id": "543607f5-4ec0-4fc9-aa63-4ba0952d5458",
   "metadata": {},
   "outputs": [],
   "source": [
    "# How many artists fall into each count bucket\n",
    "artist_freq = artist_counts.value_counts().sort_index()\n",
    "\n",
    "# Create a DataFrame for plotting\n",
    "df_artist_freq = artist_freq.reset_index(name=\"num_artists\")\n",
    "df_artist_freq.columns = [\"track_count\", \"num_artists\"]"
   ]
  },
  {
   "cell_type": "code",
   "execution_count": 24,
   "id": "b4531f87-81c4-4d46-9add-1ebfc7030c95",
   "metadata": {},
   "outputs": [
    {
     "data": {
      "image/png": "[encoded data removed]",
      "text/plain": [
       "<Figure size 600x400 with 1 Axes>"
      ]
     },
     "metadata": {},
     "output_type": "display_data"
    }
   ],
   "source": [
    "# Plotting\n",
    "plt.figure(figsize=(6, 4))\n",
    "ax = sns.barplot(\n",
    "    x=\"track_count\",\n",
    "    y=\"num_artists\",\n",
    "    data=df_artist_freq,\n",
    "    palette=\"pastel\",\n",
    "    hue=\"track_count\",\n",
    "    legend=False,\n",
    ")\n",
    "\n",
    "for container in ax.containers:\n",
    "    ax.bar_label(container, fmt=\"%d\", label_type=\"center\", padding=-2)\n",
    "\n",
    "plt.title(\"Number of Artists by Track Count\")\n",
    "plt.xlabel(\"Number of Tracks\")\n",
    "plt.ylabel(\"Number of Artists\")\n",
    "plt.xticks(rotation=0)\n",
    "plt.tight_layout()\n",
    "plt.show()"
   ]
  },
  {
   "cell_type": "markdown",
   "id": "28250d2a-1523-4682-9c69-128b3eba1c46",
   "metadata": {},
   "source": [
    "#### Insights \n",
    "- **82.5%** (33 out of 40) of artists in Top 50 **have only one track**.\n",
    "- 7 artists have multiple tracks, with 4 artists contributing two tracks and 3 artists contributing three tracks."
   ]
  },
  {
   "cell_type": "markdown",
   "id": "1aefbdf0-023d-49dd-996d-c1bac12530b8",
   "metadata": {},
   "source": [
    "### 3.4. TOP Albums"
   ]
  },
  {
   "cell_type": "code",
   "execution_count": 25,
   "id": "4344c361-00ed-4cb0-84a5-d3021a741435",
   "metadata": {},
   "outputs": [],
   "source": [
    "def summarize_top_albums(df, min_tracks=2):\n",
    "    \"\"\"\n",
    "    Summarize albums that have > 1 track in top tracks.\n",
    "    Returns a sorted DataFrame with album name, artist, and number of top tracks.\n",
    "    \"\"\"\n",
    "    # Count number of top tracks per album\n",
    "    album_counts = df[\"album\"].value_counts()\n",
    "    multi_track_albums = album_counts[album_counts >= min_tracks].index\n",
    "\n",
    "    # Filter only albums meeting the threshold\n",
    "    df_multi = df[df[\"album\"].isin(multi_track_albums)]\n",
    "\n",
    "    # Group summary by album\n",
    "    df_album_summary = (\n",
    "        df_multi.groupby(\"album\")\n",
    "        .agg(artist=(\"artist\", \"first\"), num_top_tracks=(\"track_name\", \"count\"))\n",
    "        .reset_index()\n",
    "        .sort_values(by=\"num_top_tracks\", ascending=False).reset_index(drop=True)\n",
    "    )\n",
    "\n",
    "    # Reorder columns\n",
    "    df_album_summary = df_album_summary[[\"album\", \"artist\", \"num_top_tracks\"]]\n",
    "\n",
    "    return df_album_summary"
   ]
  },
  {
   "cell_type": "code",
   "execution_count": 26,
   "id": "8b8c9677-f6b9-4479-9d71-95815b39802c",
   "metadata": {},
   "outputs": [
    {
     "data": {
      "text/html": [
       "<div>\n",
       "<style scoped>\n",
       "    .dataframe tbody tr th:only-of-type {\n",
       "        vertical-align: middle;\n",
       "    }\n",
       "\n",
       "    .dataframe tbody tr th {\n",
       "        vertical-align: top;\n",
       "    }\n",
       "\n",
       "    .dataframe thead th {\n",
       "        text-align: right;\n",
       "    }\n",
       "</style>\n",
       "<table border=\"1\" class=\"dataframe\">\n",
       "  <thead>\n",
       "    <tr style=\"text-align: right;\">\n",
       "      <th></th>\n",
       "      <th>album</th>\n",
       "      <th>artist</th>\n",
       "      <th>num_top_tracks</th>\n",
       "    </tr>\n",
       "  </thead>\n",
       "  <tbody>\n",
       "    <tr>\n",
       "      <th>0</th>\n",
       "      <td>Future Nostalgia</td>\n",
       "      <td>Dua Lipa</td>\n",
       "      <td>3</td>\n",
       "    </tr>\n",
       "    <tr>\n",
       "      <th>1</th>\n",
       "      <td>Changes</td>\n",
       "      <td>Justin Bieber</td>\n",
       "      <td>2</td>\n",
       "    </tr>\n",
       "    <tr>\n",
       "      <th>2</th>\n",
       "      <td>Fine Line</td>\n",
       "      <td>Harry Styles</td>\n",
       "      <td>2</td>\n",
       "    </tr>\n",
       "    <tr>\n",
       "      <th>3</th>\n",
       "      <td>Hollywood'S Bleeding</td>\n",
       "      <td>Post Malone</td>\n",
       "      <td>2</td>\n",
       "    </tr>\n",
       "  </tbody>\n",
       "</table>\n",
       "</div>"
      ],
      "text/plain": [
       "                  album         artist  num_top_tracks\n",
       "0      Future Nostalgia       Dua Lipa               3\n",
       "1               Changes  Justin Bieber               2\n",
       "2             Fine Line   Harry Styles               2\n",
       "3  Hollywood'S Bleeding    Post Malone               2"
      ]
     },
     "metadata": {},
     "output_type": "display_data"
    }
   ],
   "source": [
    "display(summarize_top_albums(df))"
   ]
  },
  {
   "cell_type": "code",
   "execution_count": 27,
   "id": "bc835218-e147-496b-bb13-1440fd654aca",
   "metadata": {},
   "outputs": [
    {
     "name": "stdout",
     "output_type": "stream",
     "text": [
      "Total number of unique albums: 45\n"
     ]
    }
   ],
   "source": [
    "unique_albums = df[\"album\"].nunique()\n",
    "print(f\"Total number of unique albums: {unique_albums}\")"
   ]
  },
  {
   "cell_type": "markdown",
   "id": "a170b690-63e2-4a0a-b25a-ed7bdb756055",
   "metadata": {},
   "source": [
    "#### Insights \n",
    "- There are 45 albums appearing in the Top 50 list.\n",
    "- 4 Albums appear more than one time\n",
    "- **'Future Nostalgia'** by Dua Lipa is the most popular one, contributing 3 times."
   ]
  },
  {
   "cell_type": "markdown",
   "id": "5390eeae-bb09-4ee5-8963-ad656569c077",
   "metadata": {},
   "source": [
    "### 3.5. Feature Overview"
   ]
  },
  {
   "cell_type": "markdown",
   "id": "6cd948db-e380-4568-a5b8-fa029599b81a",
   "metadata": {},
   "source": [
    "#### 3.5.1. Danceability"
   ]
  },
  {
   "cell_type": "markdown",
   "id": "c1ce3537-d781-4f1b-91b8-079622297434",
   "metadata": {},
   "source": [
    "**High Danceability**"
   ]
  },
  {
   "cell_type": "markdown",
   "id": "75ffb268-6f54-4f3e-ab19-64556a9e2b98",
   "metadata": {},
   "source": [
    "Danceability values **above 0.7** are used as a threshold to define \"high.\" This implies that the track possesses a strong, consistent rhythm, stable tempo, and overall feel that makes it easy to dance to."
   ]
  },
  {
   "cell_type": "code",
   "execution_count": 28,
   "id": "e16c6ede-d594-46a8-83ec-88190534a5b8",
   "metadata": {},
   "outputs": [],
   "source": [
    "def high_danceability_tracks(df, threshold=0.7):\n",
    "    \"\"\"\n",
    "    Prints and returns tracks with danceability above the given threshold.\n",
    "    \"\"\"\n",
    "    tracks = df[df[\"danceability\"] > threshold].sort_values(\n",
    "        \"danceability\", ascending=False\n",
    "    )\n",
    "    print(\n",
    "        f\"There are {len(tracks)} track(s) that have a danceability score above {threshold}\\n\"\n",
    "    )\n",
    "    return tracks.head()"
   ]
  },
  {
   "cell_type": "code",
   "execution_count": 29,
   "id": "3c686e9c-b7bb-4249-86a5-d71166e736c3",
   "metadata": {},
   "outputs": [
    {
     "name": "stdout",
     "output_type": "stream",
     "text": [
      "There are 32 track(s) that have a danceability score above 0.7\n",
      "\n"
     ]
    },
    {
     "data": {
      "text/html": [
       "<div>\n",
       "<style scoped>\n",
       "    .dataframe tbody tr th:only-of-type {\n",
       "        vertical-align: middle;\n",
       "    }\n",
       "\n",
       "    .dataframe tbody tr th {\n",
       "        vertical-align: top;\n",
       "    }\n",
       "\n",
       "    .dataframe thead th {\n",
       "        text-align: right;\n",
       "    }\n",
       "</style>\n",
       "<table border=\"1\" class=\"dataframe\">\n",
       "  <thead>\n",
       "    <tr style=\"text-align: right;\">\n",
       "      <th></th>\n",
       "      <th>artist</th>\n",
       "      <th>album</th>\n",
       "      <th>track_name</th>\n",
       "      <th>energy</th>\n",
       "      <th>danceability</th>\n",
       "      <th>key</th>\n",
       "      <th>loudness</th>\n",
       "      <th>acousticness</th>\n",
       "      <th>speechiness</th>\n",
       "      <th>instrumentalness</th>\n",
       "      <th>liveness</th>\n",
       "      <th>valence</th>\n",
       "      <th>tempo</th>\n",
       "      <th>duration_ms</th>\n",
       "      <th>genre</th>\n",
       "    </tr>\n",
       "  </thead>\n",
       "  <tbody>\n",
       "    <tr>\n",
       "      <th>27</th>\n",
       "      <td>Cardi B</td>\n",
       "      <td>Wap (Feat. Megan Thee Stallion)</td>\n",
       "      <td>Wap (Feat. Megan Thee Stallion)</td>\n",
       "      <td>0.454</td>\n",
       "      <td>0.935</td>\n",
       "      <td>1</td>\n",
       "      <td>-7.509</td>\n",
       "      <td>0.0194</td>\n",
       "      <td>0.3750</td>\n",
       "      <td>0.000000</td>\n",
       "      <td>0.0824</td>\n",
       "      <td>0.357</td>\n",
       "      <td>133.073</td>\n",
       "      <td>187541</td>\n",
       "      <td>Hip-Hop/Trap</td>\n",
       "    </tr>\n",
       "    <tr>\n",
       "      <th>2</th>\n",
       "      <td>Roddy Ricch</td>\n",
       "      <td>Please Excuse Me For Being Antisocial</td>\n",
       "      <td>The Box</td>\n",
       "      <td>0.586</td>\n",
       "      <td>0.896</td>\n",
       "      <td>10</td>\n",
       "      <td>-6.687</td>\n",
       "      <td>0.1040</td>\n",
       "      <td>0.0559</td>\n",
       "      <td>0.000000</td>\n",
       "      <td>0.7900</td>\n",
       "      <td>0.642</td>\n",
       "      <td>116.971</td>\n",
       "      <td>196653</td>\n",
       "      <td>Hip-Hop/Rap</td>\n",
       "    </tr>\n",
       "    <tr>\n",
       "      <th>39</th>\n",
       "      <td>Regard</td>\n",
       "      <td>Ride It</td>\n",
       "      <td>Ride It</td>\n",
       "      <td>0.751</td>\n",
       "      <td>0.880</td>\n",
       "      <td>7</td>\n",
       "      <td>-4.258</td>\n",
       "      <td>0.1770</td>\n",
       "      <td>0.0874</td>\n",
       "      <td>0.000064</td>\n",
       "      <td>0.1060</td>\n",
       "      <td>0.884</td>\n",
       "      <td>117.948</td>\n",
       "      <td>157606</td>\n",
       "      <td>Dance/Electronic</td>\n",
       "    </tr>\n",
       "    <tr>\n",
       "      <th>28</th>\n",
       "      <td>Surfaces</td>\n",
       "      <td>Where The Light Is</td>\n",
       "      <td>Sunday Best</td>\n",
       "      <td>0.525</td>\n",
       "      <td>0.878</td>\n",
       "      <td>5</td>\n",
       "      <td>-6.832</td>\n",
       "      <td>0.1830</td>\n",
       "      <td>0.0578</td>\n",
       "      <td>0.000000</td>\n",
       "      <td>0.0714</td>\n",
       "      <td>0.694</td>\n",
       "      <td>112.022</td>\n",
       "      <td>158571</td>\n",
       "      <td>Electro-pop</td>\n",
       "    </tr>\n",
       "    <tr>\n",
       "      <th>33</th>\n",
       "      <td>Benee</td>\n",
       "      <td>Hey U X</td>\n",
       "      <td>Supalonely (Feat. Gus Dapperton)</td>\n",
       "      <td>0.631</td>\n",
       "      <td>0.862</td>\n",
       "      <td>7</td>\n",
       "      <td>-4.746</td>\n",
       "      <td>0.2910</td>\n",
       "      <td>0.0515</td>\n",
       "      <td>0.000209</td>\n",
       "      <td>0.1230</td>\n",
       "      <td>0.841</td>\n",
       "      <td>128.978</td>\n",
       "      <td>223488</td>\n",
       "      <td>Alternative/Indie</td>\n",
       "    </tr>\n",
       "  </tbody>\n",
       "</table>\n",
       "</div>"
      ],
      "text/plain": [
       "         artist                                  album  \\\n",
       "27      Cardi B        Wap (Feat. Megan Thee Stallion)   \n",
       "2   Roddy Ricch  Please Excuse Me For Being Antisocial   \n",
       "39       Regard                                Ride It   \n",
       "28     Surfaces                     Where The Light Is   \n",
       "33        Benee                                Hey U X   \n",
       "\n",
       "                          track_name  energy  danceability key  loudness  \\\n",
       "27   Wap (Feat. Megan Thee Stallion)   0.454         0.935   1    -7.509   \n",
       "2                            The Box   0.586         0.896  10    -6.687   \n",
       "39                           Ride It   0.751         0.880   7    -4.258   \n",
       "28                       Sunday Best   0.525         0.878   5    -6.832   \n",
       "33  Supalonely (Feat. Gus Dapperton)   0.631         0.862   7    -4.746   \n",
       "\n",
       "    acousticness  speechiness  instrumentalness  liveness  valence    tempo  \\\n",
       "27        0.0194       0.3750          0.000000    0.0824    0.357  133.073   \n",
       "2         0.1040       0.0559          0.000000    0.7900    0.642  116.971   \n",
       "39        0.1770       0.0874          0.000064    0.1060    0.884  117.948   \n",
       "28        0.1830       0.0578          0.000000    0.0714    0.694  112.022   \n",
       "33        0.2910       0.0515          0.000209    0.1230    0.841  128.978   \n",
       "\n",
       "    duration_ms              genre  \n",
       "27       187541       Hip-Hop/Trap  \n",
       "2        196653        Hip-Hop/Rap  \n",
       "39       157606   Dance/Electronic  \n",
       "28       158571        Electro-pop  \n",
       "33       223488  Alternative/Indie  "
      ]
     },
     "execution_count": 29,
     "metadata": {},
     "output_type": "execute_result"
    }
   ],
   "source": [
    "high_danceability_tracks(df)"
   ]
  },
  {
   "cell_type": "markdown",
   "id": "bf7eb815-0f48-4662-8d41-45daf33cdf84",
   "metadata": {},
   "source": [
    "#### Insights\n",
    "- A significant majority **64%** (32 out of 50) of 2020's top tracks contribute high danceability scores (above 0.7)\n",
    "- The most danceable track: Cardi B's Hip-Hop/Trap hit **'WAP' (Feat. Megan Thee Stallion)**, with score of 0.935"
   ]
  },
  {
   "cell_type": "markdown",
   "id": "594097ab-bbbc-423c-8d3d-db9c9ed3e41c",
   "metadata": {},
   "source": [
    "**Low Danceability**"
   ]
  },
  {
   "cell_type": "markdown",
   "id": "06817570-a819-4e76-b911-81d52efc37c3",
   "metadata": {},
   "source": [
    "Danceability values **below 0.40** indicate that a track has a less prominent beat, an irregular tempo, or a structure that doesn't lend itself easily to dancing."
   ]
  },
  {
   "cell_type": "code",
   "execution_count": 30,
   "id": "589a3649-7f2e-4af8-859f-03bdbe085670",
   "metadata": {},
   "outputs": [],
   "source": [
    "def low_danceability_tracks(df, threshold=0.4):\n",
    "    \"\"\"\n",
    "    Prints and returns tracks with danceability below the given threshold.\n",
    "    \"\"\"\n",
    "    tracks = df[df[\"danceability\"] < threshold].sort_values(\"danceability\")\n",
    "    print(\n",
    "        f\"There are {len(tracks)} track(s) that have a danceability score below {threshold}\\n\"\n",
    "    )\n",
    "    return tracks.head()"
   ]
  },
  {
   "cell_type": "code",
   "execution_count": 31,
   "id": "5eae7a01-4598-46be-92da-f04d9b1606bb",
   "metadata": {},
   "outputs": [
    {
     "name": "stdout",
     "output_type": "stream",
     "text": [
      "There are 1 track(s) that have a danceability score below 0.4\n",
      "\n"
     ]
    },
    {
     "data": {
      "text/html": [
       "<div>\n",
       "<style scoped>\n",
       "    .dataframe tbody tr th:only-of-type {\n",
       "        vertical-align: middle;\n",
       "    }\n",
       "\n",
       "    .dataframe tbody tr th {\n",
       "        vertical-align: top;\n",
       "    }\n",
       "\n",
       "    .dataframe thead th {\n",
       "        text-align: right;\n",
       "    }\n",
       "</style>\n",
       "<table border=\"1\" class=\"dataframe\">\n",
       "  <thead>\n",
       "    <tr style=\"text-align: right;\">\n",
       "      <th></th>\n",
       "      <th>artist</th>\n",
       "      <th>album</th>\n",
       "      <th>track_name</th>\n",
       "      <th>energy</th>\n",
       "      <th>danceability</th>\n",
       "      <th>key</th>\n",
       "      <th>loudness</th>\n",
       "      <th>acousticness</th>\n",
       "      <th>speechiness</th>\n",
       "      <th>instrumentalness</th>\n",
       "      <th>liveness</th>\n",
       "      <th>valence</th>\n",
       "      <th>tempo</th>\n",
       "      <th>duration_ms</th>\n",
       "      <th>genre</th>\n",
       "    </tr>\n",
       "  </thead>\n",
       "  <tbody>\n",
       "    <tr>\n",
       "      <th>44</th>\n",
       "      <td>Billie Eilish</td>\n",
       "      <td>Lovely (With Khalid)</td>\n",
       "      <td>Lovely (With Khalid)</td>\n",
       "      <td>0.296</td>\n",
       "      <td>0.351</td>\n",
       "      <td>4</td>\n",
       "      <td>-10.109</td>\n",
       "      <td>0.934</td>\n",
       "      <td>0.0333</td>\n",
       "      <td>0.0</td>\n",
       "      <td>0.095</td>\n",
       "      <td>0.12</td>\n",
       "      <td>115.284</td>\n",
       "      <td>200186</td>\n",
       "      <td>Chamber pop</td>\n",
       "    </tr>\n",
       "  </tbody>\n",
       "</table>\n",
       "</div>"
      ],
      "text/plain": [
       "           artist                 album            track_name  energy  \\\n",
       "44  Billie Eilish  Lovely (With Khalid)  Lovely (With Khalid)   0.296   \n",
       "\n",
       "    danceability key  loudness  acousticness  speechiness  instrumentalness  \\\n",
       "44         0.351   4   -10.109         0.934       0.0333               0.0   \n",
       "\n",
       "    liveness  valence    tempo  duration_ms        genre  \n",
       "44     0.095     0.12  115.284       200186  Chamber pop  "
      ]
     },
     "execution_count": 31,
     "metadata": {},
     "output_type": "execute_result"
    }
   ],
   "source": [
    "low_danceability_tracks(df)"
   ]
  },
  {
   "cell_type": "markdown",
   "id": "172194c4-4724-446d-b880-39178e0749c7",
   "metadata": {},
   "source": [
    "#### Insights\n",
    "- Only **2%** (1 out of 50) registered with a low danceability score, indicating its rarity among chart-topping hits.\n",
    "- Lowest Danceability track was Chamber pop hit **'Lovely (With Khalid)'** by Billie Eilish with score of 0.351"
   ]
  },
  {
   "cell_type": "markdown",
   "id": "2f92bd00-5777-4d15-ab60-22de894dddcf",
   "metadata": {},
   "source": [
    "#### 3.5.2. Loudness"
   ]
  },
  {
   "cell_type": "markdown",
   "id": "8ec4e198-3580-4152-9ee0-b72a5a07a039",
   "metadata": {},
   "source": [
    "**High Loudness**"
   ]
  },
  {
   "cell_type": "markdown",
   "id": "bd7dd55e-350e-4283-bce7-c789f82e4561",
   "metadata": {},
   "source": [
    "0 dB represents the maximum possible loudness, values approaching it: **-1.0 dB to -5.0 dB** are considered very high."
   ]
  },
  {
   "cell_type": "code",
   "execution_count": 32,
   "id": "9a3113c2-e635-49d7-a603-e7163ec7e5b1",
   "metadata": {},
   "outputs": [],
   "source": [
    "def high_loudness_tracks(df, threshold=-5):\n",
    "    \"\"\"\n",
    "    Prints and returns tracks with loudness above the given threshold.\n",
    "    \"\"\"\n",
    "    tracks = df[df[\"loudness\"] > threshold].sort_values(\"loudness\", ascending=False)\n",
    "    print(\n",
    "        f\"There are {len(tracks)} track(s) that have a loudness score above {threshold}\\n\"\n",
    "    )\n",
    "    return tracks.head()"
   ]
  },
  {
   "cell_type": "code",
   "execution_count": 33,
   "id": "353c0e8e-bfcd-47bf-9e06-fc5bc02e759b",
   "metadata": {},
   "outputs": [
    {
     "name": "stdout",
     "output_type": "stream",
     "text": [
      "There are 19 track(s) that have a loudness score above -5\n",
      "\n"
     ]
    },
    {
     "data": {
      "text/html": [
       "<div>\n",
       "<style scoped>\n",
       "    .dataframe tbody tr th:only-of-type {\n",
       "        vertical-align: middle;\n",
       "    }\n",
       "\n",
       "    .dataframe tbody tr th {\n",
       "        vertical-align: top;\n",
       "    }\n",
       "\n",
       "    .dataframe thead th {\n",
       "        text-align: right;\n",
       "    }\n",
       "</style>\n",
       "<table border=\"1\" class=\"dataframe\">\n",
       "  <thead>\n",
       "    <tr style=\"text-align: right;\">\n",
       "      <th></th>\n",
       "      <th>artist</th>\n",
       "      <th>album</th>\n",
       "      <th>track_name</th>\n",
       "      <th>energy</th>\n",
       "      <th>danceability</th>\n",
       "      <th>key</th>\n",
       "      <th>loudness</th>\n",
       "      <th>acousticness</th>\n",
       "      <th>speechiness</th>\n",
       "      <th>instrumentalness</th>\n",
       "      <th>liveness</th>\n",
       "      <th>valence</th>\n",
       "      <th>tempo</th>\n",
       "      <th>duration_ms</th>\n",
       "      <th>genre</th>\n",
       "    </tr>\n",
       "  </thead>\n",
       "  <tbody>\n",
       "    <tr>\n",
       "      <th>10</th>\n",
       "      <td>Karol G</td>\n",
       "      <td>Tusa</td>\n",
       "      <td>Tusa</td>\n",
       "      <td>0.715</td>\n",
       "      <td>0.803</td>\n",
       "      <td>2</td>\n",
       "      <td>-3.280</td>\n",
       "      <td>0.2950</td>\n",
       "      <td>0.2980</td>\n",
       "      <td>0.000134</td>\n",
       "      <td>0.0574</td>\n",
       "      <td>0.574</td>\n",
       "      <td>101.085</td>\n",
       "      <td>200960</td>\n",
       "      <td>Pop</td>\n",
       "    </tr>\n",
       "    <tr>\n",
       "      <th>40</th>\n",
       "      <td>Travis Scott</td>\n",
       "      <td>Birds In The Trap Sing Mcknight</td>\n",
       "      <td>Goosebumps</td>\n",
       "      <td>0.728</td>\n",
       "      <td>0.841</td>\n",
       "      <td>7</td>\n",
       "      <td>-3.370</td>\n",
       "      <td>0.0847</td>\n",
       "      <td>0.0484</td>\n",
       "      <td>0.000000</td>\n",
       "      <td>0.1490</td>\n",
       "      <td>0.430</td>\n",
       "      <td>130.049</td>\n",
       "      <td>243837</td>\n",
       "      <td>Hip-Hop/Rap</td>\n",
       "    </tr>\n",
       "    <tr>\n",
       "      <th>31</th>\n",
       "      <td>Dua Lipa</td>\n",
       "      <td>Future Nostalgia</td>\n",
       "      <td>Break My Heart</td>\n",
       "      <td>0.729</td>\n",
       "      <td>0.730</td>\n",
       "      <td>4</td>\n",
       "      <td>-3.434</td>\n",
       "      <td>0.1670</td>\n",
       "      <td>0.0883</td>\n",
       "      <td>0.000001</td>\n",
       "      <td>0.3490</td>\n",
       "      <td>0.467</td>\n",
       "      <td>113.013</td>\n",
       "      <td>221820</td>\n",
       "      <td>Dance-pop/Disco</td>\n",
       "    </tr>\n",
       "    <tr>\n",
       "      <th>38</th>\n",
       "      <td>Maluma</td>\n",
       "      <td>Papi Juancho</td>\n",
       "      <td>Hawái</td>\n",
       "      <td>0.727</td>\n",
       "      <td>0.783</td>\n",
       "      <td>6</td>\n",
       "      <td>-3.454</td>\n",
       "      <td>0.1850</td>\n",
       "      <td>0.3890</td>\n",
       "      <td>0.000025</td>\n",
       "      <td>0.0626</td>\n",
       "      <td>0.558</td>\n",
       "      <td>180.067</td>\n",
       "      <td>199112</td>\n",
       "      <td>Pop</td>\n",
       "    </tr>\n",
       "    <tr>\n",
       "      <th>12</th>\n",
       "      <td>Post Malone</td>\n",
       "      <td>Hollywood'S Bleeding</td>\n",
       "      <td>Circles</td>\n",
       "      <td>0.762</td>\n",
       "      <td>0.695</td>\n",
       "      <td>0</td>\n",
       "      <td>-3.497</td>\n",
       "      <td>0.1920</td>\n",
       "      <td>0.0395</td>\n",
       "      <td>0.002440</td>\n",
       "      <td>0.0863</td>\n",
       "      <td>0.553</td>\n",
       "      <td>120.042</td>\n",
       "      <td>215280</td>\n",
       "      <td>Pop/Soft Rock</td>\n",
       "    </tr>\n",
       "  </tbody>\n",
       "</table>\n",
       "</div>"
      ],
      "text/plain": [
       "          artist                            album      track_name  energy  \\\n",
       "10       Karol G                             Tusa            Tusa   0.715   \n",
       "40  Travis Scott  Birds In The Trap Sing Mcknight      Goosebumps   0.728   \n",
       "31      Dua Lipa                 Future Nostalgia  Break My Heart   0.729   \n",
       "38        Maluma                     Papi Juancho           Hawái   0.727   \n",
       "12   Post Malone             Hollywood'S Bleeding         Circles   0.762   \n",
       "\n",
       "    danceability key  loudness  acousticness  speechiness  instrumentalness  \\\n",
       "10         0.803   2    -3.280        0.2950       0.2980          0.000134   \n",
       "40         0.841   7    -3.370        0.0847       0.0484          0.000000   \n",
       "31         0.730   4    -3.434        0.1670       0.0883          0.000001   \n",
       "38         0.783   6    -3.454        0.1850       0.3890          0.000025   \n",
       "12         0.695   0    -3.497        0.1920       0.0395          0.002440   \n",
       "\n",
       "    liveness  valence    tempo  duration_ms            genre  \n",
       "10    0.0574    0.574  101.085       200960              Pop  \n",
       "40    0.1490    0.430  130.049       243837      Hip-Hop/Rap  \n",
       "31    0.3490    0.467  113.013       221820  Dance-pop/Disco  \n",
       "38    0.0626    0.558  180.067       199112              Pop  \n",
       "12    0.0863    0.553  120.042       215280    Pop/Soft Rock  "
      ]
     },
     "execution_count": 33,
     "metadata": {},
     "output_type": "execute_result"
    }
   ],
   "source": [
    "high_loudness_tracks(df)"
   ]
  },
  {
   "cell_type": "markdown",
   "id": "4f6bb4c4-8f5e-4a57-9e09-0eb808cc6469",
   "metadata": {},
   "source": [
    "#### Insights\n",
    "- Nearly **40%** of the Top 50 tracks (19 songs) register high loudness scores\n",
    "- Pop hit **'Tusa'** by Karol G stands out as the loudest track in the dataset. (-3.280 dB)"
   ]
  },
  {
   "cell_type": "markdown",
   "id": "6888a37c-76dc-4305-ae96-500168d20826",
   "metadata": {},
   "source": [
    "**Low Loudness**"
   ]
  },
  {
   "cell_type": "markdown",
   "id": "e74136bb-7467-4e1a-bf78-22214da39b37",
   "metadata": {},
   "source": [
    "Loudness score is generally considered low when it is: -15.0 dB to -25.0 dB\n",
    "These values indicate a track that is significantly quieter."
   ]
  },
  {
   "cell_type": "markdown",
   "id": "0600a0c8-2415-4aa7-9f3e-db471f837556",
   "metadata": {},
   "source": [
    "Since there are no values in our dataset in this range, we calculate \"low\" relative to the other tracks in Top 50."
   ]
  },
  {
   "cell_type": "code",
   "execution_count": 34,
   "id": "5459c1ad-8ce8-4268-adb3-dac7026fcecd",
   "metadata": {},
   "outputs": [
    {
     "name": "stdout",
     "output_type": "stream",
     "text": [
      "\n",
      "--- Quartiles for Loudness ---\n",
      "25th Percentile (Q1) Loudness: -7.553 dB\n",
      "50th Percentile (Median) Loudness: -5.992 dB\n",
      "75th Percentile (Q3) Loudness: -4.285 dB\n"
     ]
    }
   ],
   "source": [
    "print(\"\\n--- Quartiles for Loudness ---\")\n",
    "loudness_q1 = df[\"loudness\"].quantile(0.25)\n",
    "loudness_median = df[\"loudness\"].quantile(0.50)\n",
    "loudness_q3 = df[\"loudness\"].quantile(0.75)\n",
    "\n",
    "print(f\"25th Percentile (Q1) Loudness: {loudness_q1:.3f} dB\")\n",
    "print(f\"50th Percentile (Median) Loudness: {loudness_median:.3f} dB\")\n",
    "print(f\"75th Percentile (Q3) Loudness: {loudness_q3:.3f} dB\")"
   ]
  },
  {
   "cell_type": "markdown",
   "id": "ae499749-c7cc-4bf2-82e8-9ec8166bc29f",
   "metadata": {},
   "source": [
    "- Will use the rounded 25th Percentile of **-8 dB**"
   ]
  },
  {
   "cell_type": "code",
   "execution_count": 35,
   "id": "9a287ca6-8715-41c2-a05c-36fe62a78db1",
   "metadata": {},
   "outputs": [],
   "source": [
    "def low_loudness_tracks(df, threshold=-8):\n",
    "    \"\"\"\n",
    "    Prints and returns tracks with loudness below the given threshold.\n",
    "    \"\"\"\n",
    "    tracks = df[df[\"loudness\"] < threshold].sort_values(\"loudness\")\n",
    "    print(\n",
    "        f\"There are {len(tracks)} track(s) that have a loudness score below {threshold}\\n\"\n",
    "    )\n",
    "    return tracks.head()"
   ]
  },
  {
   "cell_type": "code",
   "execution_count": 36,
   "id": "8aa408b1-ea44-4148-8148-3fa996aaa2ee",
   "metadata": {},
   "outputs": [
    {
     "name": "stdout",
     "output_type": "stream",
     "text": [
      "There are 9 track(s) that have a loudness score below -8\n",
      "\n"
     ]
    },
    {
     "data": {
      "text/html": [
       "<div>\n",
       "<style scoped>\n",
       "    .dataframe tbody tr th:only-of-type {\n",
       "        vertical-align: middle;\n",
       "    }\n",
       "\n",
       "    .dataframe tbody tr th {\n",
       "        vertical-align: top;\n",
       "    }\n",
       "\n",
       "    .dataframe thead th {\n",
       "        text-align: right;\n",
       "    }\n",
       "</style>\n",
       "<table border=\"1\" class=\"dataframe\">\n",
       "  <thead>\n",
       "    <tr style=\"text-align: right;\">\n",
       "      <th></th>\n",
       "      <th>artist</th>\n",
       "      <th>album</th>\n",
       "      <th>track_name</th>\n",
       "      <th>energy</th>\n",
       "      <th>danceability</th>\n",
       "      <th>key</th>\n",
       "      <th>loudness</th>\n",
       "      <th>acousticness</th>\n",
       "      <th>speechiness</th>\n",
       "      <th>instrumentalness</th>\n",
       "      <th>liveness</th>\n",
       "      <th>valence</th>\n",
       "      <th>tempo</th>\n",
       "      <th>duration_ms</th>\n",
       "      <th>genre</th>\n",
       "    </tr>\n",
       "  </thead>\n",
       "  <tbody>\n",
       "    <tr>\n",
       "      <th>24</th>\n",
       "      <td>Billie Eilish</td>\n",
       "      <td>Everything I Wanted</td>\n",
       "      <td>Everything I Wanted</td>\n",
       "      <td>0.225</td>\n",
       "      <td>0.704</td>\n",
       "      <td>6</td>\n",
       "      <td>-14.454</td>\n",
       "      <td>0.902</td>\n",
       "      <td>0.0994</td>\n",
       "      <td>0.657000</td>\n",
       "      <td>0.106</td>\n",
       "      <td>0.243</td>\n",
       "      <td>120.006</td>\n",
       "      <td>245426</td>\n",
       "      <td>Pop</td>\n",
       "    </tr>\n",
       "    <tr>\n",
       "      <th>26</th>\n",
       "      <td>Billie Eilish</td>\n",
       "      <td>When We All Fall Asleep, Where Do We Go?</td>\n",
       "      <td>Bad Guy</td>\n",
       "      <td>0.425</td>\n",
       "      <td>0.701</td>\n",
       "      <td>7</td>\n",
       "      <td>-10.965</td>\n",
       "      <td>0.328</td>\n",
       "      <td>0.3750</td>\n",
       "      <td>0.130000</td>\n",
       "      <td>0.100</td>\n",
       "      <td>0.562</td>\n",
       "      <td>135.128</td>\n",
       "      <td>194088</td>\n",
       "      <td>Electro-pop</td>\n",
       "    </tr>\n",
       "    <tr>\n",
       "      <th>44</th>\n",
       "      <td>Billie Eilish</td>\n",
       "      <td>Lovely (With Khalid)</td>\n",
       "      <td>Lovely (With Khalid)</td>\n",
       "      <td>0.296</td>\n",
       "      <td>0.351</td>\n",
       "      <td>4</td>\n",
       "      <td>-10.109</td>\n",
       "      <td>0.934</td>\n",
       "      <td>0.0333</td>\n",
       "      <td>0.000000</td>\n",
       "      <td>0.095</td>\n",
       "      <td>0.120</td>\n",
       "      <td>115.284</td>\n",
       "      <td>200186</td>\n",
       "      <td>Chamber pop</td>\n",
       "    </tr>\n",
       "    <tr>\n",
       "      <th>47</th>\n",
       "      <td>Jp Saxe</td>\n",
       "      <td>If The World Was Ending (Feat. Julia Michaels)</td>\n",
       "      <td>If The World Was Ending - Feat. Julia Michaels</td>\n",
       "      <td>0.473</td>\n",
       "      <td>0.464</td>\n",
       "      <td>1</td>\n",
       "      <td>-10.086</td>\n",
       "      <td>0.866</td>\n",
       "      <td>0.1290</td>\n",
       "      <td>0.000000</td>\n",
       "      <td>0.109</td>\n",
       "      <td>0.604</td>\n",
       "      <td>75.801</td>\n",
       "      <td>208687</td>\n",
       "      <td>Pop</td>\n",
       "    </tr>\n",
       "    <tr>\n",
       "      <th>15</th>\n",
       "      <td>Drake</td>\n",
       "      <td>Dark Lane Demo Tapes</td>\n",
       "      <td>Toosie Slide</td>\n",
       "      <td>0.490</td>\n",
       "      <td>0.830</td>\n",
       "      <td>1</td>\n",
       "      <td>-8.820</td>\n",
       "      <td>0.289</td>\n",
       "      <td>0.2090</td>\n",
       "      <td>0.000003</td>\n",
       "      <td>0.113</td>\n",
       "      <td>0.845</td>\n",
       "      <td>81.604</td>\n",
       "      <td>247059</td>\n",
       "      <td>Hip-Hop/Rap</td>\n",
       "    </tr>\n",
       "  </tbody>\n",
       "</table>\n",
       "</div>"
      ],
      "text/plain": [
       "           artist                                           album  \\\n",
       "24  Billie Eilish                             Everything I Wanted   \n",
       "26  Billie Eilish        When We All Fall Asleep, Where Do We Go?   \n",
       "44  Billie Eilish                            Lovely (With Khalid)   \n",
       "47        Jp Saxe  If The World Was Ending (Feat. Julia Michaels)   \n",
       "15          Drake                            Dark Lane Demo Tapes   \n",
       "\n",
       "                                        track_name  energy  danceability key  \\\n",
       "24                             Everything I Wanted   0.225         0.704   6   \n",
       "26                                         Bad Guy   0.425         0.701   7   \n",
       "44                            Lovely (With Khalid)   0.296         0.351   4   \n",
       "47  If The World Was Ending - Feat. Julia Michaels   0.473         0.464   1   \n",
       "15                                    Toosie Slide   0.490         0.830   1   \n",
       "\n",
       "    loudness  acousticness  speechiness  instrumentalness  liveness  valence  \\\n",
       "24   -14.454         0.902       0.0994          0.657000     0.106    0.243   \n",
       "26   -10.965         0.328       0.3750          0.130000     0.100    0.562   \n",
       "44   -10.109         0.934       0.0333          0.000000     0.095    0.120   \n",
       "47   -10.086         0.866       0.1290          0.000000     0.109    0.604   \n",
       "15    -8.820         0.289       0.2090          0.000003     0.113    0.845   \n",
       "\n",
       "      tempo  duration_ms         genre  \n",
       "24  120.006       245426           Pop  \n",
       "26  135.128       194088   Electro-pop  \n",
       "44  115.284       200186   Chamber pop  \n",
       "47   75.801       208687           Pop  \n",
       "15   81.604       247059   Hip-Hop/Rap  "
      ]
     },
     "execution_count": 36,
     "metadata": {},
     "output_type": "execute_result"
    }
   ],
   "source": [
    "low_loudness_tracks(df)"
   ]
  },
  {
   "cell_type": "markdown",
   "id": "51982462-0946-4613-a9b1-8bd923106154",
   "metadata": {},
   "source": [
    "#### Insights\n",
    "- Top 50 generally comprises loud tracks\n",
    "- **18%** (9 out of 50) falling into the 'very low' loudness category relative to the rest of our dataset.\n",
    "- The most silent track is the Pop hit **'Everything I Wanted'** by Billie Eilish. Its low loudness score -14.5 dB"
   ]
  },
  {
   "cell_type": "markdown",
   "id": "c154488e-1dcf-4592-8390-14bddc34cc1d",
   "metadata": {},
   "source": [
    "#### 3.5.3. Length"
   ]
  },
  {
   "cell_type": "markdown",
   "id": "ac64f476-81bc-4e2d-8d9c-a6534662ec72",
   "metadata": {},
   "source": [
    "Calculate the longest and shortest tracks in the list"
   ]
  },
  {
   "cell_type": "code",
   "execution_count": 37,
   "id": "3d06301d-bc52-478b-bb73-38ccb960a001",
   "metadata": {},
   "outputs": [],
   "source": [
    "def format_duration(duration_ms):\n",
    "    \"\"\"\n",
    "    Convert duration from milliseconds to mm:ss format.\n",
    "    \"\"\"\n",
    "    seconds = duration_ms / 1000\n",
    "    minutes = int(seconds // 60)\n",
    "    seconds = int(seconds % 60)\n",
    "    return f\"{minutes}:{seconds:02d}\""
   ]
  },
  {
   "cell_type": "code",
   "execution_count": 38,
   "id": "ba6bf4fe-493e-4432-b863-bc04619fe6b0",
   "metadata": {},
   "outputs": [],
   "source": [
    "def get_extreme_duration_tracks(df):\n",
    "    \"\"\"\n",
    "    Returns the longest and shortest tracks in mm:ss format.\n",
    "    \"\"\"\n",
    "    longest = df.loc[df[\"duration_ms\"].idxmax()]\n",
    "    shortest = df.loc[df[\"duration_ms\"].idxmin()]\n",
    "\n",
    "    results = {\n",
    "        \"Type\": [\"Longest\", \"Shortest\"],\n",
    "        \"Track Name\": [longest[\"track_name\"], shortest[\"track_name\"]],\n",
    "        \"Artist\": [longest[\"artist\"], shortest[\"artist\"]],\n",
    "        \"Duration (mm:ss)\": [\n",
    "            format_duration(longest[\"duration_ms\"]),\n",
    "            format_duration(shortest[\"duration_ms\"]),\n",
    "        ],\n",
    "    }\n",
    "\n",
    "    return pd.DataFrame(results)"
   ]
  },
  {
   "cell_type": "code",
   "execution_count": 39,
   "id": "ada20f37-6473-4d8c-957b-3fc179a1ffad",
   "metadata": {},
   "outputs": [
    {
     "data": {
      "text/html": [
       "<div>\n",
       "<style scoped>\n",
       "    .dataframe tbody tr th:only-of-type {\n",
       "        vertical-align: middle;\n",
       "    }\n",
       "\n",
       "    .dataframe tbody tr th {\n",
       "        vertical-align: top;\n",
       "    }\n",
       "\n",
       "    .dataframe thead th {\n",
       "        text-align: right;\n",
       "    }\n",
       "</style>\n",
       "<table border=\"1\" class=\"dataframe\">\n",
       "  <thead>\n",
       "    <tr style=\"text-align: right;\">\n",
       "      <th></th>\n",
       "      <th>Type</th>\n",
       "      <th>Track Name</th>\n",
       "      <th>Artist</th>\n",
       "      <th>Duration (mm:ss)</th>\n",
       "    </tr>\n",
       "  </thead>\n",
       "  <tbody>\n",
       "    <tr>\n",
       "      <th>0</th>\n",
       "      <td>Longest</td>\n",
       "      <td>Sicko Mode</td>\n",
       "      <td>Travis Scott</td>\n",
       "      <td>5:12</td>\n",
       "    </tr>\n",
       "    <tr>\n",
       "      <th>1</th>\n",
       "      <td>Shortest</td>\n",
       "      <td>Mood (Feat. Iann Dior)</td>\n",
       "      <td>24Kgoldn</td>\n",
       "      <td>2:20</td>\n",
       "    </tr>\n",
       "  </tbody>\n",
       "</table>\n",
       "</div>"
      ],
      "text/plain": [
       "       Type              Track Name        Artist Duration (mm:ss)\n",
       "0   Longest              Sicko Mode  Travis Scott             5:12\n",
       "1  Shortest  Mood (Feat. Iann Dior)      24Kgoldn             2:20"
      ]
     },
     "execution_count": 39,
     "metadata": {},
     "output_type": "execute_result"
    }
   ],
   "source": [
    "get_extreme_duration_tracks(df)"
   ]
  },
  {
   "cell_type": "markdown",
   "id": "b855341f-34aa-47b5-976a-52edccf7bc80",
   "metadata": {},
   "source": [
    "#### 3.5.4. Genre"
   ]
  },
  {
   "cell_type": "markdown",
   "id": "082fdc03-abbb-4875-b66f-d4ba5ea8827d",
   "metadata": {},
   "source": [
    "Analyze genre distribution"
   ]
  },
  {
   "cell_type": "code",
   "execution_count": 40,
   "id": "7bab7a48-37cf-4944-9206-59a1e82deed6",
   "metadata": {},
   "outputs": [],
   "source": [
    "def analyze_genres(df):\n",
    "    \"\"\"\n",
    "    Analyze genre data to identify:\n",
    "    - The most frequently contributed genre and its track count\n",
    "    - Genres that appear only once, along with their count\n",
    "    - Total number of distinct genres in the dataset\n",
    "    \"\"\"\n",
    "    genre_counts = df[\"genre\"].value_counts()\n",
    "    most_popular_genre = genre_counts.idxmax()\n",
    "    most_popular_count = genre_counts.max()\n",
    "    one_song_genres = genre_counts[genre_counts == 1]\n",
    "    unique_genres = df[\"genre\"].nunique()\n",
    "\n",
    "    print(f\"Most popular genre: '{most_popular_genre}' with {most_popular_count} tracks.\")\n",
    "    print(f\"Genres with only one song ({one_song_genres.count()} total):\\n{one_song_genres}\\n\")\n",
    "    print(f\"Total number of unique genres: {unique_genres}\\n\")"
   ]
  },
  {
   "cell_type": "code",
   "execution_count": 41,
   "id": "b3e83301-db36-4518-95f7-7bddd4d842da",
   "metadata": {},
   "outputs": [],
   "source": [
    "# Visualize genre distribution\n",
    "def plot_genre_distribution(df):\n",
    "    genre_counts = df[\"genre\"].value_counts()\n",
    "    genre_counts.plot(kind=\"barh\", figsize=(8, 4), color=\"limegreen\")\n",
    "    plt.title(\"Genre Distribution\")\n",
    "    plt.xlabel(\"Number of Tracks\")\n",
    "    plt.ylabel(\"Genre\")\n",
    "    plt.gca().invert_yaxis()\n",
    "    plt.show()"
   ]
  },
  {
   "cell_type": "code",
   "execution_count": 42,
   "id": "6f087a54-dd59-4835-8648-f731b986acce",
   "metadata": {},
   "outputs": [
    {
     "name": "stdout",
     "output_type": "stream",
     "text": [
      "Most popular genre: 'Pop' with 14 tracks.\n",
      "Genres with only one song (10 total):\n",
      "genre\n",
      "Alternative/reggaeton/experimental    1\n",
      "Chamber pop                           1\n",
      "Dance-pop/Disco                       1\n",
      "Disco-pop                             1\n",
      "Dreampop/Hip-Hop/R&B                  1\n",
      "Hip-Hop/Trap                          1\n",
      "Nu-disco                              1\n",
      "Pop rap                               1\n",
      "Pop/Soft Rock                         1\n",
      "R&B/Hip-Hop alternative               1\n",
      "Name: count, dtype: int64\n",
      "\n",
      "Total number of unique genres: 16\n",
      "\n"
     ]
    },
    {
     "data": {
      "image/png": "[encoded data removed]",
      "text/plain": [
       "<Figure size 800x400 with 1 Axes>"
      ]
     },
     "metadata": {},
     "output_type": "display_data"
    }
   ],
   "source": [
    "analyze_genres(df)\n",
    "plot_genre_distribution(df)"
   ]
  },
  {
   "cell_type": "markdown",
   "id": "73fbe5bd-8b3e-4947-98be-922e36034496",
   "metadata": {},
   "source": [
    "#### Insights\n",
    "- Dominant genres: Pop **28%** (14 tracks) and Hip-Hop/Rap **20%** (10 tracks) together account for nearly half of the most streamed songs.\n",
    "- Dataset includes 16 distinct genres, 10 of which are represented by only one song."
   ]
  },
  {
   "cell_type": "markdown",
   "id": "e9881fd5-c240-4dae-9a98-053783dc5029",
   "metadata": {},
   "source": [
    "### 3.6. Correlation Overview"
   ]
  },
  {
   "cell_type": "code",
   "execution_count": 43,
   "id": "4afd211c-402c-4dec-9b48-0fd31fbd53dc",
   "metadata": {},
   "outputs": [],
   "source": [
    "def find_correlations(df, label, lower_bound, upper_bound):\n",
    "    \"\"\"\n",
    "    Extract correlation values between numeric features in a specific range.\n",
    "\n",
    "    Args:\n",
    "        df (pd.DataFrame): Input DataFrame\n",
    "        label: Label for the type of correlation\n",
    "        lower_bound: Lower threshold\n",
    "        upper_bound: Upper threshold\n",
    "\n",
    "    Returns:\n",
    "        pd.DataFrame: Filtered correlation matrix\n",
    "    \"\"\"\n",
    "    numeric_df = df.select_dtypes(include=\"number\")\n",
    "    corr_matrix = numeric_df.corr()\n",
    "\n",
    "    # Mask upper triangle to avoid duplicates\n",
    "    mask = np.triu(np.ones_like(corr_matrix, dtype=bool))\n",
    "    corr_matrix = corr_matrix.mask(mask)\n",
    "\n",
    "    # Filter based on bounds\n",
    "    filtered = corr_matrix[(corr_matrix > lower_bound) & (corr_matrix < upper_bound)]\n",
    "    filtered = filtered.dropna(how=\"all\").dropna(how=\"all\", axis=1)\n",
    "\n",
    "    # Replace NaNs with dash for display\n",
    "    filtered = filtered.fillna(\"-\")\n",
    "    \n",
    "    print(f\"{label} features (correlation between {lower_bound} and {upper_bound}):\") \n",
    "\n",
    "\n",
    "    return filtered"
   ]
  },
  {
   "cell_type": "markdown",
   "id": "590c2f0f-018e-40c6-9a93-ef8b0d6ad1ce",
   "metadata": {},
   "source": [
    "#### 3.6.1. Strongly Positive Corellation"
   ]
  },
  {
   "cell_type": "code",
   "execution_count": 44,
   "id": "81c837e1-55a2-4764-96cb-f0b197854b53",
   "metadata": {},
   "outputs": [
    {
     "name": "stdout",
     "output_type": "stream",
     "text": [
      "Strongly positive features (correlation between 0.7 and 1.0):\n"
     ]
    },
    {
     "data": {
      "text/html": [
       "<div>\n",
       "<style scoped>\n",
       "    .dataframe tbody tr th:only-of-type {\n",
       "        vertical-align: middle;\n",
       "    }\n",
       "\n",
       "    .dataframe tbody tr th {\n",
       "        vertical-align: top;\n",
       "    }\n",
       "\n",
       "    .dataframe thead th {\n",
       "        text-align: right;\n",
       "    }\n",
       "</style>\n",
       "<table border=\"1\" class=\"dataframe\">\n",
       "  <thead>\n",
       "    <tr style=\"text-align: right;\">\n",
       "      <th></th>\n",
       "      <th>energy</th>\n",
       "    </tr>\n",
       "  </thead>\n",
       "  <tbody>\n",
       "    <tr>\n",
       "      <th>loudness</th>\n",
       "      <td>0.79164</td>\n",
       "    </tr>\n",
       "  </tbody>\n",
       "</table>\n",
       "</div>"
      ],
      "text/plain": [
       "           energy\n",
       "loudness  0.79164"
      ]
     },
     "execution_count": 44,
     "metadata": {},
     "output_type": "execute_result"
    }
   ],
   "source": [
    "find_correlations(df, \"Strongly positive\", 0.7, 1.0)"
   ]
  },
  {
   "cell_type": "markdown",
   "id": "7a93697d-d81a-4443-8377-7e9b9c67e569",
   "metadata": {},
   "source": [
    "#### 3.6.2. Strongly Negative Corellation"
   ]
  },
  {
   "cell_type": "code",
   "execution_count": 45,
   "id": "cb36c4b0-ae0f-4b4e-a94b-abdeb923ea17",
   "metadata": {},
   "outputs": [
    {
     "name": "stdout",
     "output_type": "stream",
     "text": [
      "Strongly negative features (correlation between -1.0 and -0.6):\n"
     ]
    },
    {
     "data": {
      "text/html": [
       "<div>\n",
       "<style scoped>\n",
       "    .dataframe tbody tr th:only-of-type {\n",
       "        vertical-align: middle;\n",
       "    }\n",
       "\n",
       "    .dataframe tbody tr th {\n",
       "        vertical-align: top;\n",
       "    }\n",
       "\n",
       "    .dataframe thead th {\n",
       "        text-align: right;\n",
       "    }\n",
       "</style>\n",
       "<table border=\"1\" class=\"dataframe\">\n",
       "  <thead>\n",
       "    <tr style=\"text-align: right;\">\n",
       "      <th></th>\n",
       "      <th>energy</th>\n",
       "    </tr>\n",
       "  </thead>\n",
       "  <tbody>\n",
       "    <tr>\n",
       "      <th>acousticness</th>\n",
       "      <td>-0.682479</td>\n",
       "    </tr>\n",
       "  </tbody>\n",
       "</table>\n",
       "</div>"
      ],
      "text/plain": [
       "                energy\n",
       "acousticness -0.682479"
      ]
     },
     "execution_count": 45,
     "metadata": {},
     "output_type": "execute_result"
    }
   ],
   "source": [
    "find_correlations(df, \"Strongly negative\", -1.0, -0.6)"
   ]
  },
  {
   "cell_type": "markdown",
   "id": "86a2eb07-1684-4896-b468-0c17953245a1",
   "metadata": {},
   "source": [
    "#### 3.6.3. Weak to no correlation"
   ]
  },
  {
   "cell_type": "code",
   "execution_count": 46,
   "id": "1372523d-c346-4833-82a6-ca0132270c53",
   "metadata": {},
   "outputs": [
    {
     "name": "stdout",
     "output_type": "stream",
     "text": [
      "Weak to no correlation features (correlation between -0.1 and 0.1):\n"
     ]
    },
    {
     "data": {
      "text/html": [
       "<div>\n",
       "<style scoped>\n",
       "    .dataframe tbody tr th:only-of-type {\n",
       "        vertical-align: middle;\n",
       "    }\n",
       "\n",
       "    .dataframe tbody tr th {\n",
       "        vertical-align: top;\n",
       "    }\n",
       "\n",
       "    .dataframe thead th {\n",
       "        text-align: right;\n",
       "    }\n",
       "</style>\n",
       "<table border=\"1\" class=\"dataframe\">\n",
       "  <thead>\n",
       "    <tr style=\"text-align: right;\">\n",
       "      <th></th>\n",
       "      <th>energy</th>\n",
       "      <th>danceability</th>\n",
       "      <th>loudness</th>\n",
       "      <th>acousticness</th>\n",
       "      <th>speechiness</th>\n",
       "      <th>instrumentalness</th>\n",
       "      <th>liveness</th>\n",
       "      <th>valence</th>\n",
       "    </tr>\n",
       "  </thead>\n",
       "  <tbody>\n",
       "    <tr>\n",
       "      <th>speechiness</th>\n",
       "      <td>0.074267</td>\n",
       "      <td>-</td>\n",
       "      <td>-0.021693</td>\n",
       "      <td>-</td>\n",
       "      <td>-</td>\n",
       "      <td>-</td>\n",
       "      <td>-</td>\n",
       "      <td>-</td>\n",
       "    </tr>\n",
       "    <tr>\n",
       "      <th>instrumentalness</th>\n",
       "      <td>-</td>\n",
       "      <td>-0.017706</td>\n",
       "      <td>-</td>\n",
       "      <td>-</td>\n",
       "      <td>0.028948</td>\n",
       "      <td>-</td>\n",
       "      <td>-</td>\n",
       "      <td>-</td>\n",
       "    </tr>\n",
       "    <tr>\n",
       "      <th>liveness</th>\n",
       "      <td>0.069487</td>\n",
       "      <td>-0.006648</td>\n",
       "      <td>-0.069939</td>\n",
       "      <td>-</td>\n",
       "      <td>-</td>\n",
       "      <td>-0.087034</td>\n",
       "      <td>-</td>\n",
       "      <td>-</td>\n",
       "    </tr>\n",
       "    <tr>\n",
       "      <th>valence</th>\n",
       "      <td>-</td>\n",
       "      <td>-</td>\n",
       "      <td>-</td>\n",
       "      <td>-</td>\n",
       "      <td>0.053867</td>\n",
       "      <td>-</td>\n",
       "      <td>-0.033366</td>\n",
       "      <td>-</td>\n",
       "    </tr>\n",
       "    <tr>\n",
       "      <th>tempo</th>\n",
       "      <td>0.075191</td>\n",
       "      <td>-</td>\n",
       "      <td>-</td>\n",
       "      <td>-</td>\n",
       "      <td>-</td>\n",
       "      <td>0.018853</td>\n",
       "      <td>0.025457</td>\n",
       "      <td>0.045089</td>\n",
       "    </tr>\n",
       "    <tr>\n",
       "      <th>duration_ms</th>\n",
       "      <td>0.081971</td>\n",
       "      <td>-0.033763</td>\n",
       "      <td>0.06413</td>\n",
       "      <td>-0.010988</td>\n",
       "      <td>-</td>\n",
       "      <td>-</td>\n",
       "      <td>-0.090188</td>\n",
       "      <td>-0.039794</td>\n",
       "    </tr>\n",
       "  </tbody>\n",
       "</table>\n",
       "</div>"
      ],
      "text/plain": [
       "                    energy danceability  loudness acousticness speechiness  \\\n",
       "speechiness       0.074267            - -0.021693            -           -   \n",
       "instrumentalness         -    -0.017706         -            -    0.028948   \n",
       "liveness          0.069487    -0.006648 -0.069939            -           -   \n",
       "valence                  -            -         -            -    0.053867   \n",
       "tempo             0.075191            -         -            -           -   \n",
       "duration_ms       0.081971    -0.033763   0.06413    -0.010988           -   \n",
       "\n",
       "                 instrumentalness  liveness   valence  \n",
       "speechiness                     -         -         -  \n",
       "instrumentalness                -         -         -  \n",
       "liveness                -0.087034         -         -  \n",
       "valence                         - -0.033366         -  \n",
       "tempo                    0.018853  0.025457  0.045089  \n",
       "duration_ms                     - -0.090188 -0.039794  "
      ]
     },
     "execution_count": 46,
     "metadata": {},
     "output_type": "execute_result"
    }
   ],
   "source": [
    "find_correlations(df, \"Weak to no correlation\", -0.1, 0.1)"
   ]
  },
  {
   "cell_type": "markdown",
   "id": "36598824-dd28-4b5b-bb31-c838e281baab",
   "metadata": {},
   "source": [
    "#### Insights\n",
    "- **Energy ↔ Loudness:** With a correlation of 0.79, these two are closely linked—meaning louder tracks tend to be more energetic.\n",
    "- **Energy ↔ Acousticness:** Correlation of -0.68 suggests that more acoustic tracks tend to be less energetic.\n"
   ]
  },
  {
   "cell_type": "markdown",
   "id": "a431e559-8e0c-4fa2-911a-f0b7061a8d9d",
   "metadata": {},
   "source": [
    "## 4. Statistical Comparison"
   ]
  },
  {
   "cell_type": "markdown",
   "id": "877b242a-e4bd-4925-846a-64e9c11e3508",
   "metadata": {},
   "source": [
    "This section examines the feature **(danceability, loudness, acousticness)** scores across top 4 music genres by:\n",
    "- Comparing their mean feature values\n",
    "- Visualizing score distributions\n",
    "\n",
    "The goal is to determine if these features varies meaningfully between: Pop, Hip-Hop/Rap, Dance/Electronic, and Alternative/Indie."
   ]
  },
  {
   "cell_type": "code",
   "execution_count": 47,
   "id": "c877587d-2021-4fbd-b6d5-76ba9679d1d9",
   "metadata": {},
   "outputs": [],
   "source": [
    "# Define genre selection\n",
    "selected_genres = [\"Pop\", \"Hip-Hop/Rap\", \"Dance/Electronic\", \"Alternative/Indie\"]"
   ]
  },
  {
   "cell_type": "markdown",
   "id": "39b1ef0a-9fd8-4955-afcd-f591ef0a729b",
   "metadata": {},
   "source": [
    "### 4.1. Danceability between genres"
   ]
  },
  {
   "cell_type": "markdown",
   "id": "bf601b7e-ca05-475f-9a17-6e1232bc5345",
   "metadata": {},
   "source": [
    "#### 4.1.1 Danceability Means Comparison"
   ]
  },
  {
   "cell_type": "code",
   "execution_count": 48,
   "id": "ddc0067e-7471-4165-a3bd-2b6ac7763ce0",
   "metadata": {},
   "outputs": [
    {
     "name": "stdout",
     "output_type": "stream",
     "text": [
      "Danceability scores comparison between selected genres:\n"
     ]
    },
    {
     "data": {
      "text/html": [
       "<div>\n",
       "<style scoped>\n",
       "    .dataframe tbody tr th:only-of-type {\n",
       "        vertical-align: middle;\n",
       "    }\n",
       "\n",
       "    .dataframe tbody tr th {\n",
       "        vertical-align: top;\n",
       "    }\n",
       "\n",
       "    .dataframe thead th {\n",
       "        text-align: right;\n",
       "    }\n",
       "</style>\n",
       "<table border=\"1\" class=\"dataframe\">\n",
       "  <thead>\n",
       "    <tr style=\"text-align: right;\">\n",
       "      <th></th>\n",
       "      <th>danceability</th>\n",
       "    </tr>\n",
       "    <tr>\n",
       "      <th>genre</th>\n",
       "      <th></th>\n",
       "    </tr>\n",
       "  </thead>\n",
       "  <tbody>\n",
       "    <tr>\n",
       "      <th>Hip-Hop/Rap</th>\n",
       "      <td>0.765538</td>\n",
       "    </tr>\n",
       "    <tr>\n",
       "      <th>Dance/Electronic</th>\n",
       "      <td>0.755000</td>\n",
       "    </tr>\n",
       "    <tr>\n",
       "      <th>Pop</th>\n",
       "      <td>0.677571</td>\n",
       "    </tr>\n",
       "    <tr>\n",
       "      <th>Alternative/Indie</th>\n",
       "      <td>0.661750</td>\n",
       "    </tr>\n",
       "  </tbody>\n",
       "</table>\n",
       "</div>"
      ],
      "text/plain": [
       "                   danceability\n",
       "genre                          \n",
       "Hip-Hop/Rap            0.765538\n",
       "Dance/Electronic       0.755000\n",
       "Pop                    0.677571\n",
       "Alternative/Indie      0.661750"
      ]
     },
     "metadata": {},
     "output_type": "display_data"
    }
   ],
   "source": [
    "# Average danceability scores for selected genres\n",
    "genre_danceability = (\n",
    "    df.groupby(\"genre\", observed=False)[\"danceability\"]\n",
    "    .mean()\n",
    "    .loc[selected_genres]\n",
    "    .sort_values(ascending=False)\n",
    ")\n",
    "\n",
    "print(\"Danceability scores comparison between selected genres:\")\n",
    "display(genre_danceability.to_frame())"
   ]
  },
  {
   "cell_type": "markdown",
   "id": "bfafebb2-008a-4f6e-ad58-a1b653e1efc8",
   "metadata": {},
   "source": [
    "#### 4.1.2. Danceability Score Distribution Plot"
   ]
  },
  {
   "cell_type": "code",
   "execution_count": 55,
   "id": "96c22cdd-352e-4311-a05a-f0de94f521a4",
   "metadata": {},
   "outputs": [
    {
     "data": {
      "image/png": "[encoded data removed]",
      "text/plain": [
       "<Figure size 800x500 with 1 Axes>"
      ]
     },
     "metadata": {},
     "output_type": "display_data"
    }
   ],
   "source": [
    "# Violin plot of danceability distributions by genre\n",
    "filtered_df = df[df[\"genre\"].isin(selected_genres)].copy()\n",
    "filtered_df[\"genre\"] = filtered_df[\"genre\"].cat.remove_unused_categories()\n",
    "\n",
    "genre_medians = filtered_df.groupby(\"genre\", observed=False)[\"danceability\"].median()\n",
    "\n",
    "plt.figure(figsize=(8, 5))\n",
    "sns.violinplot(data=filtered_df, x=\"genre\", y=\"danceability\", inner=\"box\")\n",
    "\n",
    "# Annotate medians\n",
    "for i, genre in enumerate(selected_genres):\n",
    "    median = genre_medians[genre]\n",
    "    plt.text(i, median + 0.1, f\"Median: {median:.2f}\", ha=\"center\", color=\"red\")\n",
    "plt.ylim(0, 1.4)\n",
    "\n",
    "# Plot\n",
    "plt.title(\"Danceability Score Distribution by Genre\", fontsize=14)\n",
    "plt.ylabel(\"Danceability\")\n",
    "plt.xlabel(\"Genre\")\n",
    "plt.xticks(rotation=30)\n",
    "plt.grid(axis=\"y\", linestyle=\"--\", alpha=0.3)\n",
    "plt.tight_layout()\n",
    "plt.show()"
   ]
  },
  {
   "cell_type": "markdown",
   "id": "fc71d5d4-8925-4e80-91fa-560c389a4193",
   "metadata": {},
   "source": [
    "####  Insights\n",
    "- Dance/Electronic leads with the highest median danceability at 0.79\n",
    "- Dance/Electronic and Hip-Hop/Rap genres are less spread, meaning their tracks consistently aim for higher danceability.\n",
    "- Alternative/Indie and Pop have wider distributions, displaying more variation across tracks — from danceable hits to mellow ballads."
   ]
  },
  {
   "cell_type": "markdown",
   "id": "15416fd2-2a12-4891-b890-6fb9662dab36",
   "metadata": {},
   "source": [
    "### 4.2. Loudness between genres"
   ]
  },
  {
   "cell_type": "markdown",
   "id": "1d18a015-77f8-42df-937b-9afa6c1d7175",
   "metadata": {},
   "source": [
    "#### 4.2.1. Loudness Means Comparison"
   ]
  },
  {
   "cell_type": "code",
   "execution_count": null,
   "id": "8c9f2027-4bb9-482c-94b2-e943b6ba954f",
   "metadata": {},
   "outputs": [],
   "source": [
    "# Average loudness scores for selected genres\n",
    "genre_loudness = (\n",
    "    df.groupby(\"genre\", )[\"loudness\"]\n",
    "    .mean()\n",
    "    .loc[selected_genres]\n",
    "    .sort_values()\n",
    ")\n",
    "\n",
    "print(\"Loudness scores comparison between selected genres:\")\n",
    "display(genre_loudness.to_frame())"
   ]
  },
  {
   "cell_type": "markdown",
   "id": "782b60bf-1668-4f3b-8a09-4b0fd7d4568a",
   "metadata": {},
   "source": [
    "#### 4.2.2. Loudnes Score Distribution"
   ]
  },
  {
   "cell_type": "code",
   "execution_count": 56,
   "id": "a88f9c43-bc69-4905-bcff-77d1cbed3d8b",
   "metadata": {},
   "outputs": [
    {
     "data": {
      "image/png": "[encoded data removed]",
      "text/plain": [
       "<Figure size 800x500 with 1 Axes>"
      ]
     },
     "metadata": {},
     "output_type": "display_data"
    }
   ],
   "source": [
    "# Violin plot of loudness distributions by genre\n",
    "filtered_df = df[df[\"genre\"].isin(selected_genres)].copy()\n",
    "filtered_df[\"genre\"] = filtered_df[\"genre\"].cat.remove_unused_categories()\n",
    "\n",
    "genre_medians = filtered_df.groupby(\"genre\", observed=False)[\"loudness\"].median()\n",
    "\n",
    "plt.figure(figsize=(8, 5))\n",
    "sns.violinplot(data=filtered_df, x=\"genre\", y=\"loudness\", inner=\"box\")\n",
    "\n",
    "# Annotate medians\n",
    "for i, genre in enumerate(selected_genres):\n",
    "    median = genre_medians[genre]\n",
    "    plt.text(i, median + 0.1, f\"Median: {median:.2f}\", ha=\"center\", color=\"red\")\n",
    "\n",
    "# Plot\n",
    "plt.title(\"Loudness Score Distribution by Genre\", fontsize=14)\n",
    "plt.ylabel(\"Loudness\")\n",
    "plt.xlabel(\"Genre\")\n",
    "plt.xticks(rotation=15)\n",
    "plt.grid(axis=\"y\", linestyle=\"--\", alpha=0.3)\n",
    "plt.tight_layout()\n",
    "plt.show()"
   ]
  },
  {
   "cell_type": "markdown",
   "id": "04de85bc-cb1e-48ca-9d11-58fd8c15f9b2",
   "metadata": {},
   "source": [
    "####  Insights\n",
    "- Pop is the loudest genre overall by its median loudness of –5.27 dB\n",
    "- Alternative/Indie presents a moderately dispersed distribution, generally lower loudness levels.\n",
    "- Hip-Hop/Rap demonstrates the broadest loudness range.\n",
    "- Dance/Electronic and Pop genres exhibit relatively tight loudness distributions, indicating consistency in audio across their respective tracks."
   ]
  },
  {
   "cell_type": "markdown",
   "id": "38effeb2-265e-4458-add8-6a67c2b3667a",
   "metadata": {},
   "source": [
    "### 4.3 Acousticness between genres"
   ]
  },
  {
   "cell_type": "markdown",
   "id": "22577328-3774-4b12-867c-d2ee75f4a4be",
   "metadata": {},
   "source": [
    "#### 4.3.1. Acousticness Means Comparison"
   ]
  },
  {
   "cell_type": "code",
   "execution_count": null,
   "id": "8cf95cf7-3903-43c8-9bee-50e615f05eff",
   "metadata": {},
   "outputs": [],
   "source": [
    "# Average acousticness scores for selected genres\n",
    "genre_acousticness = (\n",
    "    df.groupby(\"genre\", observed=False)[\"acousticness\"]\n",
    "    .mean()\n",
    "    .loc[selected_genres]\n",
    "    .sort_values(ascending=False)\n",
    ")\n",
    "\n",
    "print(\"Acousticness scores comparison between selected genres:\")\n",
    "display(genre_acousticness.to_frame())"
   ]
  },
  {
   "cell_type": "markdown",
   "id": "dc128d45-4ebd-4f9d-ba92-02d07f0afb3c",
   "metadata": {},
   "source": [
    "#### 4.3.2. Acousticness Score Distribution"
   ]
  },
  {
   "cell_type": "code",
   "execution_count": 54,
   "id": "692819f5-f1ce-47d2-b246-1a8d9c9d6895",
   "metadata": {},
   "outputs": [
    {
     "data": {
      "image/png": "[encoded data removed]",
      "text/plain": [
       "<Figure size 800x500 with 1 Axes>"
      ]
     },
     "metadata": {},
     "output_type": "display_data"
    }
   ],
   "source": [
    "# Violin plot of acousticness distributions by genre\n",
    "filtered_df[\"genre\"] = filtered_df[\"genre\"].cat.remove_unused_categories()\n",
    "genre_medians = filtered_df.groupby(\"genre\", observed=True)[\"acousticness\"].median()\n",
    "\n",
    "plt.figure(figsize=(8, 5))\n",
    "sns.violinplot(data=filtered_df, x=\"genre\", y=\"acousticness\", inner=\"box\")\n",
    "\n",
    "# Annotate medians\n",
    "for i, genre in enumerate(selected_genres):\n",
    "    median = genre_medians[genre]\n",
    "    plt.text(i, median + 0.1, f\"Median: {median:.2f}\", ha=\"center\", color=\"red\")\n",
    "\n",
    "# Plot\n",
    "plt.title(\"Acousticness Score Distribution by Genre\", fontsize=14)\n",
    "plt.ylabel(\"Acousticness\")\n",
    "plt.xlabel(\"Genre\")\n",
    "plt.xticks(rotation=15)\n",
    "plt.grid(axis=\"y\", linestyle=\"--\", alpha=0.5)\n",
    "plt.tight_layout()\n",
    "plt.show()"
   ]
  },
  {
   "cell_type": "markdown",
   "id": "c41a450b-efeb-4f95-8056-51f2f8bb66fc",
   "metadata": {},
   "source": [
    "#### Insights\n",
    "- Pop exhibits the highest median acousticness (0.65)\n",
    "- Pop and Alternative/Indie show bigger variability in acousticness.\n",
    "- Dance/Electronic has the tightest distribution, reinforcing its low acousticness across tracks."
   ]
  },
  {
   "cell_type": "markdown",
   "id": "6ae897d0-7a5b-4a65-ab22-d89210dbacea",
   "metadata": {},
   "source": [
    "## Exploratory Data Analysis Highlights"
   ]
  },
  {
   "cell_type": "markdown",
   "id": "2220489c-83f9-49cc-b002-8fa10af38961",
   "metadata": {},
   "source": [
    "- **Top Artists:** Billie Eilish, Dua Lipa, and Travis Scott are the most featured artists, each with three songs in the top 50. \n",
    "- **Top Album:** Dua Lipa's album, \"Future Nostalgia,\" is the most prominent album with three tracks.\n",
    "- **Genre Dominance:** Pop and Hip-Hop/Rap are the most dominant genres, making up nearly half of the top tracks.\n",
    "- The dataset contains 16 unique genres, with 10 of them appearing only once."
   ]
  },
  {
   "cell_type": "markdown",
   "id": "1312c617-2624-43ca-a06b-10f77fa50193",
   "metadata": {},
   "source": [
    "Key Audio Features:"
   ]
  },
  {
   "cell_type": "markdown",
   "id": "74c2feba-2e09-432b-9fe4-b0da52118909",
   "metadata": {},
   "source": [
    "- Danceability: **A majority of the top tracks (64%) are highly danceable.**\n",
    "- Loudness: Top tracks are generally loud.\n",
    "- Acousticness: **Alternative/Indie tracks have the highest acousticness**, while Dance/Electronic tracks have the lowest."
   ]
  },
  {
   "cell_type": "markdown",
   "id": "0c960a77-6aed-4c9b-8ddc-3660e33d8382",
   "metadata": {},
   "source": [
    "Feature Correlations:"
   ]
  },
  {
   "cell_type": "markdown",
   "id": "8b6a7cfe-29bf-41fb-be4c-4ae45806bb44",
   "metadata": {},
   "source": [
    "- There is a strong positive correlation between a track's energy and its loudness.\n",
    "- There is a strong negative correlation between energy and acousticness, meaning more acoustic songs tend to be less energetic."
   ]
  },
  {
   "cell_type": "markdown",
   "id": "0bc49851-27b7-495b-9b7c-cf9bb8ec8c45",
   "metadata": {},
   "source": [
    "The song lengths in the top 50 vary, with:\n",
    "- Longest: \"Sicko Mode\" by Travis Scott (5:12)\n",
    "- Shortest: \"Mood\" by 24kGoldn (2:20)."
   ]
  },
  {
   "cell_type": "markdown",
   "id": "ccb387a9-8817-4762-b434-38c19a74fc5e",
   "metadata": {},
   "source": [
    "Defined Hit Track:"
   ]
  },
  {
   "cell_type": "markdown",
   "id": "35a21893-ac14-46c0-92cf-fd6f3ee586f6",
   "metadata": {},
   "source": [
    "- **High Energy & Danceability**\n",
    "- **Low Acousticness & Speechiness**\n",
    "- **Optimal Loudness**\n",
    "- **Minimal Instrumentalness**"
   ]
  },
  {
   "cell_type": "markdown",
   "id": "6d21642a-0c81-4b5e-893a-d379114466d9",
   "metadata": {},
   "source": [
    "### Recommendations"
   ]
  },
  {
   "cell_type": "markdown",
   "id": "68d8b31f-03e9-4fd7-89ed-d7a36cf94ccd",
   "metadata": {},
   "source": [
    "For Marketing & Promotional Strategies:\n",
    "\n",
    "- **Leverage Top Performers:** Feature the top artists (Billie Eilish, Dua Lipa, Travis Scott) and the top album (\"Future Nostalgia\") in marketing campaigns to capitalize on their popularity.\n",
    "- **Create Themed Campaigns:** Develop marketing initiatives based on audio features like \"high-danceability\" playlists or \"high-energy\" workout mixes to target specific listener preferences.\n",
    "- **Target Genre-Specific Audiences:** Use the genre insights to tailor marketing efforts. For example, promote high-danceability Hip-Hop/Rap tracks to audiences interested in dance and parties."
   ]
  },
  {
   "cell_type": "markdown",
   "id": "422205a6-9665-4bf9-b5ab-3d837e0b08f6",
   "metadata": {},
   "source": [
    "For Data Analysis & Future Research:\n",
    "\n",
    "- **Explore Sub-Genres:** Investigate the dominant \"Pop\" category further to identify which sub-genres are most successful.\n",
    "- **Analyze Audio Feature Drivers:** Conduct a deeper analysis to understand the specific musical elements (like BPM, rhythm, and instrumentation) that contribute to high or low scores in danceability and acousticness.\n",
    "- **Expand the Dataset:** To validate these trends, analyze a larger and more diverse dataset of popular music from different years or regions."
   ]
  }
 ],
 "metadata": {
  "kernelspec": {
   "display_name": "Python 3 (ipykernel)",
   "language": "python",
   "name": "python3"
  },
  "language_info": {
   "codemirror_mode": {
    "name": "ipython",
    "version": 3
   },
   "file_extension": ".py",
   "mimetype": "text/x-python",
   "name": "python",
   "nbconvert_exporter": "python",
   "pygments_lexer": "ipython3",
   "version": "3.13.5"
  }
 },
 "nbformat": 4,
 "nbformat_minor": 5
}
