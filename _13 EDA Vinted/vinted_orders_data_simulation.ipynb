{
 "cells": [
  {
   "cell_type": "markdown",
   "id": "fb40abcd-758b-4b38-b6a4-4fa6aedd6bfc",
   "metadata": {},
   "source": [
    "# Simulation of Vinted Dataset for Analysis"
   ]
  },
  {
   "cell_type": "markdown",
   "id": "35053d09-244b-4853-ab7d-3688d0bbcb12",
   "metadata": {},
   "source": [
    "### Simulation Strategy:\n",
    "\n",
    "1. **Define Core Parameters:** Set up the number of orders, time ranges, and probabilities for various events (e.g., shipping within 3 days, cancellation rates).\n",
    "2. **Generate Orders:** Create a base of orders with order_id, seller_id, buyer_id, and order_date.\n",
    "3. **Simulate Shipping Times:**\n",
    "    - Most orders will ship within 1-2 days.\n",
    "    - A smaller percentage will ship within 3-5 days.\n",
    "    - A small percentage will be \"delayed but shipped\" (e.g., 6-10 days).\n",
    "    - A portion will be \"never shipped.\"\n",
    "4. **Simulate Cancellations:** Assign cancellation reasons, with a focus on \"Seller did not ship in time\" for the \"never shipped\" items.\n",
    "5. **Simulate Item and Seller Attributes:** Add realistic item_category, item_price, seller_rating, and seller_total_sales.\n",
    "6. **Calculate Derived Fields:** Compute days_to_ship, is_shipped, and shipped_within_3_days."
   ]
  },
  {
   "cell_type": "code",
   "execution_count": 1,
   "id": "233818fc-7ab1-4538-824c-5c3c06b7eb05",
   "metadata": {},
   "outputs": [],
   "source": [
    "import pandas as pd\n",
    "import numpy as np\n",
    "from datetime import datetime, timedelta\n",
    "import random\n",
    "from faker import Faker"
   ]
  },
  {
   "cell_type": "code",
   "execution_count": 2,
   "id": "5e2a59ea-9c68-4285-a0fa-0203203cd473",
   "metadata": {},
   "outputs": [],
   "source": [
    "%load_ext blackcellmagic"
   ]
  },
  {
   "cell_type": "code",
   "execution_count": 3,
   "id": "c8c348c3-6707-42b1-adaa-df091953850b",
   "metadata": {},
   "outputs": [],
   "source": [
    "# Initialize Faker for generating realistic-looking data\n",
    "fake = Faker()"
   ]
  },
  {
   "cell_type": "markdown",
   "id": "2adc10c3-18f7-4b48-861f-513892885a03",
   "metadata": {},
   "source": [
    "#### 1. Configuration Parameters for Simulation"
   ]
  },
  {
   "cell_type": "code",
   "execution_count": 4,
   "id": "0030e403-c952-40f1-92b0-3ab6e41b80b4",
   "metadata": {},
   "outputs": [],
   "source": [
    "num_orders = 10000\n",
    "start_date = datetime(2024, 1, 1)\n",
    "end_date = datetime(2025, 6, 30)"
   ]
  },
  {
   "cell_type": "markdown",
   "id": "55ef6b4d-3ad3-472c-8484-d5ad811faf01",
   "metadata": {},
   "source": [
    "##### Here we can manipulate and test different probabilities for the output"
   ]
  },
  {
   "cell_type": "code",
   "execution_count": 5,
   "id": "289c2b6b-cf03-441b-9aeb-6207a6398a18",
   "metadata": {},
   "outputs": [],
   "source": [
    "# Probabilities for different shipping scenarios\n",
    "prob_shipped_1_day = 0.50\n",
    "prob_shipped_2_3_days = 0.30\n",
    "prob_shipped_4_5_days = 0.10\n",
    "prob_shipped_delayed = 0.05\n",
    "prob_never_shipped = 0.05"
   ]
  },
  {
   "cell_type": "code",
   "execution_count": 6,
   "id": "04d0caf0-81cc-478a-89e9-117afab158be",
   "metadata": {},
   "outputs": [],
   "source": [
    "# Probability of different cancellation reasons\n",
    "prob_cancelled_seller_no_ship = 0.6 # Vinted cancels because seller didn't ship\n",
    "prob_cancelled_buyer_choice = 0.2 # Buyer cancels after waiting after deadline\n",
    "prob_cancelled_other = 0.2 # Other reasons (e.g., item out of stock for seller)"
   ]
  },
  {
   "cell_type": "code",
   "execution_count": 7,
   "id": "cf2f0c98-58bc-41aa-be54-df03ae56382e",
   "metadata": {},
   "outputs": [],
   "source": [
    "# Probability of an order being cancelled early (e.g., within 3 days)\n",
    "prob_early_cancellation = 0.03 # 3% chance of early cancellation\n",
    "prob_late_cancellation_unshipped = 0.9 # High chance of cancellation if never shipped"
   ]
  },
  {
   "cell_type": "code",
   "execution_count": 8,
   "id": "6a54c802-7e12-4adc-bf0e-bf684c2ac219",
   "metadata": {},
   "outputs": [],
   "source": [
    "# Item and Seller attributes\n",
    "item_categories = [\n",
    "    \"Women's Clothing\",\n",
    "    \"Women's Shoes\",\n",
    "    \"Men's Clothing\",\n",
    "    \"Men's Shoes\",\n",
    "    \"Kids' Clothing\",\n",
    "    \"Accessories\",\n",
    "    \"Bags\",\n",
    "    \"Jewellery\",\n",
    "    \"Home Decor\",\n",
    "    \"Books\",\n",
    "    \"Electronics\",\n",
    "    \"Beauty Products\",\n",
    "]\n",
    "avg_item_price = 25.0\n",
    "std_item_price = 15.0\n",
    "min_item_price = 5.0\n",
    "max_item_price = 200.0"
   ]
  },
  {
   "cell_type": "code",
   "execution_count": 9,
   "id": "6a9290c4-2503-4bca-8269-6485aa132431",
   "metadata": {},
   "outputs": [],
   "source": [
    "# Seller rating distribution (skewed towards higher ratings)\n",
    "seller_ratings = [1.0, 2.0, 3.0, 3.5, 4.0, 4.2, 4.5, 4.7, 4.8, 4.9, 5.0]\n",
    "seller_rating_probabilities = [0.01, 0.02, 0.05, 0.07, 0.10, 0.15, 0.20, 0.20, 0.10, 0.05, 0.05]"
   ]
  },
  {
   "cell_type": "markdown",
   "id": "51349cde-4e7a-4fd4-ad98-cecb5ffa0047",
   "metadata": {},
   "source": [
    "#### 2. Data Generation"
   ]
  },
  {
   "cell_type": "code",
   "execution_count": 10,
   "id": "20181554-ceb6-4bea-8627-a69fa520a4a2",
   "metadata": {},
   "outputs": [],
   "source": [
    "data = []\n",
    "seller_ids = [fake.uuid4() for _ in range(int(num_orders * 0.2))] # Fewer sellers than orders to simulate multiple sales\n",
    "buyer_ids = [fake.uuid4() for _ in range(int(num_orders * 0.8))]"
   ]
  },
  {
   "cell_type": "code",
   "execution_count": 11,
   "id": "e318b757-ec03-4bf9-8c53-3cb48e12f2e6",
   "metadata": {},
   "outputs": [],
   "source": [
    "# Pre-generate seller sales history to influence their future behavior\n",
    "seller_history = {\n",
    "    seller_id: {\n",
    "        \"total_sales\": random.randint(0, 500),\n",
    "        \"avg_shipping_days\": random.uniform(1.0, 7.0),\n",
    "    }\n",
    "    for seller_id in seller_ids\n",
    "}"
   ]
  },
  {
   "cell_type": "code",
   "execution_count": 12,
   "id": "d349c429-54b8-4ca2-a359-99dd2ae8b336",
   "metadata": {},
   "outputs": [],
   "source": [
    "for i in range(num_orders):\n",
    "    order_id = fake.uuid4()\n",
    "    seller_id = random.choice(seller_ids)\n",
    "    buyer_id = random.choice(buyer_ids)\n",
    "    order_date = start_date + timedelta(days=random.randint(0, (end_date - start_date).days))\n",
    "\n",
    "    shipment_date = None\n",
    "    cancellation_date = None\n",
    "    cancellation_reason = None\n",
    "    is_shipped = False\n",
    "    days_to_add = 0\n",
    "\n",
    "    # Simulate shipping time based on probabilities\n",
    "    rand_prob = random.random()\n",
    "    days_to_add = 0\n",
    "\n",
    "    # Cancellation logic\n",
    "    if random.random() < prob_early_cancellation:\n",
    "        # Order is cancelled early\n",
    "        cancellation_date = order_date + timedelta(days=random.randint(1, 3))\n",
    "        cancellation_reason = \"Seller unable to fulfill (out of stock)\" \n",
    "        is_shipped = False\n",
    "    else:\n",
    "        # if not early cancelled\n",
    "        rand_prob = random.random()\n",
    "\n",
    "        if rand_prob < prob_shipped_1_day:\n",
    "            days_to_add = random.randint(0, 1)\n",
    "            is_shipped = True\n",
    "        elif rand_prob < prob_shipped_1_day + prob_shipped_2_3_days:\n",
    "            days_to_add = random.randint(2, 3)\n",
    "            is_shipped = True\n",
    "        elif rand_prob < prob_shipped_1_day + prob_shipped_2_3_days + prob_shipped_4_5_days:\n",
    "            days_to_add = random.randint(4, 5)\n",
    "            is_shipped = True\n",
    "        elif rand_prob < prob_shipped_1_day + prob_shipped_2_3_days + prob_shipped_4_5_days + prob_shipped_delayed:\n",
    "            days_to_add = random.randint(6, 15)\n",
    "            is_shipped = True\n",
    "        else:\n",
    "            # Orders that were never shipped and not early cancelled\n",
    "            # Cancelled due to seller not shipping in time\n",
    "            is_shipped = False\n",
    "            if random.random() < prob_late_cancellation_unshipped:\n",
    "                cancellation_date = order_date + timedelta(days=random.randint(6, 10))\n",
    "                cancel_rand_prob = random.random()\n",
    "                if cancel_rand_prob < prob_cancelled_seller_no_ship:\n",
    "                    cancellation_reason = \"Seller did not ship in time\"\n",
    "                elif cancel_rand_prob < prob_cancelled_seller_no_ship + prob_cancelled_buyer_choice:\n",
    "                    cancellation_reason = \"Buyer canceled due to seller delay\"\n",
    "                else:\n",
    "                    # If not cancelled, then it's just an unshipped order that's still open\n",
    "                    cancellation_reason = \"Seller unable to fulfill (out of stock)\"\n",
    "\n",
    "\n",
    "    # Handle incomplete data of most recent orders (only if not already cancelled)\n",
    "    if is_shipped and shipment_date is None:\n",
    "        shipment_date = order_date + timedelta(days=days_to_add)\n",
    "\n",
    "        if shipment_date > end_date and order_date <= end_date:\n",
    "            shipment_date = min(shipment_date, end_date)\n",
    "\n",
    "            if shipment_date == end_date and random.random() < 0.5:\n",
    "                is_shipped = False\n",
    "                shipment_date = None\n",
    "                cancellation_date = end_date\n",
    "                cancellation_reason = \"Still awaiting shipment / Order too recent for full cycle\"\n",
    "\n",
    "\n",
    "    # Item attributes\n",
    "    item_category = random.choice(item_categories)\n",
    "    item_price = max(min_item_price, min(max_item_price, np.random.normal(avg_item_price, std_item_price)))\n",
    "    item_price = round(item_price, 2)\n",
    "\n",
    "    # Seller attributes\n",
    "    seller_data = seller_history.get(seller_id, {\"total_sales\": 0, \"avg_shipping_days\": 2.0})\n",
    "    seller_total_sales = seller_data[\"total_sales\"] + (1 if is_shipped else 0)\n",
    "    seller_rating = np.random.choice(seller_ratings, p=seller_rating_probabilities)\n",
    "    \n",
    "    # Seller behavior based on their history\n",
    "    if seller_data[\"avg_shipping_days\"] > 4 and is_shipped: \n",
    "        days_to_add += random.randint(0, 1)\n",
    "\n",
    "    data.append({\n",
    "        \"order_id\": order_id,\n",
    "        \"seller_id\": seller_id,\n",
    "        \"buyer_id\": buyer_id,\n",
    "        \"order_date\": order_date,\n",
    "        \"shipment_date\": shipment_date,\n",
    "        \"cancellation_date\": cancellation_date,\n",
    "        \"cancellation_reason\": cancellation_reason,\n",
    "        \"item_category\": item_category,\n",
    "        \"item_price\": item_price,\n",
    "        \"seller_rating\": seller_rating,\n",
    "        \"seller_total_sales\": seller_total_sales,\n",
    "        \"vinted_shipping_deadline_days\": 5\n",
    "    })"
   ]
  },
  {
   "cell_type": "code",
   "execution_count": 13,
   "id": "e1b07276-8d49-4864-a496-0c9c5714f1ce",
   "metadata": {},
   "outputs": [],
   "source": [
    "df = pd.DataFrame(data)"
   ]
  },
  {
   "cell_type": "markdown",
   "id": "f2856518-c773-427f-bf46-5993de940ea3",
   "metadata": {},
   "source": [
    "#### 3. Derived Fields Calculation"
   ]
  },
  {
   "cell_type": "code",
   "execution_count": 14,
   "id": "be41ee96-daa1-4ad2-bdde-9f2ceee04e69",
   "metadata": {},
   "outputs": [],
   "source": [
    "# Ensure date columns are datetime objects\n",
    "df[\"order_date\"] = pd.to_datetime(df[\"order_date\"])\n",
    "df[\"shipment_date\"] = pd.to_datetime(df[\"shipment_date\"])\n",
    "df[\"cancellation_date\"] = pd.to_datetime(df[\"cancellation_date\"])"
   ]
  },
  {
   "cell_type": "code",
   "execution_count": 15,
   "id": "8457ba33-f59a-403a-89ee-d9f3d15a1bd9",
   "metadata": {},
   "outputs": [],
   "source": [
    "# Calculate business days to ship (excluding weekends)\n",
    "def business_days_between(row):\n",
    "    if pd.notna(row[\"shipment_date\"]):\n",
    "        return np.busday_count(row[\"order_date\"].date(), row[\"shipment_date\"].date())\n",
    "    return np.nan"
   ]
  },
  {
   "cell_type": "code",
   "execution_count": 16,
   "id": "f7d6edfc-d6eb-47a7-929a-28c428c2d860",
   "metadata": {},
   "outputs": [],
   "source": [
    "df[\"days_to_ship\"] = df.apply(business_days_between, axis=1)\n",
    "df[\"is_shipped\"] = df[\"shipment_date\"].notna()"
   ]
  },
  {
   "cell_type": "code",
   "execution_count": 17,
   "id": "a2f23c9e-10bf-43b6-af3e-9e063e157b9a",
   "metadata": {},
   "outputs": [],
   "source": [
    "# Determine if item was never shipped (based on is_shipped and cancellation_reason)\n",
    "# This captures items cancelled because seller didn't ship\n",
    "df[\"is_never_shipped\"] = (df[\"is_shipped\"] == False) & (\n",
    "    df[\"cancellation_reason\"].isin(\n",
    "        [\n",
    "            \"Seller did not ship in time\",\n",
    "            \"Buyer canceled due to seller delay\",\n",
    "            \"Seller unable to fulfill (out of stock)\"\n",
    "            \n",
    "        ]\n",
    "    )\n",
    ")"
   ]
  },
  {
   "cell_type": "code",
   "execution_count": 18,
   "id": "48beae23-dbe0-46d8-8546-b316a24f1b98",
   "metadata": {},
   "outputs": [],
   "source": [
    "# Define if shipped within 3 days (only for orders that were actually shipped)\n",
    "df[\"shipped_within_3_days\"] = df[\"days_to_ship\"] <= 3"
   ]
  },
  {
   "cell_type": "markdown",
   "id": "de11d329-bc00-4d07-9a02-0281e5ad84c5",
   "metadata": {},
   "source": [
    "## General Overview of Simulated Data"
   ]
  },
  {
   "cell_type": "code",
   "execution_count": 19,
   "id": "32258b6e-abea-4f71-b74a-ffeda213071e",
   "metadata": {},
   "outputs": [
    {
     "name": "stdout",
     "output_type": "stream",
     "text": [
      "Generated 10000 orders.\n",
      "\n",
      "DataFrame Info:\n",
      "<class 'pandas.core.frame.DataFrame'>\n",
      "RangeIndex: 10000 entries, 0 to 9999\n",
      "Data columns (total 16 columns):\n",
      " #   Column                         Non-Null Count  Dtype         \n",
      "---  ------                         --------------  -----         \n",
      " 0   order_id                       10000 non-null  object        \n",
      " 1   seller_id                      10000 non-null  object        \n",
      " 2   buyer_id                       10000 non-null  object        \n",
      " 3   order_date                     10000 non-null  datetime64[ns]\n",
      " 4   shipment_date                  9216 non-null   datetime64[ns]\n",
      " 5   cancellation_date              743 non-null    datetime64[ns]\n",
      " 6   cancellation_reason            743 non-null    object        \n",
      " 7   item_category                  10000 non-null  object        \n",
      " 8   item_price                     10000 non-null  float64       \n",
      " 9   seller_rating                  10000 non-null  float64       \n",
      " 10  seller_total_sales             10000 non-null  int64         \n",
      " 11  vinted_shipping_deadline_days  10000 non-null  int64         \n",
      " 12  days_to_ship                   9216 non-null   float64       \n",
      " 13  is_shipped                     10000 non-null  bool          \n",
      " 14  is_never_shipped               10000 non-null  bool          \n",
      " 15  shipped_within_3_days          10000 non-null  bool          \n",
      "dtypes: bool(3), datetime64[ns](3), float64(3), int64(2), object(5)\n",
      "memory usage: 1.0+ MB\n"
     ]
    }
   ],
   "source": [
    "# Display basic info about the generated data\n",
    "print(f\"Generated {len(df)} orders.\")\n",
    "print(f\"\\nDataFrame Info:\")\n",
    "df.info()"
   ]
  },
  {
   "cell_type": "code",
   "execution_count": 20,
   "id": "b3d6ebbc-ad60-47f6-8712-908dba4310b2",
   "metadata": {},
   "outputs": [
    {
     "name": "stdout",
     "output_type": "stream",
     "text": [
      "First 5 rows of the generated data:\n"
     ]
    },
    {
     "data": {
      "text/html": [
       "<div>\n",
       "<style scoped>\n",
       "    .dataframe tbody tr th:only-of-type {\n",
       "        vertical-align: middle;\n",
       "    }\n",
       "\n",
       "    .dataframe tbody tr th {\n",
       "        vertical-align: top;\n",
       "    }\n",
       "\n",
       "    .dataframe thead th {\n",
       "        text-align: right;\n",
       "    }\n",
       "</style>\n",
       "<table border=\"1\" class=\"dataframe\">\n",
       "  <thead>\n",
       "    <tr style=\"text-align: right;\">\n",
       "      <th></th>\n",
       "      <th>order_id</th>\n",
       "      <th>seller_id</th>\n",
       "      <th>buyer_id</th>\n",
       "      <th>order_date</th>\n",
       "      <th>shipment_date</th>\n",
       "      <th>cancellation_date</th>\n",
       "      <th>cancellation_reason</th>\n",
       "      <th>item_category</th>\n",
       "      <th>item_price</th>\n",
       "      <th>seller_rating</th>\n",
       "      <th>seller_total_sales</th>\n",
       "      <th>vinted_shipping_deadline_days</th>\n",
       "      <th>days_to_ship</th>\n",
       "      <th>is_shipped</th>\n",
       "      <th>is_never_shipped</th>\n",
       "      <th>shipped_within_3_days</th>\n",
       "    </tr>\n",
       "  </thead>\n",
       "  <tbody>\n",
       "    <tr>\n",
       "      <th>0</th>\n",
       "      <td>a5a3bca6-440a-452e-bc4f-5644aff73d94</td>\n",
       "      <td>5eed2795-8d16-4113-a4e5-2896609dbe8b</td>\n",
       "      <td>4edbe609-f16e-4708-b990-05dffc570edc</td>\n",
       "      <td>2024-06-02</td>\n",
       "      <td>2024-06-03</td>\n",
       "      <td>NaT</td>\n",
       "      <td>None</td>\n",
       "      <td>Accessories</td>\n",
       "      <td>30.95</td>\n",
       "      <td>5.0</td>\n",
       "      <td>317</td>\n",
       "      <td>5</td>\n",
       "      <td>0.0</td>\n",
       "      <td>True</td>\n",
       "      <td>False</td>\n",
       "      <td>True</td>\n",
       "    </tr>\n",
       "    <tr>\n",
       "      <th>1</th>\n",
       "      <td>f1eba7e2-99d1-4ef7-a925-fd2cb4da83be</td>\n",
       "      <td>792043b5-71db-4c5f-913b-696145d7c50f</td>\n",
       "      <td>c6b51b26-dd73-49d8-a8b8-5a9d07f13dfe</td>\n",
       "      <td>2024-06-05</td>\n",
       "      <td>2024-06-08</td>\n",
       "      <td>NaT</td>\n",
       "      <td>None</td>\n",
       "      <td>Men's Clothing</td>\n",
       "      <td>6.82</td>\n",
       "      <td>4.2</td>\n",
       "      <td>366</td>\n",
       "      <td>5</td>\n",
       "      <td>3.0</td>\n",
       "      <td>True</td>\n",
       "      <td>False</td>\n",
       "      <td>True</td>\n",
       "    </tr>\n",
       "    <tr>\n",
       "      <th>2</th>\n",
       "      <td>fa09b0ae-565d-4be7-927e-5a531f8fe374</td>\n",
       "      <td>d8b6bbe3-5a31-4895-b015-9361c66b999c</td>\n",
       "      <td>02334f8d-a6f0-49f9-b653-2b1835e98059</td>\n",
       "      <td>2025-03-17</td>\n",
       "      <td>2025-03-18</td>\n",
       "      <td>NaT</td>\n",
       "      <td>None</td>\n",
       "      <td>Bags</td>\n",
       "      <td>25.48</td>\n",
       "      <td>4.7</td>\n",
       "      <td>328</td>\n",
       "      <td>5</td>\n",
       "      <td>1.0</td>\n",
       "      <td>True</td>\n",
       "      <td>False</td>\n",
       "      <td>True</td>\n",
       "    </tr>\n",
       "    <tr>\n",
       "      <th>3</th>\n",
       "      <td>b22e3bea-fb66-46e5-a974-0a57cbb99552</td>\n",
       "      <td>35c0e53b-732b-496c-9eab-e16cbfb1590e</td>\n",
       "      <td>9dd0776d-2769-4cc2-bd46-4d91e085faaf</td>\n",
       "      <td>2024-09-23</td>\n",
       "      <td>2024-09-25</td>\n",
       "      <td>NaT</td>\n",
       "      <td>None</td>\n",
       "      <td>Books</td>\n",
       "      <td>6.73</td>\n",
       "      <td>4.5</td>\n",
       "      <td>13</td>\n",
       "      <td>5</td>\n",
       "      <td>2.0</td>\n",
       "      <td>True</td>\n",
       "      <td>False</td>\n",
       "      <td>True</td>\n",
       "    </tr>\n",
       "    <tr>\n",
       "      <th>4</th>\n",
       "      <td>88157c5a-f21b-46e6-991d-754cfc9bb69e</td>\n",
       "      <td>489a3382-7c17-42b5-bd5c-6dea8fd79568</td>\n",
       "      <td>abdd6d55-4152-4ca3-9c6a-d7e4402dbe03</td>\n",
       "      <td>2025-04-20</td>\n",
       "      <td>NaT</td>\n",
       "      <td>2025-04-26</td>\n",
       "      <td>Seller unable to fulfill (out of stock)</td>\n",
       "      <td>Women's Clothing</td>\n",
       "      <td>42.56</td>\n",
       "      <td>4.5</td>\n",
       "      <td>139</td>\n",
       "      <td>5</td>\n",
       "      <td>NaN</td>\n",
       "      <td>False</td>\n",
       "      <td>True</td>\n",
       "      <td>False</td>\n",
       "    </tr>\n",
       "  </tbody>\n",
       "</table>\n",
       "</div>"
      ],
      "text/plain": [
       "                               order_id                             seller_id  \\\n",
       "0  a5a3bca6-440a-452e-bc4f-5644aff73d94  5eed2795-8d16-4113-a4e5-2896609dbe8b   \n",
       "1  f1eba7e2-99d1-4ef7-a925-fd2cb4da83be  792043b5-71db-4c5f-913b-696145d7c50f   \n",
       "2  fa09b0ae-565d-4be7-927e-5a531f8fe374  d8b6bbe3-5a31-4895-b015-9361c66b999c   \n",
       "3  b22e3bea-fb66-46e5-a974-0a57cbb99552  35c0e53b-732b-496c-9eab-e16cbfb1590e   \n",
       "4  88157c5a-f21b-46e6-991d-754cfc9bb69e  489a3382-7c17-42b5-bd5c-6dea8fd79568   \n",
       "\n",
       "                               buyer_id order_date shipment_date  \\\n",
       "0  4edbe609-f16e-4708-b990-05dffc570edc 2024-06-02    2024-06-03   \n",
       "1  c6b51b26-dd73-49d8-a8b8-5a9d07f13dfe 2024-06-05    2024-06-08   \n",
       "2  02334f8d-a6f0-49f9-b653-2b1835e98059 2025-03-17    2025-03-18   \n",
       "3  9dd0776d-2769-4cc2-bd46-4d91e085faaf 2024-09-23    2024-09-25   \n",
       "4  abdd6d55-4152-4ca3-9c6a-d7e4402dbe03 2025-04-20           NaT   \n",
       "\n",
       "  cancellation_date                      cancellation_reason  \\\n",
       "0               NaT                                     None   \n",
       "1               NaT                                     None   \n",
       "2               NaT                                     None   \n",
       "3               NaT                                     None   \n",
       "4        2025-04-26  Seller unable to fulfill (out of stock)   \n",
       "\n",
       "      item_category  item_price  seller_rating  seller_total_sales  \\\n",
       "0       Accessories       30.95            5.0                 317   \n",
       "1    Men's Clothing        6.82            4.2                 366   \n",
       "2              Bags       25.48            4.7                 328   \n",
       "3             Books        6.73            4.5                  13   \n",
       "4  Women's Clothing       42.56            4.5                 139   \n",
       "\n",
       "   vinted_shipping_deadline_days  days_to_ship  is_shipped  is_never_shipped  \\\n",
       "0                              5           0.0        True             False   \n",
       "1                              5           3.0        True             False   \n",
       "2                              5           1.0        True             False   \n",
       "3                              5           2.0        True             False   \n",
       "4                              5           NaN       False              True   \n",
       "\n",
       "   shipped_within_3_days  \n",
       "0                   True  \n",
       "1                   True  \n",
       "2                   True  \n",
       "3                   True  \n",
       "4                  False  "
      ]
     },
     "execution_count": 20,
     "metadata": {},
     "output_type": "execute_result"
    }
   ],
   "source": [
    "print(\"First 5 rows of the generated data:\")\n",
    "df.head()"
   ]
  },
  {
   "cell_type": "code",
   "execution_count": 21,
   "id": "8cedd451-8883-4c6c-855c-2077667cbf41",
   "metadata": {},
   "outputs": [
    {
     "name": "stdout",
     "output_type": "stream",
     "text": [
      "\n",
      "Value counts for 'is_shipped':\n",
      "is_shipped\n",
      "True     9216\n",
      "False     784\n",
      "Name: count, dtype: int64\n"
     ]
    }
   ],
   "source": [
    "print(f\"\\nValue counts for 'is_shipped':\")\n",
    "print(df[\"is_shipped\"].value_counts())"
   ]
  },
  {
   "cell_type": "code",
   "execution_count": 22,
   "id": "aef3e98b-d1de-4781-bec1-8a36070622d9",
   "metadata": {},
   "outputs": [
    {
     "name": "stdout",
     "output_type": "stream",
     "text": [
      "\n",
      "Value counts for 'is_never_shipped':\n",
      "is_never_shipped\n",
      "False    9279\n",
      "True      721\n",
      "Name: count, dtype: int64\n"
     ]
    }
   ],
   "source": [
    "print(f\"\\nValue counts for 'is_never_shipped':\")\n",
    "print(df[\"is_never_shipped\"].value_counts())"
   ]
  },
  {
   "cell_type": "code",
   "execution_count": 23,
   "id": "cc146607-9902-46ef-ba55-91c2e6c90ce8",
   "metadata": {},
   "outputs": [
    {
     "name": "stdout",
     "output_type": "stream",
     "text": [
      "\n",
      "Distribution of 'days_to_ship' (for shipped items):\n",
      "count    9216.000000\n",
      "mean        1.478624\n",
      "std         1.903699\n",
      "min         0.000000\n",
      "25%         0.000000\n",
      "50%         1.000000\n",
      "75%         2.000000\n",
      "max        11.000000\n",
      "Name: days_to_ship, dtype: float64\n"
     ]
    }
   ],
   "source": [
    "print(f\"\\nDistribution of 'days_to_ship' (for shipped items):\")\n",
    "print(df[\"days_to_ship\"].describe())"
   ]
  },
  {
   "cell_type": "code",
   "execution_count": 24,
   "id": "9b813187-45fb-46e2-835b-7c2460f3b6c0",
   "metadata": {},
   "outputs": [
    {
     "name": "stdout",
     "output_type": "stream",
     "text": [
      "\n",
      "Distribution of 'cancellation_reason':\n",
      "cancellation_reason\n",
      "None                                                         9257\n",
      "Seller unable to fulfill (out of stock)                       376\n",
      "Seller did not ship in time                                   255\n",
      "Buyer canceled due to seller delay                             90\n",
      "Still awaiting shipment / Order too recent for full cycle      22\n",
      "Name: count, dtype: int64\n"
     ]
    }
   ],
   "source": [
    "print(f\"\\nDistribution of 'cancellation_reason':\")\n",
    "print(df[\"cancellation_reason\"].value_counts(dropna=False))"
   ]
  },
  {
   "cell_type": "code",
   "execution_count": 25,
   "id": "219ad49c-6622-4366-a465-5b2716f9e867",
   "metadata": {},
   "outputs": [],
   "source": [
    "# Save this DataFrame to a CSV for later use in Analysis\n",
    "df.to_csv(\"vinted_orders_simulated_data.csv\", index=False)"
   ]
  }
 ],
 "metadata": {
  "kernelspec": {
   "display_name": "Python 3 (ipykernel)",
   "language": "python",
   "name": "python3"
  },
  "language_info": {
   "codemirror_mode": {
    "name": "ipython",
    "version": 3
   },
   "file_extension": ".py",
   "mimetype": "text/x-python",
   "name": "python",
   "nbconvert_exporter": "python",
   "pygments_lexer": "ipython3",
   "version": "3.13.5"
  }
 },
 "nbformat": 4,
 "nbformat_minor": 5
}
