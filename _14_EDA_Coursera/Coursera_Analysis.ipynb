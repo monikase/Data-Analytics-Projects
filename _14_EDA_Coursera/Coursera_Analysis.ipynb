{
 "cells": [
  {
   "cell_type": "markdown",
   "id": "dd5c2aed-a74e-4289-ab73-58b706311a48",
   "metadata": {},
   "source": [
    "# Optimizing Coursera Portfolio for Engagement & Revenue"
   ]
  },
  {
   "cell_type": "markdown",
   "id": "2648fcaf-7c32-4c8e-b111-4345adb9fe98",
   "metadata": {},
   "source": [
    "This document provides an in-depth analysis of Coursera’s course portfolio, using data on course features, enrollment, and ratings. In the competitive online education space, understanding what drives learner engagement and satisfaction is key to sustained growth."
   ]
  },
  {
   "cell_type": "markdown",
   "id": "194343e9-d08a-4f56-acd8-2c57f95b6680",
   "metadata": {},
   "source": [
    "## Goal of the Analysis\n",
    "\n",
    "Identify course characteristics most strongly linked to **higher student enrollment and better ratings** on Coursera."
   ]
  },
  {
   "cell_type": "markdown",
   "id": "f3e061d0-f42c-478d-b40b-b38557a054c1",
   "metadata": {},
   "source": [
    "### Key Questions\n",
    "\n",
    "To achieve this goal, the analysis seeks to answer the following questions:   \n",
    "\n",
    "1. Which course characteristics *(such as difficulty level, certificate type, the offering organization/institution, or inferred topics from course titles)* demonstrate the strongest correlation with both high student enrollment and ratings?\n",
    "\n",
    "2. How can Coursera effectively leverage these identified insights to prioritize future course development initiatives, optimize existing course content, and refine marketing strategies to maximize student acquisition and retention?"
   ]
  },
  {
   "cell_type": "markdown",
   "id": "43367b02-123e-4d73-a81a-6f69ec58f9f7",
   "metadata": {},
   "source": [
    "### Scope and Methodology\n",
    "\n",
    "This analysis begins with thorough data cleaning and preprocessing to ensure quality and consistency, followed by exploratory data analysis (EDA) to uncover patterns, relationships, and outliers in course performance. The insights will inform strategic, data-driven recommendations to optimize Coursera’s course portfolio and support platform growth. \n",
    "\n",
    "Table of Contents:\n",
    "\n",
    "1. Load & Display Data\n",
    "2. Data Cleaning & Preparation for Analysis\n",
    "3. Exploratory Data Analysis\n",
    "4. Correlation Analysis\n",
    "5. Statistical Test\n",
    "6. Insights & Recommendations"
   ]
  },
  {
   "cell_type": "markdown",
   "id": "c0a42648-7e8f-47d7-95bb-4151f6e4f721",
   "metadata": {},
   "source": [
    "### Key Insights\n",
    "\n",
    "- The most successful courses on Coursera are typically beginner or mixed-level, offered by reputable institutions, and focused on high-demand technical skills."
   ]
  },
  {
   "cell_type": "markdown",
   "id": "9bffe8ed-aa16-4fa6-ac66-111d9e80c5b3",
   "metadata": {},
   "source": [
    "| **Insights** | **Recommendations** |\n",
    "|--------------|----------------------|\n",
    "| **1. High Course Quality**: Coursera courses maintain an average rating of **4.677** with a low standard deviation, showing consistent learner satisfaction. | **Promote Top-Rated Courses**: Launch campaigns highlighting highly rated courses (4.8+), even if enrollments are currently low, to boost visibility through quality signals. |\n",
    "| **2. Uneven Enrollment Distribution**: A few top-performing courses (right-skewed distribution) dominate overall enrollments. | **Course Portfolio Optimization**: Review and refresh low-enrollment courses based on ratings. Reallocate resources toward high-impact content. |\n",
    "| **3. \"Mixed\" Difficulty Courses Excel**: Courses labeled \"Mixed\" (e.g., *The Science of Well-Being*, *Machine Learning*) combine wide appeal with high ratings. | **Analyze Successful \"Mixed\" Courses**: Study top \"Mixed\" courses to identify repeatable formats and apply lessons to design future offerings. |\n",
    "| **4. Beginner Courses Drive Volume**: Entry-level courses in high-demand areas (e.g., Python, IT Support) attract massive enrollments. | **Expand Beginner Offerings in Key Areas**: Develop more beginner-level courses in tech fields like AI, cybersecurity, and cloud computing. |\n",
    "| **5. Brand Reputation Matters**: Top enrollments cluster around prestigious universities and companies, underscoring brand trust. | **Leverage Strategic Partnerships**: Strengthen collaborations with top-tier academic and industry partners. Consider co-branded content. |\n",
    "| **6. High-Demand Content Categories**: Fields like *Data Science*, *Programming*, and *Health* dominate in popularity and relevance. | **Targeted Content Expansion**: Invest in growing high-demand categories and explore emerging trends within those verticals. |"
   ]
  },
  {
   "cell_type": "markdown",
   "id": "dcbd096c-4509-4ade-8aa3-69994a3bf9bf",
   "metadata": {},
   "source": [
    "**Next Steps considering broader data:**\n",
    "- Conduct a deeper analysis of course descriptions and content to move beyond keyword matching.\n",
    "- Explore the relationship between course length, price, and enrollment.\n",
    "- Analyze learner demographics to better understand the audience for different course types."
   ]
  },
  {
   "cell_type": "markdown",
   "id": "0773ecc2-25b4-40c2-be3d-9651d1cd4347",
   "metadata": {},
   "source": [
    "### Dataset\n",
    "\n",
    "Data originally scrapped from Coursera website, taken from [Kaggle](https://www.kaggle.com/datasets/siddharthm1698/coursera-course-dataset).  \n",
    "It consists of **890 courses and 6 columns**. Description of each column:\n",
    "\n",
    "1. ***course_title*** : The title of the course.\n",
    "2. ***course_organization*** : The organization offering the course.\n",
    "3. ***course_Certificate_type*** : The type of certificate available upon course completion.\n",
    "4. ***course_rating*** : The average user rating for the course.\n",
    "5. ***course_difficulty*** : The difficulty level of the course.\n",
    "6. ***course_students_enrolled*** : The number of students enrolled in the course."
   ]
  },
  {
   "cell_type": "markdown",
   "id": "bc200bc8-cdd5-4e52-b29c-45f139c6285b",
   "metadata": {},
   "source": [
    "---"
   ]
  },
  {
   "cell_type": "markdown",
   "id": "e18edc95-771a-4709-b10d-9175aca17c66",
   "metadata": {},
   "source": [
    "### Import"
   ]
  },
  {
   "cell_type": "code",
   "execution_count": 1,
   "id": "d238a263-66f9-47b6-9175-829c5aac67b5",
   "metadata": {},
   "outputs": [],
   "source": [
    "# Data manipulation\n",
    "import pandas as pd\n",
    "import numpy as np\n",
    "\n",
    "# Visualization\n",
    "import matplotlib.pyplot as plt\n",
    "import seaborn as sns\n",
    "import plotly.express as px\n",
    "import plotly.graph_objects as go\n",
    "\n",
    "# Statistics & modeling\n",
    "import scipy.stats as stats\n",
    "import statsmodels.api as sm\n",
    "from statsmodels.stats.multitest import multipletests\n",
    "\n",
    "# Machine learning and processing\n",
    "from sklearn.preprocessing import MinMaxScaler\n",
    "from sklearn.feature_extraction.text import TfidfVectorizer\n",
    "\n",
    "# Language detection and translation\n",
    "from langdetect import detect, detect_langs\n",
    "from deep_translator import GoogleTranslator\n",
    "import langid\n",
    "\n",
    "# Utilities\n",
    "import re\n",
    "import itertools"
   ]
  },
  {
   "cell_type": "markdown",
   "id": "d6301c67-efed-4f95-a7c8-0b86eaa9ff08",
   "metadata": {},
   "source": [
    "---"
   ]
  },
  {
   "cell_type": "markdown",
   "id": "bbd12002-671c-4044-accd-f3be84621141",
   "metadata": {},
   "source": [
    "## 1. Load & Display Data"
   ]
  },
  {
   "cell_type": "code",
   "execution_count": 2,
   "id": "9905329e-77ae-4291-95e8-bec0b410e81f",
   "metadata": {},
   "outputs": [
    {
     "data": {
      "text/html": [
       "<div>\n",
       "<style scoped>\n",
       "    .dataframe tbody tr th:only-of-type {\n",
       "        vertical-align: middle;\n",
       "    }\n",
       "\n",
       "    .dataframe tbody tr th {\n",
       "        vertical-align: top;\n",
       "    }\n",
       "\n",
       "    .dataframe thead th {\n",
       "        text-align: right;\n",
       "    }\n",
       "</style>\n",
       "<table border=\"1\" class=\"dataframe\">\n",
       "  <thead>\n",
       "    <tr style=\"text-align: right;\">\n",
       "      <th></th>\n",
       "      <th>course_title</th>\n",
       "      <th>course_organization</th>\n",
       "      <th>course_Certificate_type</th>\n",
       "      <th>course_rating</th>\n",
       "      <th>course_difficulty</th>\n",
       "      <th>course_students_enrolled</th>\n",
       "    </tr>\n",
       "  </thead>\n",
       "  <tbody>\n",
       "    <tr>\n",
       "      <th>0</th>\n",
       "      <td>IBM Data Science</td>\n",
       "      <td>IBM</td>\n",
       "      <td>PROFESSIONAL CERTIFICATE</td>\n",
       "      <td>4.6</td>\n",
       "      <td>Beginner</td>\n",
       "      <td>480k</td>\n",
       "    </tr>\n",
       "    <tr>\n",
       "      <th>1</th>\n",
       "      <td>Introduction to Data Science</td>\n",
       "      <td>IBM</td>\n",
       "      <td>SPECIALIZATION</td>\n",
       "      <td>4.6</td>\n",
       "      <td>Beginner</td>\n",
       "      <td>310k</td>\n",
       "    </tr>\n",
       "    <tr>\n",
       "      <th>2</th>\n",
       "      <td>The Science of Well-Being</td>\n",
       "      <td>Yale University</td>\n",
       "      <td>COURSE</td>\n",
       "      <td>4.9</td>\n",
       "      <td>Mixed</td>\n",
       "      <td>2.5m</td>\n",
       "    </tr>\n",
       "    <tr>\n",
       "      <th>3</th>\n",
       "      <td>Python for Everybody</td>\n",
       "      <td>University of Michigan</td>\n",
       "      <td>SPECIALIZATION</td>\n",
       "      <td>4.8</td>\n",
       "      <td>Beginner</td>\n",
       "      <td>1.5m</td>\n",
       "    </tr>\n",
       "    <tr>\n",
       "      <th>4</th>\n",
       "      <td>Google IT Support</td>\n",
       "      <td>Google</td>\n",
       "      <td>PROFESSIONAL CERTIFICATE</td>\n",
       "      <td>4.8</td>\n",
       "      <td>Beginner</td>\n",
       "      <td>350k</td>\n",
       "    </tr>\n",
       "  </tbody>\n",
       "</table>\n",
       "</div>"
      ],
      "text/plain": [
       "                   course_title     course_organization  \\\n",
       "0              IBM Data Science                     IBM   \n",
       "1  Introduction to Data Science                     IBM   \n",
       "2     The Science of Well-Being         Yale University   \n",
       "3          Python for Everybody  University of Michigan   \n",
       "4             Google IT Support                  Google   \n",
       "\n",
       "    course_Certificate_type  course_rating course_difficulty  \\\n",
       "0  PROFESSIONAL CERTIFICATE            4.6          Beginner   \n",
       "1            SPECIALIZATION            4.6          Beginner   \n",
       "2                    COURSE            4.9             Mixed   \n",
       "3            SPECIALIZATION            4.8          Beginner   \n",
       "4  PROFESSIONAL CERTIFICATE            4.8          Beginner   \n",
       "\n",
       "  course_students_enrolled  \n",
       "0                     480k  \n",
       "1                     310k  \n",
       "2                     2.5m  \n",
       "3                     1.5m  \n",
       "4                     350k  "
      ]
     },
     "execution_count": 2,
     "metadata": {},
     "output_type": "execute_result"
    }
   ],
   "source": [
    "df_origin = pd.read_csv(\"coursera/coursera.csv\", index_col=0).sort_index()\n",
    "df_origin.head()"
   ]
  },
  {
   "cell_type": "markdown",
   "id": "9d5a466e-e798-4ec1-bd67-3fe69889b7ec",
   "metadata": {},
   "source": [
    "#### 1.1. Rename Columns\n",
    "- Remove the \"course_\" prefix from column names (except *\"course_title\"*).\n",
    "- Convert all column names to lowercase for consistency and easier access in code."
   ]
  },
  {
   "cell_type": "code",
   "execution_count": 3,
   "id": "70b35449-18a9-48a4-9e24-f83db277be35",
   "metadata": {},
   "outputs": [],
   "source": [
    "df = df_origin.copy()"
   ]
  },
  {
   "cell_type": "code",
   "execution_count": 4,
   "id": "d13afe09-92ef-4283-8f88-c66f6aa4036c",
   "metadata": {},
   "outputs": [],
   "source": [
    "cols = df.columns.tolist()\n",
    "new_cols = [cols[0]] + [col.replace(\"course_\", \"\").lower() for col in cols[1:]]\n",
    "\n",
    "df.columns = new_cols"
   ]
  },
  {
   "cell_type": "code",
   "execution_count": 5,
   "id": "02a08dfc-42d9-4455-a5bf-82eebab2c201",
   "metadata": {},
   "outputs": [
    {
     "name": "stdout",
     "output_type": "stream",
     "text": [
      "<class 'pandas.core.frame.DataFrame'>\n",
      "Index: 891 entries, 0 to 890\n",
      "Data columns (total 6 columns):\n",
      " #   Column             Non-Null Count  Dtype  \n",
      "---  ------             --------------  -----  \n",
      " 0   course_title       891 non-null    object \n",
      " 1   organization       891 non-null    object \n",
      " 2   certificate_type   891 non-null    object \n",
      " 3   rating             891 non-null    float64\n",
      " 4   difficulty         891 non-null    object \n",
      " 5   students_enrolled  891 non-null    object \n",
      "dtypes: float64(1), object(5)\n",
      "memory usage: 48.7+ KB\n"
     ]
    }
   ],
   "source": [
    "df.info()"
   ]
  },
  {
   "cell_type": "markdown",
   "id": "dd506760-eb93-49e0-9234-3385b9b947f5",
   "metadata": {},
   "source": [
    "All columns contain non-null values, but most of their data types should be updated for better performance and clarity:\n",
    "\n",
    "- *course_title*, *organization*: convert to string\n",
    "- *certificate_type*, *difficulty*: convert to category\n",
    "- *students_enrolled*: convert to int"
   ]
  },
  {
   "cell_type": "markdown",
   "id": "eedadb89-cb9e-4dd0-a2e6-94bef7731c80",
   "metadata": {},
   "source": [
    "#### 1.2. Convert data types"
   ]
  },
  {
   "cell_type": "code",
   "execution_count": 6,
   "id": "aa41ad14-1515-4020-a31f-9c9fc1d2014c",
   "metadata": {},
   "outputs": [],
   "source": [
    "# Apply title casing for consistency\n",
    "df[\"certificate_type\"] = df[\"certificate_type\"].str.title()"
   ]
  },
  {
   "cell_type": "code",
   "execution_count": 7,
   "id": "6699cfe9-3e06-41b4-a756-ae96151e0876",
   "metadata": {},
   "outputs": [],
   "source": [
    "dtype_mapping = {\n",
    "    \"course_title\": \"string\",\n",
    "    \"organization\": \"string\",\n",
    "    \"certificate_type\": \"category\",\n",
    "    \"difficulty\": \"category\"\n",
    "}\n",
    "\n",
    "for col, dtype in dtype_mapping.items():\n",
    "    df[col] = df[col].astype(dtype)"
   ]
  },
  {
   "cell_type": "markdown",
   "id": "7101fbad-6ff8-46c7-b68d-146865d8c3a9",
   "metadata": {},
   "source": [
    "Change ***'course_students_enrolled'*** to Int64:"
   ]
  },
  {
   "cell_type": "code",
   "execution_count": 8,
   "id": "b556e098-eb93-4ce5-ad62-19dd97501d14",
   "metadata": {},
   "outputs": [],
   "source": [
    "def convert_enrollment_to_int(df, column_name):\n",
    "    \"\"\"\n",
    "    Converts column with student enrollment figures \n",
    "    (e.g., \"690k\", \"1.m\") into integer numbers.\n",
    "    \"\"\"\n",
    "    def parse_enrollment_string(enrollment_str):\n",
    "        if pd.isna(enrollment_str):\n",
    "            return None\n",
    "        if isinstance(enrollment_str, (int, float)):\n",
    "            return int(enrollment_str)\n",
    "\n",
    "        s = str(enrollment_str).strip().lower().replace(\",\", \"\")\n",
    "        if \"k\" in s:\n",
    "            return int(float(s.replace(\"k\", \"\")) * 1000)\n",
    "        elif \"m\" in s:\n",
    "            return int(float(s.replace(\"m\", \"\")) * 1000000)\n",
    "        else:\n",
    "            try:\n",
    "                return int(float(s))\n",
    "            except ValueError:\n",
    "                return None\n",
    "\n",
    "    df[column_name] = df[column_name].apply(parse_enrollment_string)\n",
    "    df[column_name] = df[column_name].astype(\"Int64\")\n",
    "\n",
    "    return df"
   ]
  },
  {
   "cell_type": "code",
   "execution_count": 9,
   "id": "4e588b91-fb13-49ac-afb7-16da2ec447bd",
   "metadata": {},
   "outputs": [],
   "source": [
    "df = convert_enrollment_to_int(df, \"students_enrolled\")"
   ]
  },
  {
   "cell_type": "code",
   "execution_count": 10,
   "id": "a25cd301-cc98-4af6-9891-a3755b9f9ec3",
   "metadata": {},
   "outputs": [
    {
     "data": {
      "text/html": [
       "<div>\n",
       "<style scoped>\n",
       "    .dataframe tbody tr th:only-of-type {\n",
       "        vertical-align: middle;\n",
       "    }\n",
       "\n",
       "    .dataframe tbody tr th {\n",
       "        vertical-align: top;\n",
       "    }\n",
       "\n",
       "    .dataframe thead th {\n",
       "        text-align: right;\n",
       "    }\n",
       "</style>\n",
       "<table border=\"1\" class=\"dataframe\">\n",
       "  <thead>\n",
       "    <tr style=\"text-align: right;\">\n",
       "      <th></th>\n",
       "      <th>course_title</th>\n",
       "      <th>organization</th>\n",
       "      <th>certificate_type</th>\n",
       "      <th>rating</th>\n",
       "      <th>difficulty</th>\n",
       "      <th>students_enrolled</th>\n",
       "    </tr>\n",
       "  </thead>\n",
       "  <tbody>\n",
       "    <tr>\n",
       "      <th>0</th>\n",
       "      <td>IBM Data Science</td>\n",
       "      <td>IBM</td>\n",
       "      <td>Professional Certificate</td>\n",
       "      <td>4.6</td>\n",
       "      <td>Beginner</td>\n",
       "      <td>480000</td>\n",
       "    </tr>\n",
       "    <tr>\n",
       "      <th>1</th>\n",
       "      <td>Introduction to Data Science</td>\n",
       "      <td>IBM</td>\n",
       "      <td>Specialization</td>\n",
       "      <td>4.6</td>\n",
       "      <td>Beginner</td>\n",
       "      <td>310000</td>\n",
       "    </tr>\n",
       "    <tr>\n",
       "      <th>2</th>\n",
       "      <td>The Science of Well-Being</td>\n",
       "      <td>Yale University</td>\n",
       "      <td>Course</td>\n",
       "      <td>4.9</td>\n",
       "      <td>Mixed</td>\n",
       "      <td>2500000</td>\n",
       "    </tr>\n",
       "    <tr>\n",
       "      <th>3</th>\n",
       "      <td>Python for Everybody</td>\n",
       "      <td>University of Michigan</td>\n",
       "      <td>Specialization</td>\n",
       "      <td>4.8</td>\n",
       "      <td>Beginner</td>\n",
       "      <td>1500000</td>\n",
       "    </tr>\n",
       "    <tr>\n",
       "      <th>4</th>\n",
       "      <td>Google IT Support</td>\n",
       "      <td>Google</td>\n",
       "      <td>Professional Certificate</td>\n",
       "      <td>4.8</td>\n",
       "      <td>Beginner</td>\n",
       "      <td>350000</td>\n",
       "    </tr>\n",
       "  </tbody>\n",
       "</table>\n",
       "</div>"
      ],
      "text/plain": [
       "                   course_title            organization  \\\n",
       "0              IBM Data Science                     IBM   \n",
       "1  Introduction to Data Science                     IBM   \n",
       "2     The Science of Well-Being         Yale University   \n",
       "3          Python for Everybody  University of Michigan   \n",
       "4             Google IT Support                  Google   \n",
       "\n",
       "           certificate_type  rating difficulty  students_enrolled  \n",
       "0  Professional Certificate     4.6   Beginner             480000  \n",
       "1            Specialization     4.6   Beginner             310000  \n",
       "2                    Course     4.9      Mixed            2500000  \n",
       "3            Specialization     4.8   Beginner            1500000  \n",
       "4  Professional Certificate     4.8   Beginner             350000  "
      ]
     },
     "execution_count": 10,
     "metadata": {},
     "output_type": "execute_result"
    }
   ],
   "source": [
    "df.head()"
   ]
  },
  {
   "cell_type": "code",
   "execution_count": 11,
   "id": "05469d40-fb28-45b8-89b2-4e8340191d2a",
   "metadata": {},
   "outputs": [
    {
     "name": "stdout",
     "output_type": "stream",
     "text": [
      "<class 'pandas.core.frame.DataFrame'>\n",
      "Index: 891 entries, 0 to 890\n",
      "Data columns (total 6 columns):\n",
      " #   Column             Non-Null Count  Dtype   \n",
      "---  ------             --------------  -----   \n",
      " 0   course_title       891 non-null    string  \n",
      " 1   organization       891 non-null    string  \n",
      " 2   certificate_type   891 non-null    category\n",
      " 3   rating             891 non-null    float64 \n",
      " 4   difficulty         891 non-null    category\n",
      " 5   students_enrolled  891 non-null    Int64   \n",
      "dtypes: Int64(1), category(2), float64(1), string(2)\n",
      "memory usage: 37.7 KB\n"
     ]
    }
   ],
   "source": [
    "df.info()"
   ]
  },
  {
   "cell_type": "markdown",
   "id": "91d9375a-f54c-4946-a510-9e0fa38db7ce",
   "metadata": {},
   "source": [
    "---"
   ]
  },
  {
   "cell_type": "markdown",
   "id": "30185291-21f7-4d5f-bcc6-ee63e009e83f",
   "metadata": {},
   "source": [
    "## 2. Data Cleaning & Preparation for Analysis"
   ]
  },
  {
   "cell_type": "markdown",
   "id": "9d339439-803f-41ab-a121-9ece87fbf648",
   "metadata": {},
   "source": [
    "#### 2.1. Check for duplicate rows"
   ]
  },
  {
   "cell_type": "code",
   "execution_count": 12,
   "id": "ea39be7c-e638-4461-825c-70be9ad0dbbc",
   "metadata": {},
   "outputs": [
    {
     "name": "stdout",
     "output_type": "stream",
     "text": [
      "Found 0 duplicate rows.\n"
     ]
    }
   ],
   "source": [
    "duplicates = df[df.duplicated()]\n",
    "print(f\"Found {len(duplicates)} duplicate rows.\")"
   ]
  },
  {
   "cell_type": "markdown",
   "id": "73aee913-63a6-438d-b76f-448cc20e4360",
   "metadata": {},
   "source": [
    "---"
   ]
  },
  {
   "cell_type": "markdown",
   "id": "5cb83d01-2792-4738-8e91-c32efabf9c03",
   "metadata": {},
   "source": [
    "#### 2.2. Check unique column values"
   ]
  },
  {
   "cell_type": "code",
   "execution_count": 13,
   "id": "c6a4bb74-ed1d-4fa7-88b1-3812a7701b90",
   "metadata": {},
   "outputs": [
    {
     "data": {
      "text/plain": [
       "course_title         888\n",
       "organization         154\n",
       "certificate_type       3\n",
       "rating                14\n",
       "difficulty             4\n",
       "students_enrolled    205\n",
       "dtype: int64"
      ]
     },
     "execution_count": 13,
     "metadata": {},
     "output_type": "execute_result"
    }
   ],
   "source": [
    "df.nunique()"
   ]
  },
  {
   "cell_type": "markdown",
   "id": "44a4e86f-cebc-4024-9c9b-3341f793f87b",
   "metadata": {},
   "source": [
    "---"
   ]
  },
  {
   "cell_type": "markdown",
   "id": "ffb8460d-9c26-46f9-b8fb-6642e17701af",
   "metadata": {},
   "source": [
    "#### 2.3. Languages and translation"
   ]
  },
  {
   "cell_type": "markdown",
   "id": "84b17b56-3f43-4f14-b8a8-a46ae9d7c422",
   "metadata": {},
   "source": [
    "The implementation of language detection and translation for ***'course_title'*** allows for a more comprehensive analysis across all courses, regardless of their original language."
   ]
  },
  {
   "cell_type": "markdown",
   "id": "6f1b892e-db6e-4c1d-847d-ec0032f84d72",
   "metadata": {},
   "source": [
    "##### 2.3.1. Detect and Assign the Language"
   ]
  },
  {
   "cell_type": "code",
   "execution_count": 14,
   "id": "92c3a3dc-27f1-4d92-a553-dbbe6534e16f",
   "metadata": {},
   "outputs": [],
   "source": [
    "df_lang = df.copy()\n",
    "\n",
    "# Returns the language code like 'en', 'ru', etc.\n",
    "def detect_lang(text):\n",
    "    return langid.classify(text)[0]  "
   ]
  },
  {
   "cell_type": "code",
   "execution_count": 15,
   "id": "d2ec183e-0ed5-4f3f-9360-b4f59d54a3d0",
   "metadata": {},
   "outputs": [],
   "source": [
    "df_lang[\"language\"] = df_lang[\"course_title\"].apply(detect_lang)"
   ]
  },
  {
   "cell_type": "code",
   "execution_count": 16,
   "id": "31c11dfe-819f-4592-8e43-92bda33034d4",
   "metadata": {},
   "outputs": [
    {
     "data": {
      "text/html": [
       "<div>\n",
       "<style scoped>\n",
       "    .dataframe tbody tr th:only-of-type {\n",
       "        vertical-align: middle;\n",
       "    }\n",
       "\n",
       "    .dataframe tbody tr th {\n",
       "        vertical-align: top;\n",
       "    }\n",
       "\n",
       "    .dataframe thead th {\n",
       "        text-align: right;\n",
       "    }\n",
       "</style>\n",
       "<table border=\"1\" class=\"dataframe\">\n",
       "  <thead>\n",
       "    <tr style=\"text-align: right;\">\n",
       "      <th></th>\n",
       "      <th>course_title</th>\n",
       "      <th>organization</th>\n",
       "      <th>certificate_type</th>\n",
       "      <th>rating</th>\n",
       "      <th>difficulty</th>\n",
       "      <th>students_enrolled</th>\n",
       "      <th>language</th>\n",
       "    </tr>\n",
       "  </thead>\n",
       "  <tbody>\n",
       "    <tr>\n",
       "      <th>886</th>\n",
       "      <td>Understanding Modern Finance</td>\n",
       "      <td>American Institute of Business and Economics</td>\n",
       "      <td>Specialization</td>\n",
       "      <td>4.4</td>\n",
       "      <td>Intermediate</td>\n",
       "      <td>11000</td>\n",
       "      <td>de</td>\n",
       "    </tr>\n",
       "    <tr>\n",
       "      <th>887</th>\n",
       "      <td>Object-Oriented Design</td>\n",
       "      <td>University of Alberta</td>\n",
       "      <td>Course</td>\n",
       "      <td>4.7</td>\n",
       "      <td>Intermediate</td>\n",
       "      <td>33000</td>\n",
       "      <td>en</td>\n",
       "    </tr>\n",
       "    <tr>\n",
       "      <th>888</th>\n",
       "      <td>Aprende a programar con Python</td>\n",
       "      <td>Universidad Austral</td>\n",
       "      <td>Specialization</td>\n",
       "      <td>4.2</td>\n",
       "      <td>Beginner</td>\n",
       "      <td>6600</td>\n",
       "      <td>es</td>\n",
       "    </tr>\n",
       "    <tr>\n",
       "      <th>889</th>\n",
       "      <td>Погружение в Python</td>\n",
       "      <td>Moscow Institute of Physics and Technology</td>\n",
       "      <td>Course</td>\n",
       "      <td>4.7</td>\n",
       "      <td>Intermediate</td>\n",
       "      <td>45000</td>\n",
       "      <td>ru</td>\n",
       "    </tr>\n",
       "    <tr>\n",
       "      <th>890</th>\n",
       "      <td>Compassionate Leadership Through Service Learn...</td>\n",
       "      <td>University of Colorado Boulder</td>\n",
       "      <td>Course</td>\n",
       "      <td>4.9</td>\n",
       "      <td>Beginner</td>\n",
       "      <td>6400</td>\n",
       "      <td>en</td>\n",
       "    </tr>\n",
       "  </tbody>\n",
       "</table>\n",
       "</div>"
      ],
      "text/plain": [
       "                                          course_title  \\\n",
       "886                       Understanding Modern Finance   \n",
       "887                             Object-Oriented Design   \n",
       "888                     Aprende a programar con Python   \n",
       "889                                Погружение в Python   \n",
       "890  Compassionate Leadership Through Service Learn...   \n",
       "\n",
       "                                     organization certificate_type  rating  \\\n",
       "886  American Institute of Business and Economics   Specialization     4.4   \n",
       "887                         University of Alberta           Course     4.7   \n",
       "888                           Universidad Austral   Specialization     4.2   \n",
       "889    Moscow Institute of Physics and Technology           Course     4.7   \n",
       "890                University of Colorado Boulder           Course     4.9   \n",
       "\n",
       "       difficulty  students_enrolled language  \n",
       "886  Intermediate              11000       de  \n",
       "887  Intermediate              33000       en  \n",
       "888      Beginner               6600       es  \n",
       "889  Intermediate              45000       ru  \n",
       "890      Beginner               6400       en  "
      ]
     },
     "execution_count": 16,
     "metadata": {},
     "output_type": "execute_result"
    }
   ],
   "source": [
    "df_lang.tail()"
   ]
  },
  {
   "cell_type": "markdown",
   "id": "759dd453-4e44-4c00-a651-a2ebe63d013f",
   "metadata": {},
   "source": [
    "---"
   ]
  },
  {
   "cell_type": "markdown",
   "id": "93eb1319-4f87-416d-8c15-05f932f1cf3a",
   "metadata": {},
   "source": [
    "##### 2.3.2. Fix Wrongly Detected Language"
   ]
  },
  {
   "cell_type": "markdown",
   "id": "5b903a70-1760-4a5c-9e3d-bf0496854fa9",
   "metadata": {},
   "source": [
    "Since several course titles were wrongly detected *(e.g. 886: 'language' - de)*, fixed it manually."
   ]
  },
  {
   "cell_type": "code",
   "execution_count": 17,
   "id": "6b3abac3-87fe-42be-b4b3-58589e610a72",
   "metadata": {},
   "outputs": [],
   "source": [
    "# Index-based manual language fixes\n",
    "manual_index_updates = {\n",
    "    \"en\": [5, 6, 14, 21, 33, 95, 149, 181, \n",
    "           189, 205, 207, 348, 360, 365, \n",
    "           367, 387, 390, 435, 487, 496, \n",
    "           537, 578, 601, 632, 676, 682, \n",
    "           704, 756, 761, 770, 777, 817, 824],\n",
    "    \"es\": [366, 512, 607, 881],\n",
    "    \"ru\": [236, 846, 883]\n",
    "}\n",
    "\n",
    "for lang, idx_list in manual_index_updates.items():\n",
    "    df_lang.loc[idx_list, \"language\"] = lang\n",
    "\n",
    "# Value-based replacements\n",
    "replace_languages = {\n",
    "    \"nl\": \"en\", \"it\": \"en\", \"et\": \"en\",\n",
    "    \"de\": \"en\", \"pl\": \"en\", \"hu\": \"en\",\n",
    "    \"ro\": \"en\", \"zh\": \"ja\"\n",
    "}\n",
    "\n",
    "df_lang[\"language\"] = df_lang[\"language\"].replace(replace_languages)"
   ]
  },
  {
   "cell_type": "code",
   "execution_count": 18,
   "id": "48f3413c-99a1-4725-9eab-50ed65baf6ec",
   "metadata": {},
   "outputs": [
    {
     "name": "stdout",
     "output_type": "stream",
     "text": [
      "  language  count\n",
      "0       en    804\n",
      "1       es     55\n",
      "2       ru     16\n",
      "3       fr      9\n",
      "4       ja      4\n",
      "5       pt      3\n",
      "Total non-English courses: 87\n"
     ]
    }
   ],
   "source": [
    "language_counts = df_lang[\"language\"].value_counts().reset_index()\n",
    "language_counts.columns = [\"language\", \"count\"]\n",
    "non_english_total = df_lang[df_lang[\"language\"] != \"en\"].shape[0]\n",
    "print(language_counts)\n",
    "print(\"Total non-English courses:\", non_english_total)"
   ]
  },
  {
   "cell_type": "markdown",
   "id": "27f887d6-09c1-435c-a913-2ed675b2c91b",
   "metadata": {},
   "source": [
    "---"
   ]
  },
  {
   "cell_type": "markdown",
   "id": "2d2c53a4-78d5-436f-baf4-141d824753bc",
   "metadata": {},
   "source": [
    "##### 2.3.3. Translate non English course titles"
   ]
  },
  {
   "cell_type": "code",
   "execution_count": 19,
   "id": "43b62024-8b0b-4779-bfe4-53b2b18c1a1d",
   "metadata": {},
   "outputs": [],
   "source": [
    "def translate_to_english(title, language):\n",
    "    if lang == \"en\":\n",
    "        return title\n",
    "    try:\n",
    "        translated = GoogleTranslator(source=language, target=\"en\").translate(title)\n",
    "        return translated\n",
    "    except Exception as e:\n",
    "        print(f\"Translation error for '{title}': {e}\")\n",
    "        return title"
   ]
  },
  {
   "cell_type": "code",
   "execution_count": 20,
   "id": "c517610c-c1a0-4959-8e80-40d813efed7a",
   "metadata": {},
   "outputs": [
    {
     "name": "stdout",
     "output_type": "stream",
     "text": [
      "Translation error for 'Explorando la Energía Sustentable': Explorando la Energía Sustentable --> No translation was found using the current translator. Try another translator?\n"
     ]
    }
   ],
   "source": [
    "df_lang[\"translated_title\"] = df_lang.apply(\n",
    "    lambda row: translate_to_english(row[\"course_title\"], row[\"language\"]), axis=1\n",
    ")"
   ]
  },
  {
   "cell_type": "code",
   "execution_count": 21,
   "id": "9e551f57-f1d8-4a9a-9fa7-a1bd11a9ae36",
   "metadata": {},
   "outputs": [
    {
     "data": {
      "text/html": [
       "<div>\n",
       "<style scoped>\n",
       "    .dataframe tbody tr th:only-of-type {\n",
       "        vertical-align: middle;\n",
       "    }\n",
       "\n",
       "    .dataframe tbody tr th {\n",
       "        vertical-align: top;\n",
       "    }\n",
       "\n",
       "    .dataframe thead th {\n",
       "        text-align: right;\n",
       "    }\n",
       "</style>\n",
       "<table border=\"1\" class=\"dataframe\">\n",
       "  <thead>\n",
       "    <tr style=\"text-align: right;\">\n",
       "      <th></th>\n",
       "      <th>course_title</th>\n",
       "      <th>organization</th>\n",
       "      <th>certificate_type</th>\n",
       "      <th>rating</th>\n",
       "      <th>difficulty</th>\n",
       "      <th>students_enrolled</th>\n",
       "      <th>language</th>\n",
       "      <th>translated_title</th>\n",
       "    </tr>\n",
       "  </thead>\n",
       "  <tbody>\n",
       "    <tr>\n",
       "      <th>886</th>\n",
       "      <td>Understanding Modern Finance</td>\n",
       "      <td>American Institute of Business and Economics</td>\n",
       "      <td>Specialization</td>\n",
       "      <td>4.4</td>\n",
       "      <td>Intermediate</td>\n",
       "      <td>11000</td>\n",
       "      <td>en</td>\n",
       "      <td>Understanding Modern Finance</td>\n",
       "    </tr>\n",
       "    <tr>\n",
       "      <th>887</th>\n",
       "      <td>Object-Oriented Design</td>\n",
       "      <td>University of Alberta</td>\n",
       "      <td>Course</td>\n",
       "      <td>4.7</td>\n",
       "      <td>Intermediate</td>\n",
       "      <td>33000</td>\n",
       "      <td>en</td>\n",
       "      <td>Object-Oriented Design</td>\n",
       "    </tr>\n",
       "    <tr>\n",
       "      <th>888</th>\n",
       "      <td>Aprende a programar con Python</td>\n",
       "      <td>Universidad Austral</td>\n",
       "      <td>Specialization</td>\n",
       "      <td>4.2</td>\n",
       "      <td>Beginner</td>\n",
       "      <td>6600</td>\n",
       "      <td>es</td>\n",
       "      <td>Learn to program with python</td>\n",
       "    </tr>\n",
       "    <tr>\n",
       "      <th>889</th>\n",
       "      <td>Погружение в Python</td>\n",
       "      <td>Moscow Institute of Physics and Technology</td>\n",
       "      <td>Course</td>\n",
       "      <td>4.7</td>\n",
       "      <td>Intermediate</td>\n",
       "      <td>45000</td>\n",
       "      <td>ru</td>\n",
       "      <td>Immersion in Python</td>\n",
       "    </tr>\n",
       "    <tr>\n",
       "      <th>890</th>\n",
       "      <td>Compassionate Leadership Through Service Learn...</td>\n",
       "      <td>University of Colorado Boulder</td>\n",
       "      <td>Course</td>\n",
       "      <td>4.9</td>\n",
       "      <td>Beginner</td>\n",
       "      <td>6400</td>\n",
       "      <td>en</td>\n",
       "      <td>Compassionate Leadership Through Service Learn...</td>\n",
       "    </tr>\n",
       "  </tbody>\n",
       "</table>\n",
       "</div>"
      ],
      "text/plain": [
       "                                          course_title  \\\n",
       "886                       Understanding Modern Finance   \n",
       "887                             Object-Oriented Design   \n",
       "888                     Aprende a programar con Python   \n",
       "889                                Погружение в Python   \n",
       "890  Compassionate Leadership Through Service Learn...   \n",
       "\n",
       "                                     organization certificate_type  rating  \\\n",
       "886  American Institute of Business and Economics   Specialization     4.4   \n",
       "887                         University of Alberta           Course     4.7   \n",
       "888                           Universidad Austral   Specialization     4.2   \n",
       "889    Moscow Institute of Physics and Technology           Course     4.7   \n",
       "890                University of Colorado Boulder           Course     4.9   \n",
       "\n",
       "       difficulty  students_enrolled language  \\\n",
       "886  Intermediate              11000       en   \n",
       "887  Intermediate              33000       en   \n",
       "888      Beginner               6600       es   \n",
       "889  Intermediate              45000       ru   \n",
       "890      Beginner               6400       en   \n",
       "\n",
       "                                      translated_title  \n",
       "886                       Understanding Modern Finance  \n",
       "887                             Object-Oriented Design  \n",
       "888                       Learn to program with python  \n",
       "889                                Immersion in Python  \n",
       "890  Compassionate Leadership Through Service Learn...  "
      ]
     },
     "execution_count": 21,
     "metadata": {},
     "output_type": "execute_result"
    }
   ],
   "source": [
    "df_lang.tail()"
   ]
  },
  {
   "cell_type": "markdown",
   "id": "23d45a7b-c592-4cb3-820b-d24c32ec1a1b",
   "metadata": {},
   "source": [
    "---"
   ]
  },
  {
   "cell_type": "markdown",
   "id": "598d1102-a719-4630-9695-772696402203",
   "metadata": {},
   "source": [
    "#### 2.4. Create course categories"
   ]
  },
  {
   "cell_type": "markdown",
   "id": "6942d658-e21d-4300-8faf-24f8f4e9500a",
   "metadata": {},
   "source": [
    "To better identify the most relevant topics, courses have been categorized by their titles into these groups:\n",
    "- Data Science & Analytics\n",
    "- Programming & Software Dev\n",
    "- Business & Marketing\n",
    "- Health & Medicine\n",
    "- Arts & Humanities\n",
    "- Social Sciences\n",
    "- Cloud Computing & IT\n",
    "- Mathematics & Logic\n",
    "- Personal Development\n",
    "- Other"
   ]
  },
  {
   "cell_type": "markdown",
   "id": "720d111a-d37f-40e6-9104-21f5c49832ab",
   "metadata": {},
   "source": [
    "⚠️ **Limitation:**\n",
    "The topic categorization is based solely on keyword matching within course titles. While efficient, this approach may overlook nuances in course content, particularly for ambiguous or multi-topic courses. Future improvements could involve natural language processing on full course descriptions for more accurate classification."
   ]
  },
  {
   "cell_type": "code",
   "execution_count": 22,
   "id": "25cfd143-53b6-41c7-8cd2-a4284c6df602",
   "metadata": {},
   "outputs": [],
   "source": [
    "df_coursera = df_lang.copy()"
   ]
  },
  {
   "cell_type": "markdown",
   "id": "cce134a3-d344-4942-a408-ee21214de8cb",
   "metadata": {},
   "source": [
    "I used **NLTK** for keyword analysis on ***'translated_title'*** to refine categories, presenting only the final keywords for brevity."
   ]
  },
  {
   "cell_type": "code",
   "execution_count": 23,
   "id": "7aa2dc8a-df81-4242-b5a5-8ec1c436c422",
   "metadata": {},
   "outputs": [],
   "source": [
    "def assign_course_category(title):\n",
    "    \"\"\"\n",
    "    Assigns a category to a course title based on predefined keywords.\n",
    "    \"\"\"\n",
    "    title_lower = str(title).lower()\n",
    "\n",
    "    category_keywords = {\n",
    "        \"Data Science & Analytics\": [\n",
    "            \"data science\", \"data analytics\", \"data analysis\",\n",
    "            \"machine learning\", \"artificial intelligence\",\n",
    "            \"ai\", \"deep learning\", \"data\", \"big data\",\n",
    "            \"statistics\", \"bioinformatics\", \"sql\",\n",
    "            \"analysis\", \"data visualization\",\n",
    "            \"tensorflow\", \"analytics\",\n",
    "            \"information visualization\",\n",
    "        ],\n",
    "        \"Programming & Software Dev\": [\n",
    "            \"python\", \"java\", \"c++\", \"c +\", \"javascript\",\n",
    "            \"web development\", \"programming\", \"software\",\n",
    "            \"app development\", \"algorithms\", \"front-end\",\n",
    "            \"back-end\", \"android\", \"ios\", \"html\", \"css\",\n",
    "            \"r programming\", \"php\", \"swift\", \"kotlin\",\n",
    "            \"web\", \"agile\", \"game development\", \"coding\",\n",
    "            \"computer science\", \"programmer\", \"robotics\",\n",
    "        ],\n",
    "        \"Business & Marketing\": [\n",
    "            \"business\", \"marketing\", \"finance\", \"financial\",\n",
    "            \"economics\", \"management\", \"entrepreneurship\",\n",
    "            \"strategy\", \"leadership\", \"accounting\",\n",
    "            \"investing\", \"digital marketing\", \"sales\",\n",
    "            \"hr\", \"human resources\", \"advertising\",\n",
    "        ],\n",
    "        \"Health & Medicine\": [\n",
    "            \"health\", \"medicine\", \"medical\", \"public health\",\n",
    "            \"nutrition\", \"care\", \"biology\", \"anatomy\",\n",
    "            \"epidemiology\", \"genetics\", \"psychology\", \"drug\",\n",
    "            \"well-being\", \"nursing\", \"physiology\", \"sports\",\n",
    "            \"covid\", \"dentistry\", \"autism\", \"cancer\", \"hospital\",\n",
    "            \"dermatology\", \"immunology\",\n",
    "        ],\n",
    "        \"Arts & Humanities\": [\n",
    "            \"art\", \"history\", \"literature\", \"philosophy\",\n",
    "            \"music\", \"design\", \"writing\", \"creative\",\n",
    "            \"journalism\", \"ethics\", \"culture\",\n",
    "        ],\n",
    "        \"Social Sciences\": [\n",
    "            \"sociology\", \"political science\", \"psychology\",\n",
    "            \"human rights\", \"education\", \"law\", \"criminology\",\n",
    "            \"politics\", \"social\",\n",
    "        ],\n",
    "        \"Cloud Computing & IT\": [\n",
    "            \"cloud\", \"aws\", \"azure\", \"google cloud\", \"google\",\n",
    "            \"gcp\", \"it support\", \"cybersecurity\", \"cyber\",\n",
    "            \"networks\", \"devops\", \"system administration\",\n",
    "            \"linux\", \"information technology\", \"cisco networking\",\n",
    "            \"computing\",\n",
    "        ],\n",
    "        \"Mathematics & Logic\": [\n",
    "            \"mathematics\", \"math\", \"calculus\", \"algebra\",\n",
    "            \"logic\", \"discrete math\",\n",
    "        ],\n",
    "        \"Personal Development\": [\n",
    "            \"learning how to learn\", \"productivity\", \"career\",\n",
    "            \"personal\", \"negotiation\", \"mindset\", \"communication\",\n",
    "            \"language\", \"russian\", \"french\", \"english\", \"korean\",\n",
    "            \"japanese\", \"spanish\", \"chinese\", \"photography\", \"grammar\",\n",
    "        ],\n",
    "    }\n",
    "\n",
    "    for category, keywords in category_keywords.items():\n",
    "        for keyword in keywords:\n",
    "            if keyword in title_lower:\n",
    "                return category\n",
    "    return \"Other\""
   ]
  },
  {
   "cell_type": "code",
   "execution_count": 24,
   "id": "fa9c94d1-c91b-4921-a116-3e792e636441",
   "metadata": {},
   "outputs": [],
   "source": [
    "df_coursera[\"category\"] = df_coursera[\"translated_title\"].apply(assign_course_category)"
   ]
  },
  {
   "cell_type": "code",
   "execution_count": 25,
   "id": "47d9cab9-9f7f-4a7e-a8e3-d8dd68319766",
   "metadata": {},
   "outputs": [
    {
     "name": "stdout",
     "output_type": "stream",
     "text": [
      "Courses per category:\n"
     ]
    },
    {
     "data": {
      "text/plain": [
       "category\n",
       "Other                         189\n",
       "Business & Marketing          182\n",
       "Data Science & Analytics      180\n",
       "Programming & Software Dev     80\n",
       "Health & Medicine              76\n",
       "Arts & Humanities              72\n",
       "Cloud Computing & IT           40\n",
       "Personal Development           38\n",
       "Social Sciences                29\n",
       "Mathematics & Logic             5\n",
       "Name: count, dtype: int64"
      ]
     },
     "execution_count": 25,
     "metadata": {},
     "output_type": "execute_result"
    }
   ],
   "source": [
    "category_counts = df_coursera[\"category\"].value_counts()\n",
    "print(\"Courses per category:\")\n",
    "category_counts"
   ]
  },
  {
   "cell_type": "code",
   "execution_count": 26,
   "id": "6464f36f-14d5-4550-ade6-6e4a4900d1a3",
   "metadata": {},
   "outputs": [
    {
     "data": {
      "text/html": [
       "<div>\n",
       "<style scoped>\n",
       "    .dataframe tbody tr th:only-of-type {\n",
       "        vertical-align: middle;\n",
       "    }\n",
       "\n",
       "    .dataframe tbody tr th {\n",
       "        vertical-align: top;\n",
       "    }\n",
       "\n",
       "    .dataframe thead th {\n",
       "        text-align: right;\n",
       "    }\n",
       "</style>\n",
       "<table border=\"1\" class=\"dataframe\">\n",
       "  <thead>\n",
       "    <tr style=\"text-align: right;\">\n",
       "      <th></th>\n",
       "      <th>course_title</th>\n",
       "      <th>organization</th>\n",
       "      <th>certificate_type</th>\n",
       "      <th>rating</th>\n",
       "      <th>difficulty</th>\n",
       "      <th>students_enrolled</th>\n",
       "      <th>language</th>\n",
       "      <th>translated_title</th>\n",
       "      <th>category</th>\n",
       "    </tr>\n",
       "  </thead>\n",
       "  <tbody>\n",
       "    <tr>\n",
       "      <th>0</th>\n",
       "      <td>IBM Data Science</td>\n",
       "      <td>IBM</td>\n",
       "      <td>Professional Certificate</td>\n",
       "      <td>4.6</td>\n",
       "      <td>Beginner</td>\n",
       "      <td>480000</td>\n",
       "      <td>en</td>\n",
       "      <td>IBM Data Science</td>\n",
       "      <td>Data Science &amp; Analytics</td>\n",
       "    </tr>\n",
       "    <tr>\n",
       "      <th>1</th>\n",
       "      <td>Introduction to Data Science</td>\n",
       "      <td>IBM</td>\n",
       "      <td>Specialization</td>\n",
       "      <td>4.6</td>\n",
       "      <td>Beginner</td>\n",
       "      <td>310000</td>\n",
       "      <td>en</td>\n",
       "      <td>Introduction to Data Science</td>\n",
       "      <td>Data Science &amp; Analytics</td>\n",
       "    </tr>\n",
       "    <tr>\n",
       "      <th>2</th>\n",
       "      <td>The Science of Well-Being</td>\n",
       "      <td>Yale University</td>\n",
       "      <td>Course</td>\n",
       "      <td>4.9</td>\n",
       "      <td>Mixed</td>\n",
       "      <td>2500000</td>\n",
       "      <td>en</td>\n",
       "      <td>The Science of Well-Being</td>\n",
       "      <td>Health &amp; Medicine</td>\n",
       "    </tr>\n",
       "    <tr>\n",
       "      <th>3</th>\n",
       "      <td>Python for Everybody</td>\n",
       "      <td>University of Michigan</td>\n",
       "      <td>Specialization</td>\n",
       "      <td>4.8</td>\n",
       "      <td>Beginner</td>\n",
       "      <td>1500000</td>\n",
       "      <td>en</td>\n",
       "      <td>Python for Everybody</td>\n",
       "      <td>Programming &amp; Software Dev</td>\n",
       "    </tr>\n",
       "    <tr>\n",
       "      <th>4</th>\n",
       "      <td>Google IT Support</td>\n",
       "      <td>Google</td>\n",
       "      <td>Professional Certificate</td>\n",
       "      <td>4.8</td>\n",
       "      <td>Beginner</td>\n",
       "      <td>350000</td>\n",
       "      <td>en</td>\n",
       "      <td>Google IT Support</td>\n",
       "      <td>Cloud Computing &amp; IT</td>\n",
       "    </tr>\n",
       "  </tbody>\n",
       "</table>\n",
       "</div>"
      ],
      "text/plain": [
       "                   course_title            organization  \\\n",
       "0              IBM Data Science                     IBM   \n",
       "1  Introduction to Data Science                     IBM   \n",
       "2     The Science of Well-Being         Yale University   \n",
       "3          Python for Everybody  University of Michigan   \n",
       "4             Google IT Support                  Google   \n",
       "\n",
       "           certificate_type  rating difficulty  students_enrolled language  \\\n",
       "0  Professional Certificate     4.6   Beginner             480000       en   \n",
       "1            Specialization     4.6   Beginner             310000       en   \n",
       "2                    Course     4.9      Mixed            2500000       en   \n",
       "3            Specialization     4.8   Beginner            1500000       en   \n",
       "4  Professional Certificate     4.8   Beginner             350000       en   \n",
       "\n",
       "               translated_title                    category  \n",
       "0              IBM Data Science    Data Science & Analytics  \n",
       "1  Introduction to Data Science    Data Science & Analytics  \n",
       "2     The Science of Well-Being           Health & Medicine  \n",
       "3          Python for Everybody  Programming & Software Dev  \n",
       "4             Google IT Support        Cloud Computing & IT  "
      ]
     },
     "execution_count": 26,
     "metadata": {},
     "output_type": "execute_result"
    }
   ],
   "source": [
    "df_coursera.head()"
   ]
  },
  {
   "cell_type": "markdown",
   "id": "d8987cdf-7d3c-4b9d-bc44-16c365e98c62",
   "metadata": {},
   "source": [
    "---"
   ]
  },
  {
   "cell_type": "markdown",
   "id": "46e94879-550f-49b4-b38e-1f36db24701d",
   "metadata": {},
   "source": [
    "#### 2.5. Adjust position of the columns"
   ]
  },
  {
   "cell_type": "code",
   "execution_count": 27,
   "id": "99eb5ab6-ae47-44d4-ba5d-4473ed95d07f",
   "metadata": {},
   "outputs": [],
   "source": [
    "df_coursera = df_coursera[\n",
    "    [\n",
    "        \"course_title\",\n",
    "        \"translated_title\",\n",
    "        \"organization\",\n",
    "        \"certificate_type\",\n",
    "        \"rating\",\n",
    "        \"difficulty\",\n",
    "        \"students_enrolled\",\n",
    "        \"language\",\n",
    "        \"category\",\n",
    "    ]\n",
    "]"
   ]
  },
  {
   "cell_type": "code",
   "execution_count": 28,
   "id": "9cf86b1c-3adb-438d-9482-cc42f6c9ccf9",
   "metadata": {},
   "outputs": [
    {
     "data": {
      "text/html": [
       "<div>\n",
       "<style scoped>\n",
       "    .dataframe tbody tr th:only-of-type {\n",
       "        vertical-align: middle;\n",
       "    }\n",
       "\n",
       "    .dataframe tbody tr th {\n",
       "        vertical-align: top;\n",
       "    }\n",
       "\n",
       "    .dataframe thead th {\n",
       "        text-align: right;\n",
       "    }\n",
       "</style>\n",
       "<table border=\"1\" class=\"dataframe\">\n",
       "  <thead>\n",
       "    <tr style=\"text-align: right;\">\n",
       "      <th></th>\n",
       "      <th>course_title</th>\n",
       "      <th>translated_title</th>\n",
       "      <th>organization</th>\n",
       "      <th>certificate_type</th>\n",
       "      <th>rating</th>\n",
       "      <th>difficulty</th>\n",
       "      <th>students_enrolled</th>\n",
       "      <th>language</th>\n",
       "      <th>category</th>\n",
       "    </tr>\n",
       "  </thead>\n",
       "  <tbody>\n",
       "    <tr>\n",
       "      <th>0</th>\n",
       "      <td>IBM Data Science</td>\n",
       "      <td>IBM Data Science</td>\n",
       "      <td>IBM</td>\n",
       "      <td>Professional Certificate</td>\n",
       "      <td>4.6</td>\n",
       "      <td>Beginner</td>\n",
       "      <td>480000</td>\n",
       "      <td>en</td>\n",
       "      <td>Data Science &amp; Analytics</td>\n",
       "    </tr>\n",
       "    <tr>\n",
       "      <th>1</th>\n",
       "      <td>Introduction to Data Science</td>\n",
       "      <td>Introduction to Data Science</td>\n",
       "      <td>IBM</td>\n",
       "      <td>Specialization</td>\n",
       "      <td>4.6</td>\n",
       "      <td>Beginner</td>\n",
       "      <td>310000</td>\n",
       "      <td>en</td>\n",
       "      <td>Data Science &amp; Analytics</td>\n",
       "    </tr>\n",
       "    <tr>\n",
       "      <th>2</th>\n",
       "      <td>The Science of Well-Being</td>\n",
       "      <td>The Science of Well-Being</td>\n",
       "      <td>Yale University</td>\n",
       "      <td>Course</td>\n",
       "      <td>4.9</td>\n",
       "      <td>Mixed</td>\n",
       "      <td>2500000</td>\n",
       "      <td>en</td>\n",
       "      <td>Health &amp; Medicine</td>\n",
       "    </tr>\n",
       "    <tr>\n",
       "      <th>3</th>\n",
       "      <td>Python for Everybody</td>\n",
       "      <td>Python for Everybody</td>\n",
       "      <td>University of Michigan</td>\n",
       "      <td>Specialization</td>\n",
       "      <td>4.8</td>\n",
       "      <td>Beginner</td>\n",
       "      <td>1500000</td>\n",
       "      <td>en</td>\n",
       "      <td>Programming &amp; Software Dev</td>\n",
       "    </tr>\n",
       "    <tr>\n",
       "      <th>4</th>\n",
       "      <td>Google IT Support</td>\n",
       "      <td>Google IT Support</td>\n",
       "      <td>Google</td>\n",
       "      <td>Professional Certificate</td>\n",
       "      <td>4.8</td>\n",
       "      <td>Beginner</td>\n",
       "      <td>350000</td>\n",
       "      <td>en</td>\n",
       "      <td>Cloud Computing &amp; IT</td>\n",
       "    </tr>\n",
       "  </tbody>\n",
       "</table>\n",
       "</div>"
      ],
      "text/plain": [
       "                   course_title              translated_title  \\\n",
       "0              IBM Data Science              IBM Data Science   \n",
       "1  Introduction to Data Science  Introduction to Data Science   \n",
       "2     The Science of Well-Being     The Science of Well-Being   \n",
       "3          Python for Everybody          Python for Everybody   \n",
       "4             Google IT Support             Google IT Support   \n",
       "\n",
       "             organization          certificate_type  rating difficulty  \\\n",
       "0                     IBM  Professional Certificate     4.6   Beginner   \n",
       "1                     IBM            Specialization     4.6   Beginner   \n",
       "2         Yale University                    Course     4.9      Mixed   \n",
       "3  University of Michigan            Specialization     4.8   Beginner   \n",
       "4                  Google  Professional Certificate     4.8   Beginner   \n",
       "\n",
       "   students_enrolled language                    category  \n",
       "0             480000       en    Data Science & Analytics  \n",
       "1             310000       en    Data Science & Analytics  \n",
       "2            2500000       en           Health & Medicine  \n",
       "3            1500000       en  Programming & Software Dev  \n",
       "4             350000       en        Cloud Computing & IT  "
      ]
     },
     "execution_count": 28,
     "metadata": {},
     "output_type": "execute_result"
    }
   ],
   "source": [
    "df_coursera.head()"
   ]
  },
  {
   "cell_type": "markdown",
   "id": "86f9b1e4-9a08-41bf-84fa-79c173dd6af5",
   "metadata": {},
   "source": [
    "---"
   ]
  },
  {
   "cell_type": "markdown",
   "id": "2b51dbf5-9b2b-476e-bdb9-cb88955e51b6",
   "metadata": {},
   "source": [
    "#### 2.6.  Assign appropriate data types"
   ]
  },
  {
   "cell_type": "code",
   "execution_count": 29,
   "id": "5147da4d-f5b5-4d3e-bebd-3f4fffb8ac9f",
   "metadata": {},
   "outputs": [],
   "source": [
    "dtype_mapping = {\n",
    "    \"translated_title\": \"string\",\n",
    "    \"language\": \"category\",\n",
    "    \"category\": \"category\"\n",
    "}\n",
    "for col, dtype in dtype_mapping.items():\n",
    "    df_coursera[col] = df_coursera[col].astype(dtype)"
   ]
  },
  {
   "cell_type": "code",
   "execution_count": 30,
   "id": "985acf5c-b3fb-49db-b45b-28822be3c5d7",
   "metadata": {},
   "outputs": [
    {
     "data": {
      "text/plain": [
       "course_title         string[python]\n",
       "translated_title     string[python]\n",
       "organization         string[python]\n",
       "certificate_type           category\n",
       "rating                      float64\n",
       "difficulty                 category\n",
       "students_enrolled             Int64\n",
       "language                   category\n",
       "category                   category\n",
       "dtype: object"
      ]
     },
     "execution_count": 30,
     "metadata": {},
     "output_type": "execute_result"
    }
   ],
   "source": [
    "df_coursera.dtypes"
   ]
  },
  {
   "cell_type": "markdown",
   "id": "3fd44b19-14cf-46e7-85a6-0857f253db26",
   "metadata": {},
   "source": [
    "---"
   ]
  },
  {
   "cell_type": "markdown",
   "id": "1b904a71-aab4-4aed-8f83-dc87a03aeb59",
   "metadata": {},
   "source": [
    "#### 2.6. Checking for Outliers"
   ]
  },
  {
   "cell_type": "code",
   "execution_count": 31,
   "id": "2ad3ce9b-09ff-4c91-9ae3-96ebfc9d5f92",
   "metadata": {},
   "outputs": [],
   "source": [
    "# Select only numeric columns\n",
    "df_numeric = df_coursera.select_dtypes(include=[np.number])"
   ]
  },
  {
   "cell_type": "code",
   "execution_count": 32,
   "id": "f00affb1-429b-4276-90c7-503a8067af7a",
   "metadata": {},
   "outputs": [],
   "source": [
    "def count_all_outliers(df):\n",
    "    outlier_dict = {}\n",
    "    for col in df.columns:\n",
    "        Q1 = df[col].quantile(0.25)\n",
    "        Q3 = df[col].quantile(0.75)\n",
    "        IQR = Q3 - Q1\n",
    "        lower_bound = Q1 - 1.5 * IQR\n",
    "        upper_bound = Q3 + 1.5 * IQR\n",
    "\n",
    "        lower_outliers = (df[col] < lower_bound).sum()\n",
    "        upper_outliers = (df[col] > upper_bound).sum()\n",
    "\n",
    "        outlier_dict[col] = {\n",
    "            \"Upper Outliers\": upper_outliers,\n",
    "            \"Lower Outliers\": lower_outliers  \n",
    "        }\n",
    "\n",
    "    outlier_df = pd.DataFrame.from_dict(outlier_dict, orient=\"index\").T\n",
    "    return outlier_df"
   ]
  },
  {
   "cell_type": "code",
   "execution_count": 33,
   "id": "a8701537-0647-4598-8366-551bbd11d3f8",
   "metadata": {},
   "outputs": [
    {
     "data": {
      "text/html": [
       "<div>\n",
       "<style scoped>\n",
       "    .dataframe tbody tr th:only-of-type {\n",
       "        vertical-align: middle;\n",
       "    }\n",
       "\n",
       "    .dataframe tbody tr th {\n",
       "        vertical-align: top;\n",
       "    }\n",
       "\n",
       "    .dataframe thead th {\n",
       "        text-align: right;\n",
       "    }\n",
       "</style>\n",
       "<table border=\"1\" class=\"dataframe\">\n",
       "  <thead>\n",
       "    <tr style=\"text-align: right;\">\n",
       "      <th></th>\n",
       "      <th>rating</th>\n",
       "      <th>students_enrolled</th>\n",
       "    </tr>\n",
       "  </thead>\n",
       "  <tbody>\n",
       "    <tr>\n",
       "      <th>Upper Outliers</th>\n",
       "      <td>0</td>\n",
       "      <td>78</td>\n",
       "    </tr>\n",
       "    <tr>\n",
       "      <th>Lower Outliers</th>\n",
       "      <td>17</td>\n",
       "      <td>0</td>\n",
       "    </tr>\n",
       "  </tbody>\n",
       "</table>\n",
       "</div>"
      ],
      "text/plain": [
       "                rating  students_enrolled\n",
       "Upper Outliers       0                 78\n",
       "Lower Outliers      17                  0"
      ]
     },
     "execution_count": 33,
     "metadata": {},
     "output_type": "execute_result"
    }
   ],
   "source": [
    "outlier_summary_df = count_all_outliers(df_numeric)\n",
    "outlier_summary_df"
   ]
  },
  {
   "cell_type": "markdown",
   "id": "37cdb2c5-9e84-42d5-bead-11192998e260",
   "metadata": {},
   "source": [
    "#### 2.7. Plot the outliers"
   ]
  },
  {
   "cell_type": "code",
   "execution_count": 34,
   "id": "4d4bd355-abcd-432e-ba11-489ce56116a0",
   "metadata": {},
   "outputs": [
    {
     "data": {
      "image/png": "[encoded data removed]",
      "text/plain": [
       "<Figure size 1400x300 with 2 Axes>"
      ]
     },
     "metadata": {},
     "output_type": "display_data"
    }
   ],
   "source": [
    "fig, ax = plt.subplots(figsize=(14, 3), nrows=1, ncols=2)\n",
    "\n",
    "fig.suptitle(\"Box Plots for Rating and Student Enrollment\", fontsize=14, y=1.15)\n",
    "\n",
    "for i, col in enumerate(df_numeric.columns):\n",
    "    sns.boxplot(data=df_numeric, x=col, color=\"#398AFF\", ax=ax[i])\n",
    "    ax[i].set_xlabel(col, fontsize=11, labelpad=10)\n",
    "    ax[i].tick_params(axis=\"x\", labelsize=11)\n",
    "    ax[i].set_yticks([])\n",
    "\n",
    "plt.tight_layout()\n",
    "fig.subplots_adjust(top=0.95, wspace=0.1)"
   ]
  },
  {
   "cell_type": "markdown",
   "id": "a6215014-c50d-4983-87c3-45901adf6418",
   "metadata": {},
   "source": [
    "#### Observations\n",
    "\n",
    "- The identified outliers in *'rating'* and *'students_enrolled'* are being retained. \n",
    "- These values represent important data points within their respective distributions and are crucial for a complete understanding of the dataset, rather than being errors or anomalies that should be removed."
   ]
  },
  {
   "cell_type": "markdown",
   "id": "0aa5bcde-3315-426c-a13a-c4cdad6e2c7f",
   "metadata": {},
   "source": [
    "---"
   ]
  },
  {
   "cell_type": "markdown",
   "id": "3f66ed48-a4fc-4bd5-be25-25648f273df4",
   "metadata": {},
   "source": [
    "## 3. Exploratory Data Analysis"
   ]
  },
  {
   "cell_type": "markdown",
   "id": "8cccb2d5-eb8c-422e-b05b-d601ef714113",
   "metadata": {},
   "source": [
    "#### Basic Statistics for Numerical Columns"
   ]
  },
  {
   "cell_type": "code",
   "execution_count": 35,
   "id": "1fb5d133-0df1-4b42-a681-2e71cd9fdcb9",
   "metadata": {},
   "outputs": [
    {
     "name": "stdout",
     "output_type": "stream",
     "text": [
      "       students_enrolled      rating\n",
      "count              891.0  891.000000\n",
      "mean        90552.076319    4.677329\n",
      "std        181936.453852    0.162225\n",
      "min               1500.0    3.300000\n",
      "25%              17500.0    4.600000\n",
      "50%              42000.0    4.700000\n",
      "75%              99500.0    4.800000\n",
      "max            3200000.0    5.000000\n"
     ]
    }
   ],
   "source": [
    "print(df_coursera[[\"students_enrolled\", \"rating\"]].describe())"
   ]
  },
  {
   "cell_type": "markdown",
   "id": "c9f24412-b5f2-4aa9-abff-f88b73c07a71",
   "metadata": {},
   "source": [
    "#### Students Enrolled\n",
    "- High Variability & Skewness: Enrollments range from 1,500 to 3.2 million.\n",
    "- The mean (90,552) far exceeds the median (42,000), with a large standard deviation (181,936), indicating a right-skewed distribution: **most courses have low enrollments, while a few attract very high numbers**.\n",
    "\n",
    "#### Rating\n",
    "- **High Average Rating (4.68/5)**: Indicates strong overall student satisfaction.\n",
    "- Low Variability: A small standard deviation (0.16) and narrow range (3.3–5.0) show that most ratings are consistently high."
   ]
  },
  {
   "cell_type": "markdown",
   "id": "0bac5fb8-ae9f-464a-8f8e-1cf616a301ac",
   "metadata": {},
   "source": [
    "---"
   ]
  },
  {
   "cell_type": "markdown",
   "id": "9335896a-f9c3-4f9e-abcd-bdf725ceff4c",
   "metadata": {},
   "source": [
    "### 3.1. Analysis by **Course**"
   ]
  },
  {
   "cell_type": "markdown",
   "id": "db48955e-75e5-4106-bf99-09e6d0e6679d",
   "metadata": {},
   "source": [
    "#### 3.1.1. Top 5 Courses by Enrollment"
   ]
  },
  {
   "cell_type": "code",
   "execution_count": 36,
   "id": "3e0b55e4-c88e-4de2-9d24-af6de2a47b30",
   "metadata": {},
   "outputs": [
    {
     "data": {
      "text/html": [
       "<div>\n",
       "<style scoped>\n",
       "    .dataframe tbody tr th:only-of-type {\n",
       "        vertical-align: middle;\n",
       "    }\n",
       "\n",
       "    .dataframe tbody tr th {\n",
       "        vertical-align: top;\n",
       "    }\n",
       "\n",
       "    .dataframe thead th {\n",
       "        text-align: right;\n",
       "    }\n",
       "</style>\n",
       "<table border=\"1\" class=\"dataframe\">\n",
       "  <thead>\n",
       "    <tr style=\"text-align: right;\">\n",
       "      <th></th>\n",
       "      <th>course_title</th>\n",
       "      <th>translated_title</th>\n",
       "      <th>organization</th>\n",
       "      <th>certificate_type</th>\n",
       "      <th>rating</th>\n",
       "      <th>difficulty</th>\n",
       "      <th>students_enrolled</th>\n",
       "      <th>language</th>\n",
       "      <th>category</th>\n",
       "    </tr>\n",
       "  </thead>\n",
       "  <tbody>\n",
       "    <tr>\n",
       "      <th>6</th>\n",
       "      <td>Machine Learning</td>\n",
       "      <td>Machine Learning</td>\n",
       "      <td>Stanford University</td>\n",
       "      <td>Course</td>\n",
       "      <td>4.9</td>\n",
       "      <td>Mixed</td>\n",
       "      <td>3200000</td>\n",
       "      <td>en</td>\n",
       "      <td>Data Science &amp; Analytics</td>\n",
       "    </tr>\n",
       "    <tr>\n",
       "      <th>2</th>\n",
       "      <td>The Science of Well-Being</td>\n",
       "      <td>The Science of Well-Being</td>\n",
       "      <td>Yale University</td>\n",
       "      <td>Course</td>\n",
       "      <td>4.9</td>\n",
       "      <td>Mixed</td>\n",
       "      <td>2500000</td>\n",
       "      <td>en</td>\n",
       "      <td>Health &amp; Medicine</td>\n",
       "    </tr>\n",
       "    <tr>\n",
       "      <th>3</th>\n",
       "      <td>Python for Everybody</td>\n",
       "      <td>Python for Everybody</td>\n",
       "      <td>University of Michigan</td>\n",
       "      <td>Specialization</td>\n",
       "      <td>4.8</td>\n",
       "      <td>Beginner</td>\n",
       "      <td>1500000</td>\n",
       "      <td>en</td>\n",
       "      <td>Programming &amp; Software Dev</td>\n",
       "    </tr>\n",
       "    <tr>\n",
       "      <th>47</th>\n",
       "      <td>Programming for Everybody (Getting Started wit...</td>\n",
       "      <td>Programming for Everybody (Getting Started wit...</td>\n",
       "      <td>University of Michigan</td>\n",
       "      <td>Course</td>\n",
       "      <td>4.8</td>\n",
       "      <td>Mixed</td>\n",
       "      <td>1300000</td>\n",
       "      <td>en</td>\n",
       "      <td>Programming &amp; Software Dev</td>\n",
       "    </tr>\n",
       "    <tr>\n",
       "      <th>13</th>\n",
       "      <td>Data Science</td>\n",
       "      <td>Data Science</td>\n",
       "      <td>Johns Hopkins University</td>\n",
       "      <td>Specialization</td>\n",
       "      <td>4.5</td>\n",
       "      <td>Beginner</td>\n",
       "      <td>830000</td>\n",
       "      <td>en</td>\n",
       "      <td>Data Science &amp; Analytics</td>\n",
       "    </tr>\n",
       "  </tbody>\n",
       "</table>\n",
       "</div>"
      ],
      "text/plain": [
       "                                         course_title  \\\n",
       "6                                    Machine Learning   \n",
       "2                           The Science of Well-Being   \n",
       "3                                Python for Everybody   \n",
       "47  Programming for Everybody (Getting Started wit...   \n",
       "13                                       Data Science   \n",
       "\n",
       "                                     translated_title  \\\n",
       "6                                    Machine Learning   \n",
       "2                           The Science of Well-Being   \n",
       "3                                Python for Everybody   \n",
       "47  Programming for Everybody (Getting Started wit...   \n",
       "13                                       Data Science   \n",
       "\n",
       "                organization certificate_type  rating difficulty  \\\n",
       "6        Stanford University           Course     4.9      Mixed   \n",
       "2            Yale University           Course     4.9      Mixed   \n",
       "3     University of Michigan   Specialization     4.8   Beginner   \n",
       "47    University of Michigan           Course     4.8      Mixed   \n",
       "13  Johns Hopkins University   Specialization     4.5   Beginner   \n",
       "\n",
       "    students_enrolled language                    category  \n",
       "6             3200000       en    Data Science & Analytics  \n",
       "2             2500000       en           Health & Medicine  \n",
       "3             1500000       en  Programming & Software Dev  \n",
       "47            1300000       en  Programming & Software Dev  \n",
       "13             830000       en    Data Science & Analytics  "
      ]
     },
     "execution_count": 36,
     "metadata": {},
     "output_type": "execute_result"
    }
   ],
   "source": [
    "most_enrolled = df_coursera.sort_values(by=\"students_enrolled\", ascending=False).head()\n",
    "most_enrolled"
   ]
  },
  {
   "cell_type": "markdown",
   "id": "2e404e64-400a-4d4b-96a7-cceb6245f595",
   "metadata": {},
   "source": [
    "#### 3.1.2. Bottom 5 Courses by Enrollment"
   ]
  },
  {
   "cell_type": "code",
   "execution_count": 37,
   "id": "38e3d48c-350f-4704-a886-bda55ad1fdca",
   "metadata": {},
   "outputs": [
    {
     "data": {
      "text/html": [
       "<div>\n",
       "<style scoped>\n",
       "    .dataframe tbody tr th:only-of-type {\n",
       "        vertical-align: middle;\n",
       "    }\n",
       "\n",
       "    .dataframe tbody tr th {\n",
       "        vertical-align: top;\n",
       "    }\n",
       "\n",
       "    .dataframe thead th {\n",
       "        text-align: right;\n",
       "    }\n",
       "</style>\n",
       "<table border=\"1\" class=\"dataframe\">\n",
       "  <thead>\n",
       "    <tr style=\"text-align: right;\">\n",
       "      <th></th>\n",
       "      <th>course_title</th>\n",
       "      <th>translated_title</th>\n",
       "      <th>organization</th>\n",
       "      <th>certificate_type</th>\n",
       "      <th>rating</th>\n",
       "      <th>difficulty</th>\n",
       "      <th>students_enrolled</th>\n",
       "      <th>language</th>\n",
       "      <th>category</th>\n",
       "    </tr>\n",
       "  </thead>\n",
       "  <tbody>\n",
       "    <tr>\n",
       "      <th>789</th>\n",
       "      <td>El Abogado del Futuro: Legaltech y la Transfor...</td>\n",
       "      <td>The lawyer of the future: legaltech and the di...</td>\n",
       "      <td>Universidad Austral</td>\n",
       "      <td>Course</td>\n",
       "      <td>5.0</td>\n",
       "      <td>Beginner</td>\n",
       "      <td>1500</td>\n",
       "      <td>es</td>\n",
       "      <td>Social Sciences</td>\n",
       "    </tr>\n",
       "    <tr>\n",
       "      <th>401</th>\n",
       "      <td>Infectious Disease Modelling</td>\n",
       "      <td>Infectious Disease Modelling</td>\n",
       "      <td>Imperial College London</td>\n",
       "      <td>Specialization</td>\n",
       "      <td>5.0</td>\n",
       "      <td>Intermediate</td>\n",
       "      <td>1600</td>\n",
       "      <td>en</td>\n",
       "      <td>Other</td>\n",
       "    </tr>\n",
       "    <tr>\n",
       "      <th>462</th>\n",
       "      <td>Blockchain Revolution in Financial Services</td>\n",
       "      <td>Blockchain Revolution in Financial Services</td>\n",
       "      <td>INSEAD</td>\n",
       "      <td>Specialization</td>\n",
       "      <td>4.6</td>\n",
       "      <td>Beginner</td>\n",
       "      <td>1600</td>\n",
       "      <td>en</td>\n",
       "      <td>Data Science &amp; Analytics</td>\n",
       "    </tr>\n",
       "    <tr>\n",
       "      <th>826</th>\n",
       "      <td>The Pronunciation of American English</td>\n",
       "      <td>The Pronunciation of American English</td>\n",
       "      <td>University of California, Irvine</td>\n",
       "      <td>Specialization</td>\n",
       "      <td>4.6</td>\n",
       "      <td>Beginner</td>\n",
       "      <td>1700</td>\n",
       "      <td>en</td>\n",
       "      <td>Personal Development</td>\n",
       "    </tr>\n",
       "    <tr>\n",
       "      <th>373</th>\n",
       "      <td>Healthcare Law</td>\n",
       "      <td>Healthcare Law</td>\n",
       "      <td>University of Pennsylvania</td>\n",
       "      <td>Specialization</td>\n",
       "      <td>4.7</td>\n",
       "      <td>Intermediate</td>\n",
       "      <td>1700</td>\n",
       "      <td>en</td>\n",
       "      <td>Health &amp; Medicine</td>\n",
       "    </tr>\n",
       "  </tbody>\n",
       "</table>\n",
       "</div>"
      ],
      "text/plain": [
       "                                          course_title  \\\n",
       "789  El Abogado del Futuro: Legaltech y la Transfor...   \n",
       "401                       Infectious Disease Modelling   \n",
       "462        Blockchain Revolution in Financial Services   \n",
       "826              The Pronunciation of American English   \n",
       "373                                     Healthcare Law   \n",
       "\n",
       "                                      translated_title  \\\n",
       "789  The lawyer of the future: legaltech and the di...   \n",
       "401                       Infectious Disease Modelling   \n",
       "462        Blockchain Revolution in Financial Services   \n",
       "826              The Pronunciation of American English   \n",
       "373                                     Healthcare Law   \n",
       "\n",
       "                         organization certificate_type  rating    difficulty  \\\n",
       "789               Universidad Austral           Course     5.0      Beginner   \n",
       "401           Imperial College London   Specialization     5.0  Intermediate   \n",
       "462                            INSEAD   Specialization     4.6      Beginner   \n",
       "826  University of California, Irvine   Specialization     4.6      Beginner   \n",
       "373        University of Pennsylvania   Specialization     4.7  Intermediate   \n",
       "\n",
       "     students_enrolled language                  category  \n",
       "789               1500       es           Social Sciences  \n",
       "401               1600       en                     Other  \n",
       "462               1600       en  Data Science & Analytics  \n",
       "826               1700       en      Personal Development  \n",
       "373               1700       en         Health & Medicine  "
      ]
     },
     "execution_count": 37,
     "metadata": {},
     "output_type": "execute_result"
    }
   ],
   "source": [
    "least_enrolled = df_coursera.sort_values(by=\"students_enrolled\").head()\n",
    "least_enrolled"
   ]
  },
  {
   "cell_type": "markdown",
   "id": "d7ddffd0-1462-4116-bd02-fa41de40608a",
   "metadata": {},
   "source": [
    "---"
   ]
  },
  {
   "cell_type": "markdown",
   "id": "db6fb5f8-08e8-45b8-b1f0-39e8edf4f9df",
   "metadata": {},
   "source": [
    "#### 3.1.3. Top and Bottomm Courses by Enrollment Plot"
   ]
  },
  {
   "cell_type": "markdown",
   "id": "27578a94-8e3e-4b2a-8ae4-399bd6706e59",
   "metadata": {},
   "source": [
    "Reusable function to plot the columns based on student enrollment totals:"
   ]
  },
  {
   "cell_type": "code",
   "execution_count": 38,
   "id": "55fd3d55-e2ae-4bf3-b164-4954c24a1f98",
   "metadata": {},
   "outputs": [],
   "source": [
    "def plot_enrolled_bar(ax, data, title, column, highlight_index, highlight_color):\n",
    "    total_enrollment = df_coursera[\"students_enrolled\"].sum()\n",
    "\n",
    "    bar_colors = [\"#AFAFAF\"] * len(data)\n",
    "    bar_colors[highlight_index] = highlight_color\n",
    "\n",
    "    bars = ax.barh(data[column], data[\"students_enrolled\"], color=bar_colors)\n",
    "\n",
    "    ax.set_xticks([])\n",
    "    ax.tick_params(axis=\"y\", labelsize=9, length=0)\n",
    "    for spine in ax.spines.values():\n",
    "        spine.set_visible(False)\n",
    "\n",
    "    for bar in bars:\n",
    "        width = bar.get_width()\n",
    "        pct = (width / total_enrollment) * 100\n",
    "\n",
    "        pct_text = \"<0.1%\" if pct < 0.1 else f'{pct:.1f}%'\n",
    "\n",
    "        ax.text(width * 0.95, bar.get_y() + bar.get_height() / 2,\n",
    "                pct_text, va=\"center\", ha=\"right\",\n",
    "                color=\"white\", fontsize=8, fontweight=\"bold\")\n",
    "\n",
    "    ax.set_title(title)\n",
    "    ax.invert_yaxis()"
   ]
  },
  {
   "cell_type": "markdown",
   "id": "a53bcfa7-89bf-4ffd-bb4d-c191738a22ed",
   "metadata": {},
   "source": [
    "---"
   ]
  },
  {
   "cell_type": "code",
   "execution_count": 39,
   "id": "49abfe84-2646-4f77-a719-45eab43cd7db",
   "metadata": {},
   "outputs": [
    {
     "data": {
      "image/png": "[encoded data removed]",
      "text/plain": [
       "<Figure size 700x500 with 2 Axes>"
      ]
     },
     "metadata": {},
     "output_type": "display_data"
    }
   ],
   "source": [
    "fig, (ax1, ax2) = plt.subplots(2, 1, figsize=(7, 5), gridspec_kw={\"height_ratios\": [1, 1]})\n",
    "\n",
    "plot_enrolled_bar(ax1, most_enrolled, \"Top 5 Courses by Enrollment\", \"translated_title\", 0, \"#003785\")\n",
    "plot_enrolled_bar(ax2, least_enrolled, \"Bottom 5 Courses by Enrollment\", \"translated_title\",  0, \"#FF5733\")\n",
    "\n",
    "plt.tight_layout()\n",
    "plt.subplots_adjust(hspace=0.5)\n",
    "plt.show()"
   ]
  },
  {
   "cell_type": "markdown",
   "id": "7b0a89e7-a11e-4c45-a1d3-63f0efdb6120",
   "metadata": {},
   "source": [
    "#### Insights\n",
    "\n",
    "- **Technical Courses Dominate**: Machine Learning, Python, and Data Science lead in enrollments, with **Machine Learning** alone accounting for **4% of all enrollments across 891 courses**.\n",
    "- *The Science of Well-Being* stands out with 3.1% of total enrollments, highlighting its wide popularity.\n",
    "- The five least enrolled courses are highly niche (e.g., legal or advanced tech), suggesting limited appeal and a more targeted audience."
   ]
  },
  {
   "cell_type": "markdown",
   "id": "d43729b5-51b0-4529-9801-7c929c59e11c",
   "metadata": {},
   "source": [
    "---"
   ]
  },
  {
   "cell_type": "markdown",
   "id": "0fe7c007-8795-4b9d-ad41-216a411a9c86",
   "metadata": {},
   "source": [
    "#### 3.1.4. Course Success Score"
   ]
  },
  {
   "cell_type": "markdown",
   "id": "0132a25c-8b80-45b5-91a2-21f4214ed84f",
   "metadata": {},
   "source": [
    "- Check how enrollment reflected in student rating by combining total enrollments and their ratings"
   ]
  },
  {
   "cell_type": "code",
   "execution_count": 40,
   "id": "ba8b66df-220c-46e4-9157-7a9eea31fee1",
   "metadata": {},
   "outputs": [],
   "source": [
    "df_course = df_coursera.copy()"
   ]
  },
  {
   "cell_type": "code",
   "execution_count": 41,
   "id": "7c50cac1-724a-48ea-98a9-2245fd2d6c74",
   "metadata": {},
   "outputs": [],
   "source": [
    "scaler = MinMaxScaler()\n",
    "df_course[\"normalized_rating\"] = scaler.fit_transform(df_course[[\"rating\"]])\n",
    "df_course[\"normalized_students_enrolled\"] = scaler.fit_transform(\n",
    "    df_course[[\"students_enrolled\"]]\n",
    ")"
   ]
  },
  {
   "cell_type": "code",
   "execution_count": 42,
   "id": "31d90c62-d8ea-4c7f-809c-cf08f8556312",
   "metadata": {},
   "outputs": [],
   "source": [
    "# Create a \"Success Score\" by adding the normalized values\n",
    "df_course[\"success_score\"] = (\n",
    "    df_course[\"normalized_rating\"] + df_course[\"normalized_students_enrolled\"]\n",
    ")\n",
    "\n",
    "# Sort the DataFrame by 'success_score' and get the top 10 courses\n",
    "top_10_courses = (\n",
    "    df_course.sort_values(by=\"success_score\", ascending=False)\n",
    "    .head(10)\n",
    "    .reset_index(drop=True)\n",
    ")"
   ]
  },
  {
   "cell_type": "code",
   "execution_count": 43,
   "id": "c734a248-cf3a-45e1-9b45-6586415b174a",
   "metadata": {},
   "outputs": [
    {
     "data": {
      "application/vnd.plotly.v1+json": {
       "config": {
        "plotlyServerURL": "https://plot.ly"
       },
       "data": [
        {
         "customdata": {
          "bdata": "mpmZmZmZE0AAAAAAAGpIQZqZmZmZmRNAAAAAANASQ0EzMzMzMzMTQAAAAABg4zZBMzMzMzMzE0AAAAAAINYzQZqZmZmZmRNAAAAAAOA5I0EzMzMzMzMTQAAAAACAMSdBMzMzMzMzE0AAAAAAYOMmQTMzMzMzMxNAAAAAAKAOJUGamZmZmZkTQAAAAACAohlBmpmZmZmZE0AAAAAAAGoYQQ==",
          "dtype": "f8",
          "shape": "10, 2"
         },
         "hovertemplate": "<b>%{y}</b><br><br>Success Score: %{x:.2f}<br>Rating: %{customdata[0]:.2f}<br>Students Enrolled: %{customdata[1]:,}<extra></extra>",
         "legendgroup": "",
         "marker": {
          "color": {
           "bdata": "EQ8PDw8P/z+Exgd9o477P+ltDOAYnfU/LlkKJPqc9D8X642F6jPyPwPuN/Vz6fE/LaAEn6Xc8T8ozdCZz4/xP4aIWHP9JvE/2uzxxmAN8T8=",
           "dtype": "f8"
          },
          "coloraxis": "coloraxis",
          "pattern": {
           "shape": ""
          }
         },
         "name": "",
         "orientation": "h",
         "showlegend": false,
         "textposition": "auto",
         "type": "bar",
         "x": {
          "bdata": "EQ8PDw8P/z+Exgd9o477P+ltDOAYnfU/LlkKJPqc9D8X642F6jPyPwPuN/Vz6fE/LaAEn6Xc8T8ozdCZz4/xP4aIWHP9JvE/2uzxxmAN8T8=",
          "dtype": "f8"
         },
         "xaxis": "x",
         "y": [
          "Machine Learning",
          "The Science of Well-Being",
          "Python for Everybody",
          "Programming for Everybody (Getting Started with Python)",
          "Neural Networks and Deep Learning",
          "English for Career Development",
          "Successful Negotiation: Essential Strategies and Skills",
          "Deep Learning",
          "Python Data Structures",
          "First Step Korean"
         ],
         "yaxis": "y"
        }
       ],
       "layout": {
        "barmode": "relative",
        "coloraxis": {
         "colorbar": {
          "title": {
           "text": "Success Score"
          }
         },
         "colorscale": [
          [
           0,
           "#440154"
          ],
          [
           0.1111111111111111,
           "#482878"
          ],
          [
           0.2222222222222222,
           "#3e4989"
          ],
          [
           0.3333333333333333,
           "#31688e"
          ],
          [
           0.4444444444444444,
           "#26828e"
          ],
          [
           0.5555555555555556,
           "#1f9e89"
          ],
          [
           0.6666666666666666,
           "#35b779"
          ],
          [
           0.7777777777777778,
           "#6ece58"
          ],
          [
           0.8888888888888888,
           "#b5de2b"
          ],
          [
           1,
           "#fde725"
          ]
         ],
         "showscale": false
        },
        "legend": {
         "tracegroupgap": 0
        },
        "paper_bgcolor": "white",
        "plot_bgcolor": "white",
        "template": {
         "data": {
          "bar": [
           {
            "error_x": {
             "color": "#2a3f5f"
            },
            "error_y": {
             "color": "#2a3f5f"
            },
            "marker": {
             "line": {
              "color": "#E5ECF6",
              "width": 0.5
             },
             "pattern": {
              "fillmode": "overlay",
              "size": 10,
              "solidity": 0.2
             }
            },
            "type": "bar"
           }
          ],
          "barpolar": [
           {
            "marker": {
             "line": {
              "color": "#E5ECF6",
              "width": 0.5
             },
             "pattern": {
              "fillmode": "overlay",
              "size": 10,
              "solidity": 0.2
             }
            },
            "type": "barpolar"
           }
          ],
          "carpet": [
           {
            "aaxis": {
             "endlinecolor": "#2a3f5f",
             "gridcolor": "white",
             "linecolor": "white",
             "minorgridcolor": "white",
             "startlinecolor": "#2a3f5f"
            },
            "baxis": {
             "endlinecolor": "#2a3f5f",
             "gridcolor": "white",
             "linecolor": "white",
             "minorgridcolor": "white",
             "startlinecolor": "#2a3f5f"
            },
            "type": "carpet"
           }
          ],
          "choropleth": [
           {
            "colorbar": {
             "outlinewidth": 0,
             "ticks": ""
            },
            "type": "choropleth"
           }
          ],
          "contour": [
           {
            "colorbar": {
             "outlinewidth": 0,
             "ticks": ""
            },
            "colorscale": [
             [
              0,
              "#0d0887"
             ],
             [
              0.1111111111111111,
              "#46039f"
             ],
             [
              0.2222222222222222,
              "#7201a8"
             ],
             [
              0.3333333333333333,
              "#9c179e"
             ],
             [
              0.4444444444444444,
              "#bd3786"
             ],
             [
              0.5555555555555556,
              "#d8576b"
             ],
             [
              0.6666666666666666,
              "#ed7953"
             ],
             [
              0.7777777777777778,
              "#fb9f3a"
             ],
             [
              0.8888888888888888,
              "#fdca26"
             ],
             [
              1,
              "#f0f921"
             ]
            ],
            "type": "contour"
           }
          ],
          "contourcarpet": [
           {
            "colorbar": {
             "outlinewidth": 0,
             "ticks": ""
            },
            "type": "contourcarpet"
           }
          ],
          "heatmap": [
           {
            "colorbar": {
             "outlinewidth": 0,
             "ticks": ""
            },
            "colorscale": [
             [
              0,
              "#0d0887"
             ],
             [
              0.1111111111111111,
              "#46039f"
             ],
             [
              0.2222222222222222,
              "#7201a8"
             ],
             [
              0.3333333333333333,
              "#9c179e"
             ],
             [
              0.4444444444444444,
              "#bd3786"
             ],
             [
              0.5555555555555556,
              "#d8576b"
             ],
             [
              0.6666666666666666,
              "#ed7953"
             ],
             [
              0.7777777777777778,
              "#fb9f3a"
             ],
             [
              0.8888888888888888,
              "#fdca26"
             ],
             [
              1,
              "#f0f921"
             ]
            ],
            "type": "heatmap"
           }
          ],
          "histogram": [
           {
            "marker": {
             "pattern": {
              "fillmode": "overlay",
              "size": 10,
              "solidity": 0.2
             }
            },
            "type": "histogram"
           }
          ],
          "histogram2d": [
           {
            "colorbar": {
             "outlinewidth": 0,
             "ticks": ""
            },
            "colorscale": [
             [
              0,
              "#0d0887"
             ],
             [
              0.1111111111111111,
              "#46039f"
             ],
             [
              0.2222222222222222,
              "#7201a8"
             ],
             [
              0.3333333333333333,
              "#9c179e"
             ],
             [
              0.4444444444444444,
              "#bd3786"
             ],
             [
              0.5555555555555556,
              "#d8576b"
             ],
             [
              0.6666666666666666,
              "#ed7953"
             ],
             [
              0.7777777777777778,
              "#fb9f3a"
             ],
             [
              0.8888888888888888,
              "#fdca26"
             ],
             [
              1,
              "#f0f921"
             ]
            ],
            "type": "histogram2d"
           }
          ],
          "histogram2dcontour": [
           {
            "colorbar": {
             "outlinewidth": 0,
             "ticks": ""
            },
            "colorscale": [
             [
              0,
              "#0d0887"
             ],
             [
              0.1111111111111111,
              "#46039f"
             ],
             [
              0.2222222222222222,
              "#7201a8"
             ],
             [
              0.3333333333333333,
              "#9c179e"
             ],
             [
              0.4444444444444444,
              "#bd3786"
             ],
             [
              0.5555555555555556,
              "#d8576b"
             ],
             [
              0.6666666666666666,
              "#ed7953"
             ],
             [
              0.7777777777777778,
              "#fb9f3a"
             ],
             [
              0.8888888888888888,
              "#fdca26"
             ],
             [
              1,
              "#f0f921"
             ]
            ],
            "type": "histogram2dcontour"
           }
          ],
          "mesh3d": [
           {
            "colorbar": {
             "outlinewidth": 0,
             "ticks": ""
            },
            "type": "mesh3d"
           }
          ],
          "parcoords": [
           {
            "line": {
             "colorbar": {
              "outlinewidth": 0,
              "ticks": ""
             }
            },
            "type": "parcoords"
           }
          ],
          "pie": [
           {
            "automargin": true,
            "type": "pie"
           }
          ],
          "scatter": [
           {
            "fillpattern": {
             "fillmode": "overlay",
             "size": 10,
             "solidity": 0.2
            },
            "type": "scatter"
           }
          ],
          "scatter3d": [
           {
            "line": {
             "colorbar": {
              "outlinewidth": 0,
              "ticks": ""
             }
            },
            "marker": {
             "colorbar": {
              "outlinewidth": 0,
              "ticks": ""
             }
            },
            "type": "scatter3d"
           }
          ],
          "scattercarpet": [
           {
            "marker": {
             "colorbar": {
              "outlinewidth": 0,
              "ticks": ""
             }
            },
            "type": "scattercarpet"
           }
          ],
          "scattergeo": [
           {
            "marker": {
             "colorbar": {
              "outlinewidth": 0,
              "ticks": ""
             }
            },
            "type": "scattergeo"
           }
          ],
          "scattergl": [
           {
            "marker": {
             "colorbar": {
              "outlinewidth": 0,
              "ticks": ""
             }
            },
            "type": "scattergl"
           }
          ],
          "scattermap": [
           {
            "marker": {
             "colorbar": {
              "outlinewidth": 0,
              "ticks": ""
             }
            },
            "type": "scattermap"
           }
          ],
          "scattermapbox": [
           {
            "marker": {
             "colorbar": {
              "outlinewidth": 0,
              "ticks": ""
             }
            },
            "type": "scattermapbox"
           }
          ],
          "scatterpolar": [
           {
            "marker": {
             "colorbar": {
              "outlinewidth": 0,
              "ticks": ""
             }
            },
            "type": "scatterpolar"
           }
          ],
          "scatterpolargl": [
           {
            "marker": {
             "colorbar": {
              "outlinewidth": 0,
              "ticks": ""
             }
            },
            "type": "scatterpolargl"
           }
          ],
          "scatterternary": [
           {
            "marker": {
             "colorbar": {
              "outlinewidth": 0,
              "ticks": ""
             }
            },
            "type": "scatterternary"
           }
          ],
          "surface": [
           {
            "colorbar": {
             "outlinewidth": 0,
             "ticks": ""
            },
            "colorscale": [
             [
              0,
              "#0d0887"
             ],
             [
              0.1111111111111111,
              "#46039f"
             ],
             [
              0.2222222222222222,
              "#7201a8"
             ],
             [
              0.3333333333333333,
              "#9c179e"
             ],
             [
              0.4444444444444444,
              "#bd3786"
             ],
             [
              0.5555555555555556,
              "#d8576b"
             ],
             [
              0.6666666666666666,
              "#ed7953"
             ],
             [
              0.7777777777777778,
              "#fb9f3a"
             ],
             [
              0.8888888888888888,
              "#fdca26"
             ],
             [
              1,
              "#f0f921"
             ]
            ],
            "type": "surface"
           }
          ],
          "table": [
           {
            "cells": {
             "fill": {
              "color": "#EBF0F8"
             },
             "line": {
              "color": "white"
             }
            },
            "header": {
             "fill": {
              "color": "#C8D4E3"
             },
             "line": {
              "color": "white"
             }
            },
            "type": "table"
           }
          ]
         },
         "layout": {
          "annotationdefaults": {
           "arrowcolor": "#2a3f5f",
           "arrowhead": 0,
           "arrowwidth": 1
          },
          "autotypenumbers": "strict",
          "coloraxis": {
           "colorbar": {
            "outlinewidth": 0,
            "ticks": ""
           }
          },
          "colorscale": {
           "diverging": [
            [
             0,
             "#8e0152"
            ],
            [
             0.1,
             "#c51b7d"
            ],
            [
             0.2,
             "#de77ae"
            ],
            [
             0.3,
             "#f1b6da"
            ],
            [
             0.4,
             "#fde0ef"
            ],
            [
             0.5,
             "#f7f7f7"
            ],
            [
             0.6,
             "#e6f5d0"
            ],
            [
             0.7,
             "#b8e186"
            ],
            [
             0.8,
             "#7fbc41"
            ],
            [
             0.9,
             "#4d9221"
            ],
            [
             1,
             "#276419"
            ]
           ],
           "sequential": [
            [
             0,
             "#0d0887"
            ],
            [
             0.1111111111111111,
             "#46039f"
            ],
            [
             0.2222222222222222,
             "#7201a8"
            ],
            [
             0.3333333333333333,
             "#9c179e"
            ],
            [
             0.4444444444444444,
             "#bd3786"
            ],
            [
             0.5555555555555556,
             "#d8576b"
            ],
            [
             0.6666666666666666,
             "#ed7953"
            ],
            [
             0.7777777777777778,
             "#fb9f3a"
            ],
            [
             0.8888888888888888,
             "#fdca26"
            ],
            [
             1,
             "#f0f921"
            ]
           ],
           "sequentialminus": [
            [
             0,
             "#0d0887"
            ],
            [
             0.1111111111111111,
             "#46039f"
            ],
            [
             0.2222222222222222,
             "#7201a8"
            ],
            [
             0.3333333333333333,
             "#9c179e"
            ],
            [
             0.4444444444444444,
             "#bd3786"
            ],
            [
             0.5555555555555556,
             "#d8576b"
            ],
            [
             0.6666666666666666,
             "#ed7953"
            ],
            [
             0.7777777777777778,
             "#fb9f3a"
            ],
            [
             0.8888888888888888,
             "#fdca26"
            ],
            [
             1,
             "#f0f921"
            ]
           ]
          },
          "colorway": [
           "#636efa",
           "#EF553B",
           "#00cc96",
           "#ab63fa",
           "#FFA15A",
           "#19d3f3",
           "#FF6692",
           "#B6E880",
           "#FF97FF",
           "#FECB52"
          ],
          "font": {
           "color": "#2a3f5f"
          },
          "geo": {
           "bgcolor": "white",
           "lakecolor": "white",
           "landcolor": "#E5ECF6",
           "showlakes": true,
           "showland": true,
           "subunitcolor": "white"
          },
          "hoverlabel": {
           "align": "left"
          },
          "hovermode": "closest",
          "mapbox": {
           "style": "light"
          },
          "paper_bgcolor": "white",
          "plot_bgcolor": "#E5ECF6",
          "polar": {
           "angularaxis": {
            "gridcolor": "white",
            "linecolor": "white",
            "ticks": ""
           },
           "bgcolor": "#E5ECF6",
           "radialaxis": {
            "gridcolor": "white",
            "linecolor": "white",
            "ticks": ""
           }
          },
          "scene": {
           "xaxis": {
            "backgroundcolor": "#E5ECF6",
            "gridcolor": "white",
            "gridwidth": 2,
            "linecolor": "white",
            "showbackground": true,
            "ticks": "",
            "zerolinecolor": "white"
           },
           "yaxis": {
            "backgroundcolor": "#E5ECF6",
            "gridcolor": "white",
            "gridwidth": 2,
            "linecolor": "white",
            "showbackground": true,
            "ticks": "",
            "zerolinecolor": "white"
           },
           "zaxis": {
            "backgroundcolor": "#E5ECF6",
            "gridcolor": "white",
            "gridwidth": 2,
            "linecolor": "white",
            "showbackground": true,
            "ticks": "",
            "zerolinecolor": "white"
           }
          },
          "shapedefaults": {
           "line": {
            "color": "#2a3f5f"
           }
          },
          "ternary": {
           "aaxis": {
            "gridcolor": "white",
            "linecolor": "white",
            "ticks": ""
           },
           "baxis": {
            "gridcolor": "white",
            "linecolor": "white",
            "ticks": ""
           },
           "bgcolor": "#E5ECF6",
           "caxis": {
            "gridcolor": "white",
            "linecolor": "white",
            "ticks": ""
           }
          },
          "title": {
           "x": 0.05
          },
          "xaxis": {
           "automargin": true,
           "gridcolor": "white",
           "linecolor": "white",
           "ticks": "",
           "title": {
            "standoff": 15
           },
           "zerolinecolor": "white",
           "zerolinewidth": 2
          },
          "yaxis": {
           "automargin": true,
           "gridcolor": "white",
           "linecolor": "white",
           "ticks": "",
           "title": {
            "standoff": 15
           },
           "zerolinecolor": "white",
           "zerolinewidth": 2
          }
         }
        },
        "title": {
         "text": "Top 10 Courses by Success Score",
         "x": 0.5,
         "xanchor": "center"
        },
        "xaxis": {
         "anchor": "y",
         "domain": [
          0,
          1
         ],
         "title": {
          "text": "Success Score"
         }
        },
        "yaxis": {
         "anchor": "x",
         "autorange": "reversed",
         "domain": [
          0,
          1
         ],
         "title": {
          "text": ""
         }
        }
       }
      }
     },
     "metadata": {},
     "output_type": "display_data"
    }
   ],
   "source": [
    "# Plotly bar chart\n",
    "fig = px.bar(\n",
    "    top_10_courses,\n",
    "    x=\"success_score\",\n",
    "    y=\"translated_title\",\n",
    "    orientation=\"h\",\n",
    "    title=\"Top 10 Courses by Success Score\",\n",
    "    labels={\n",
    "        \"success_score\": \"Success Score\",\n",
    "    },\n",
    "    hover_data={\n",
    "        \"rating\": \":.2f\",\n",
    "        \"students_enrolled\": \":,\",\n",
    "        \"success_score\": \":.2f\"\n",
    "    },\n",
    "    color=\"success_score\",\n",
    "    color_continuous_scale=px.colors.sequential.Viridis\n",
    ")\n",
    "\n",
    "fig.update_traces(\n",
    "    hovertemplate=\"<b>%{y}</b><br><br>\" +\n",
    "                    \"Success Score: %{x:.2f}<br>\" +\n",
    "                    \"Rating: %{customdata[0]:.2f}<br>\" +\n",
    "                    \"Students Enrolled: %{customdata[1]:,}<extra></extra>\",\n",
    "    customdata=top_10_courses[[\"rating\", \"students_enrolled\"]].values\n",
    ")\n",
    "\n",
    "fig.update_layout(\n",
    "    title={\n",
    "        \"text\": \"Top 10 Courses by Success Score\",\n",
    "        \"x\": 0.5,\n",
    "        \"xanchor\": \"center\"\n",
    "    },\n",
    "    yaxis_autorange=\"reversed\",\n",
    "    yaxis={\"title\": ''},\n",
    "    xaxis={\"title\": \"Success Score\"},\n",
    "    coloraxis_showscale=False,\n",
    "    paper_bgcolor=\"white\",\n",
    "    plot_bgcolor=\"white\"\n",
    ")\n",
    "\n",
    "fig.show()"
   ]
  },
  {
   "cell_type": "markdown",
   "id": "cf1c576d-72ba-4fc6-8d50-fd323c7d5896",
   "metadata": {},
   "source": [
    "#### Insights\n",
    "\n",
    "We can confirm that the courses with the highest enrollment also rank among the top in the success score chart.\n",
    "\n",
    "- **\"Machine Learning\"** leads the platform, standing out as the **most enrolled and highest-rated** course overall (Success score: 1.94 out of 2).\n",
    "- **Python courses dominate the list** — including *Python for Everybody, Programming for Everybody, Neural Networks and Deep Learning, and Python Data Structures* — reinforcing Python’s position as the **most in-demand tech skill on Coursera**.\n",
    "- \"The Science of Well-Being\" strong second with a score 1.72 (out of 2), showing that personal development and well-being topics can rival technical courses in popularity and effectiveness."
   ]
  },
  {
   "cell_type": "markdown",
   "id": "9daa8d35-9a53-4cd7-96e2-5b87b378477e",
   "metadata": {},
   "source": [
    "---"
   ]
  },
  {
   "cell_type": "markdown",
   "id": "f68e0fdb-6ae0-4b19-84e4-44c3a1f070c3",
   "metadata": {},
   "source": [
    "### 3.2. Analysis by **Organization**"
   ]
  },
  {
   "cell_type": "markdown",
   "id": "1dc757ad-9f86-43f1-8629-c0d637d37513",
   "metadata": {},
   "source": [
    "#### 3.2.1. Top and Bottom 5 Organizations by Students Enrolled"
   ]
  },
  {
   "cell_type": "markdown",
   "id": "1ec57c25-df32-4b66-8bd7-5e39ef7d35de",
   "metadata": {},
   "source": [
    "Reusable function to rank columns based on student enrollment totals:"
   ]
  },
  {
   "cell_type": "code",
   "execution_count": 44,
   "id": "aba4c956-79a9-44e4-8638-4898aa6d4fc9",
   "metadata": {},
   "outputs": [],
   "source": [
    "def get_ranked_by_enrollment(df, column, n, order):\n",
    "    \"\"\"\n",
    "    Returns a ranked DataFrame of top or bottom organizations by total 'students_enrolled'.\n",
    "    Includes any ties at the nth position. Also adds a column with % of total enrollment.\n",
    "    \"\"\"\n",
    "\n",
    "    def format_percent(value):\n",
    "        return \"<0.01%\" if value < 0.01 else f\"{value:.2f}%\"\n",
    "\n",
    "    enrollment = df.groupby(column, as_index=False, observed=False)[\n",
    "        \"students_enrolled\"\n",
    "    ].sum()\n",
    "\n",
    "    total_enrollment = enrollment[\"students_enrolled\"].sum()\n",
    "    raw_percentages = enrollment[\"students_enrolled\"] / total_enrollment * 100\n",
    "    enrollment[\"percent_enrolled\"] = raw_percentages.apply(format_percent)\n",
    "\n",
    "    ascending = True if order == \"bottom\" else False\n",
    "    sorted_by_column = enrollment.sort_values(\n",
    "        by=\"students_enrolled\", ascending=ascending\n",
    "    )\n",
    "\n",
    "    if len(sorted_by_column) >= n:\n",
    "        threshold = sorted_by_column.iloc[n - 1][\"students_enrolled\"]\n",
    "    else:\n",
    "        threshold = sorted_by_column.iloc[-1][\"students_enrolled\"]\n",
    "\n",
    "    ranked_by_column = sorted_by_column[\n",
    "        sorted_by_column[\"students_enrolled\"] <= threshold\n",
    "        if ascending\n",
    "        else sorted_by_column[\"students_enrolled\"] >= threshold\n",
    "    ].reset_index(drop=True)\n",
    "\n",
    "    ranked_by_column.index = range(1, len(ranked_by_column) + 1)\n",
    "\n",
    "    return ranked_by_column"
   ]
  },
  {
   "cell_type": "markdown",
   "id": "41a9e488-288e-4c4c-b69c-9ea05083726f",
   "metadata": {},
   "source": [
    "---"
   ]
  },
  {
   "cell_type": "markdown",
   "id": "5e186b87-5d7b-4cb1-85da-3dffffaf54da",
   "metadata": {},
   "source": [
    "#### 3.2.2. Top 5 Organizations"
   ]
  },
  {
   "cell_type": "code",
   "execution_count": 45,
   "id": "3c0004c7-6745-4e38-80c8-4ac5ac12cbc8",
   "metadata": {},
   "outputs": [
    {
     "data": {
      "text/html": [
       "<div>\n",
       "<style scoped>\n",
       "    .dataframe tbody tr th:only-of-type {\n",
       "        vertical-align: middle;\n",
       "    }\n",
       "\n",
       "    .dataframe tbody tr th {\n",
       "        vertical-align: top;\n",
       "    }\n",
       "\n",
       "    .dataframe thead th {\n",
       "        text-align: right;\n",
       "    }\n",
       "</style>\n",
       "<table border=\"1\" class=\"dataframe\">\n",
       "  <thead>\n",
       "    <tr style=\"text-align: right;\">\n",
       "      <th></th>\n",
       "      <th>organization</th>\n",
       "      <th>students_enrolled</th>\n",
       "      <th>percent_enrolled</th>\n",
       "    </tr>\n",
       "  </thead>\n",
       "  <tbody>\n",
       "    <tr>\n",
       "      <th>1</th>\n",
       "      <td>University of Michigan</td>\n",
       "      <td>7437700</td>\n",
       "      <td>9.22%</td>\n",
       "    </tr>\n",
       "    <tr>\n",
       "      <th>2</th>\n",
       "      <td>University of Pennsylvania</td>\n",
       "      <td>5501300</td>\n",
       "      <td>6.82%</td>\n",
       "    </tr>\n",
       "    <tr>\n",
       "      <th>3</th>\n",
       "      <td>Stanford University</td>\n",
       "      <td>4854000</td>\n",
       "      <td>6.02%</td>\n",
       "    </tr>\n",
       "    <tr>\n",
       "      <th>4</th>\n",
       "      <td>University of California, Irvine</td>\n",
       "      <td>4326000</td>\n",
       "      <td>5.36%</td>\n",
       "    </tr>\n",
       "    <tr>\n",
       "      <th>5</th>\n",
       "      <td>Johns Hopkins University</td>\n",
       "      <td>4298900</td>\n",
       "      <td>5.33%</td>\n",
       "    </tr>\n",
       "  </tbody>\n",
       "</table>\n",
       "</div>"
      ],
      "text/plain": [
       "                       organization  students_enrolled percent_enrolled\n",
       "1            University of Michigan            7437700            9.22%\n",
       "2        University of Pennsylvania            5501300            6.82%\n",
       "3               Stanford University            4854000            6.02%\n",
       "4  University of California, Irvine            4326000            5.36%\n",
       "5          Johns Hopkins University            4298900            5.33%"
      ]
     },
     "execution_count": 45,
     "metadata": {},
     "output_type": "execute_result"
    }
   ],
   "source": [
    "top_organizations = get_ranked_by_enrollment(df_coursera, column=\"organization\", n=5, order=\"top\")\n",
    "top_organizations"
   ]
  },
  {
   "cell_type": "markdown",
   "id": "6cbc53a0-8180-4894-be09-2c802e360f8d",
   "metadata": {},
   "source": [
    "#### 3.2.3. Bottom 5 Organizations"
   ]
  },
  {
   "cell_type": "code",
   "execution_count": 46,
   "id": "bf218ad2-152e-44fe-988c-4e0314816596",
   "metadata": {},
   "outputs": [
    {
     "data": {
      "text/html": [
       "<div>\n",
       "<style scoped>\n",
       "    .dataframe tbody tr th:only-of-type {\n",
       "        vertical-align: middle;\n",
       "    }\n",
       "\n",
       "    .dataframe tbody tr th {\n",
       "        vertical-align: top;\n",
       "    }\n",
       "\n",
       "    .dataframe thead th {\n",
       "        text-align: right;\n",
       "    }\n",
       "</style>\n",
       "<table border=\"1\" class=\"dataframe\">\n",
       "  <thead>\n",
       "    <tr style=\"text-align: right;\">\n",
       "      <th></th>\n",
       "      <th>organization</th>\n",
       "      <th>students_enrolled</th>\n",
       "      <th>percent_enrolled</th>\n",
       "    </tr>\n",
       "  </thead>\n",
       "  <tbody>\n",
       "    <tr>\n",
       "      <th>1</th>\n",
       "      <td>Automation Anywhere</td>\n",
       "      <td>2200</td>\n",
       "      <td>&lt;0.01%</td>\n",
       "    </tr>\n",
       "    <tr>\n",
       "      <th>2</th>\n",
       "      <td>Peter the Great St. Petersburg Polytechnic Uni...</td>\n",
       "      <td>2400</td>\n",
       "      <td>&lt;0.01%</td>\n",
       "    </tr>\n",
       "    <tr>\n",
       "      <th>3</th>\n",
       "      <td>University of New Mexico</td>\n",
       "      <td>5500</td>\n",
       "      <td>&lt;0.01%</td>\n",
       "    </tr>\n",
       "    <tr>\n",
       "      <th>4</th>\n",
       "      <td>ESCP Business School</td>\n",
       "      <td>6500</td>\n",
       "      <td>&lt;0.01%</td>\n",
       "    </tr>\n",
       "    <tr>\n",
       "      <th>5</th>\n",
       "      <td>UCL School of Management</td>\n",
       "      <td>7800</td>\n",
       "      <td>&lt;0.01%</td>\n",
       "    </tr>\n",
       "  </tbody>\n",
       "</table>\n",
       "</div>"
      ],
      "text/plain": [
       "                                        organization  students_enrolled  \\\n",
       "1                                Automation Anywhere               2200   \n",
       "2  Peter the Great St. Petersburg Polytechnic Uni...               2400   \n",
       "3                           University of New Mexico               5500   \n",
       "4                               ESCP Business School               6500   \n",
       "5                           UCL School of Management               7800   \n",
       "\n",
       "  percent_enrolled  \n",
       "1           <0.01%  \n",
       "2           <0.01%  \n",
       "3           <0.01%  \n",
       "4           <0.01%  \n",
       "5           <0.01%  "
      ]
     },
     "execution_count": 46,
     "metadata": {},
     "output_type": "execute_result"
    }
   ],
   "source": [
    "bottom_organizations = get_ranked_by_enrollment(df_coursera, column=\"organization\", n=5, order=\"bottom\")\n",
    "bottom_organizations"
   ]
  },
  {
   "cell_type": "markdown",
   "id": "e924e4f8-7177-4046-834d-e826cc07c792",
   "metadata": {},
   "source": [
    "---"
   ]
  },
  {
   "cell_type": "markdown",
   "id": "7328aa02-145c-46ba-ab90-682f3b19d575",
   "metadata": {},
   "source": [
    "#### 3.2.4. Top and Bottom 5 Organizations by Students Enrolled Plot"
   ]
  },
  {
   "cell_type": "code",
   "execution_count": 47,
   "id": "bb0abd34-764d-46bc-ba7e-62f389b94096",
   "metadata": {},
   "outputs": [
    {
     "data": {
      "image/png": "[encoded data removed]",
      "text/plain": [
       "<Figure size 700x500 with 2 Axes>"
      ]
     },
     "metadata": {},
     "output_type": "display_data"
    }
   ],
   "source": [
    "fig, (ax1, ax2) = plt.subplots(2, 1, figsize=(7, 5), gridspec_kw={\"height_ratios\": [1, 1]})\n",
    "\n",
    "plot_enrolled_bar(ax1, top_organizations, \"Top 5 Most Enrolled Organizations\", \"organization\", 0, \"#003785\")\n",
    "plot_enrolled_bar(ax2, bottom_organizations, \"Bottom 5 Least Enrolled Organizations\", \"organization\", 0, \"#FF5733\")\n",
    "\n",
    "plt.tight_layout()\n",
    "plt.subplots_adjust(hspace=0.5)\n",
    "plt.show()"
   ]
  },
  {
   "cell_type": "markdown",
   "id": "e8233bc5-473c-4243-9228-4effae05b5c2",
   "metadata": {},
   "source": [
    "#### Insights\n",
    "\n",
    "- **Top U.S. Universities Lead**, reflecting learner trust in established academic institutions.\n",
    "- **University of Michigan** contributes the most: **9.2%** of total enrollments.\n",
    "- Concentration of Influence: Just **5 out of 154 organizations (3.25%)** account for **32.7% of all enrollments**.\n",
    "- Sharp Popularity Gap: In contrast, the bottom 5 organizations each attract less than 0.1% of enrollments."
   ]
  },
  {
   "cell_type": "markdown",
   "id": "5859fc61-c017-408c-ba12-1ea3ab73c9af",
   "metadata": {},
   "source": [
    "---"
   ]
  },
  {
   "cell_type": "markdown",
   "id": "82eb02ca-7e93-457a-86e7-e7addad0df77",
   "metadata": {},
   "source": [
    "#### 3.2.5. Top 10 organizations performance metrics"
   ]
  },
  {
   "cell_type": "code",
   "execution_count": 48,
   "id": "fb093d4c-0480-4cc4-a5fe-033c9e11df64",
   "metadata": {},
   "outputs": [],
   "source": [
    "# Identify top 10 organizations by total enrollment and calculate their performance metrics\n",
    "organization_performance = df_coursera[\n",
    "    df_coursera[\"organization\"].isin(\n",
    "        df_coursera.groupby(\"organization\")[\"students_enrolled\"].sum()\n",
    "        .nlargest(10).index\n",
    "    )\n",
    "].groupby(\"organization\").agg(\n",
    "    Total_Enrol=(\"students_enrolled\", \"sum\"),\n",
    "    Avg_Enrol_Per_Course=(\"students_enrolled\", \"mean\"),\n",
    "    Avg_Rating=(\"rating\", \"mean\"),\n",
    "    Course_Count=(\"organization\", \"count\")\n",
    ").reset_index().sort_values(by=[\"Total_Enrol\"], ascending=[False])"
   ]
  },
  {
   "cell_type": "code",
   "execution_count": 49,
   "id": "e31a6c51-a868-4f2a-978b-7fa777ea1c0b",
   "metadata": {},
   "outputs": [],
   "source": [
    "# Prepare data for heatmap\n",
    "df_numeric_for_heatmap = organization_performance.set_index(\n",
    "    \"organization\"\n",
    ").select_dtypes(include=[np.number])\n",
    "\n",
    "scaler = MinMaxScaler()\n",
    "df_normalized = pd.DataFrame(\n",
    "    scaler.fit_transform(df_numeric_for_heatmap),\n",
    "    columns=[\"Total Enrollment\", \"Avg Enrollment\", \"Avg Rating\", \"Count Course\"],\n",
    "    index=df_numeric_for_heatmap.index,\n",
    ")"
   ]
  },
  {
   "cell_type": "code",
   "execution_count": 50,
   "id": "945f7813-08da-4082-aeea-403f57b76a51",
   "metadata": {},
   "outputs": [
    {
     "data": {
      "image/png": "[encoded data removed]",
      "text/plain": [
       "<Figure size 800x500 with 1 Axes>"
      ]
     },
     "metadata": {},
     "output_type": "display_data"
    }
   ],
   "source": [
    "# Plot heatmap\n",
    "plt.figure(figsize=(8, 5))\n",
    "sns.heatmap(df_normalized, annot=True, cmap=\"YlGnBu\", fmt=\".2f\", cbar=False)\n",
    "\n",
    "plt.title(\"\\nNormalized Metrics Across Top 10 Organizations\\n\")\n",
    "plt.tick_params(axis=\"x\", which=\"both\", bottom=False, top=False)\n",
    "plt.tick_params(axis=\"y\", which=\"both\", left=False, right=False)\n",
    "plt.gca().set_ylabel(\"\")\n",
    "\n",
    "plt.tight_layout()\n",
    "plt.show()"
   ]
  },
  {
   "cell_type": "markdown",
   "id": "839a0977-8e04-448b-b2ed-be85c359244e",
   "metadata": {},
   "source": [
    "#### Observations\n",
    "\n",
    "1. University of Michigan leads in overall performance.\n",
    "2. **Stanford and Yale excel in per-course impact and quality**.\n",
    "3. University of Pennsylvania dominates in course quantity.\n",
    "4. Organizations like IBM and Google Cloud have room to optimize either content quality, reach, or engagement."
   ]
  },
  {
   "cell_type": "markdown",
   "id": "00ea682a-fd19-44a6-a39c-a4499739a777",
   "metadata": {},
   "source": [
    "---"
   ]
  },
  {
   "cell_type": "markdown",
   "id": "b6bbebd1-2c99-4ed7-a3da-e7d1b983c065",
   "metadata": {},
   "source": [
    "### 3.3. Analysis by **Difficulty**"
   ]
  },
  {
   "cell_type": "markdown",
   "id": "9741d280-62c7-437c-906e-6aca66487fca",
   "metadata": {},
   "source": [
    "#### 3.3.1. Students enrollment by difficulty"
   ]
  },
  {
   "cell_type": "code",
   "execution_count": 51,
   "id": "2345d932-dad9-4f5b-8d0c-b7b2b3f734a9",
   "metadata": {},
   "outputs": [
    {
     "data": {
      "text/html": [
       "<div>\n",
       "<style scoped>\n",
       "    .dataframe tbody tr th:only-of-type {\n",
       "        vertical-align: middle;\n",
       "    }\n",
       "\n",
       "    .dataframe tbody tr th {\n",
       "        vertical-align: top;\n",
       "    }\n",
       "\n",
       "    .dataframe thead th {\n",
       "        text-align: right;\n",
       "    }\n",
       "</style>\n",
       "<table border=\"1\" class=\"dataframe\">\n",
       "  <thead>\n",
       "    <tr style=\"text-align: right;\">\n",
       "      <th></th>\n",
       "      <th>difficulty</th>\n",
       "      <th>students_enrolled</th>\n",
       "      <th>percent_enrolled</th>\n",
       "    </tr>\n",
       "  </thead>\n",
       "  <tbody>\n",
       "    <tr>\n",
       "      <th>1</th>\n",
       "      <td>Beginner</td>\n",
       "      <td>39921800</td>\n",
       "      <td>49.48%</td>\n",
       "    </tr>\n",
       "    <tr>\n",
       "      <th>2</th>\n",
       "      <td>Mixed</td>\n",
       "      <td>24989400</td>\n",
       "      <td>30.97%</td>\n",
       "    </tr>\n",
       "    <tr>\n",
       "      <th>3</th>\n",
       "      <td>Intermediate</td>\n",
       "      <td>14506300</td>\n",
       "      <td>17.98%</td>\n",
       "    </tr>\n",
       "    <tr>\n",
       "      <th>4</th>\n",
       "      <td>Advanced</td>\n",
       "      <td>1264400</td>\n",
       "      <td>1.57%</td>\n",
       "    </tr>\n",
       "  </tbody>\n",
       "</table>\n",
       "</div>"
      ],
      "text/plain": [
       "     difficulty  students_enrolled percent_enrolled\n",
       "1      Beginner           39921800           49.48%\n",
       "2         Mixed           24989400           30.97%\n",
       "3  Intermediate           14506300           17.98%\n",
       "4      Advanced            1264400            1.57%"
      ]
     },
     "execution_count": 51,
     "metadata": {},
     "output_type": "execute_result"
    }
   ],
   "source": [
    "rank_difficulty = get_ranked_by_enrollment(df_coursera, column=\"difficulty\", n=4, order=\"top\")\n",
    "rank_difficulty"
   ]
  },
  {
   "cell_type": "code",
   "execution_count": 52,
   "id": "44c49cdc-b742-44f9-bc88-9cac50ab7bd4",
   "metadata": {},
   "outputs": [
    {
     "data": {
      "image/png": "[encoded data removed]",
      "text/plain": [
       "<Figure size 1200x200 with 1 Axes>"
      ]
     },
     "metadata": {},
     "output_type": "display_data"
    }
   ],
   "source": [
    "fig, ax1 = plt.subplots(figsize=(12, 2))\n",
    "plot_enrolled_bar(ax1, rank_difficulty, \"Students enrolled by difficulty\", \"difficulty\", 0, \"#003785\")\n",
    "plt.tight_layout()\n",
    "plt.show()"
   ]
  },
  {
   "cell_type": "markdown",
   "id": "a32b1074-7842-4578-9a5d-5f061fee3ef0",
   "metadata": {},
   "source": [
    "---"
   ]
  },
  {
   "cell_type": "markdown",
   "id": "40c7c3f6-0494-4587-90f3-fc815d77e68a",
   "metadata": {},
   "source": [
    "#### 3.3.2. Course count by difficulty"
   ]
  },
  {
   "cell_type": "code",
   "execution_count": 53,
   "id": "2cd9f54f-b4a5-4624-91d2-377efd690b2e",
   "metadata": {},
   "outputs": [],
   "source": [
    "difficulty_counts = df_coursera[\"difficulty\"].value_counts()\n",
    "difficulty_percentages = df_coursera[\"difficulty\"].value_counts(normalize=True) * 100"
   ]
  },
  {
   "cell_type": "code",
   "execution_count": 54,
   "id": "05d8c518-fb58-4bd5-aea7-3c6c9dbc22ce",
   "metadata": {},
   "outputs": [],
   "source": [
    "difficulty_df = pd.DataFrame({\n",
    "    \"difficulty\": difficulty_counts.index,\n",
    "    \"count\": difficulty_counts.values,\n",
    "    \"pct %\": difficulty_percentages.round(2).values\n",
    "})"
   ]
  },
  {
   "cell_type": "code",
   "execution_count": 55,
   "id": "cf04502b-5448-4f00-8d88-cc5690f6cca0",
   "metadata": {},
   "outputs": [
    {
     "data": {
      "text/html": [
       "<div>\n",
       "<style scoped>\n",
       "    .dataframe tbody tr th:only-of-type {\n",
       "        vertical-align: middle;\n",
       "    }\n",
       "\n",
       "    .dataframe tbody tr th {\n",
       "        vertical-align: top;\n",
       "    }\n",
       "\n",
       "    .dataframe thead th {\n",
       "        text-align: right;\n",
       "    }\n",
       "</style>\n",
       "<table border=\"1\" class=\"dataframe\">\n",
       "  <thead>\n",
       "    <tr style=\"text-align: right;\">\n",
       "      <th></th>\n",
       "      <th>difficulty</th>\n",
       "      <th>count</th>\n",
       "      <th>pct %</th>\n",
       "    </tr>\n",
       "  </thead>\n",
       "  <tbody>\n",
       "    <tr>\n",
       "      <th>0</th>\n",
       "      <td>Beginner</td>\n",
       "      <td>487</td>\n",
       "      <td>54.66</td>\n",
       "    </tr>\n",
       "    <tr>\n",
       "      <th>1</th>\n",
       "      <td>Intermediate</td>\n",
       "      <td>198</td>\n",
       "      <td>22.22</td>\n",
       "    </tr>\n",
       "    <tr>\n",
       "      <th>2</th>\n",
       "      <td>Mixed</td>\n",
       "      <td>187</td>\n",
       "      <td>20.99</td>\n",
       "    </tr>\n",
       "    <tr>\n",
       "      <th>3</th>\n",
       "      <td>Advanced</td>\n",
       "      <td>19</td>\n",
       "      <td>2.13</td>\n",
       "    </tr>\n",
       "  </tbody>\n",
       "</table>\n",
       "</div>"
      ],
      "text/plain": [
       "     difficulty  count  pct %\n",
       "0      Beginner    487  54.66\n",
       "1  Intermediate    198  22.22\n",
       "2         Mixed    187  20.99\n",
       "3      Advanced     19   2.13"
      ]
     },
     "execution_count": 55,
     "metadata": {},
     "output_type": "execute_result"
    }
   ],
   "source": [
    "difficulty_df"
   ]
  },
  {
   "cell_type": "markdown",
   "id": "1ca5a315-910c-43c6-947b-9e49f07d78b5",
   "metadata": {},
   "source": [
    "#### Insights\n",
    "\n",
    "- **54.7% of all courses are \"Beginner\"** level, attracting **49.5% of students** who prefer foundational knowledge or are new to a subject.\n",
    "- \"Mixed\" courses account for 31.0% of student enrollment and 20.9% of total offerings.\n",
    "- Enrollment sharply declines with increasing difficulty: **only 18.0% of students choose Intermediate** courses, and **1.6% opt for Advanced**."
   ]
  },
  {
   "cell_type": "markdown",
   "id": "15d8a70c-dc58-4810-9a5c-9ef96af8ad42",
   "metadata": {},
   "source": [
    "---"
   ]
  },
  {
   "cell_type": "markdown",
   "id": "74c1909b-2269-4f99-a955-e82f2fa14700",
   "metadata": {},
   "source": [
    "### 3.4. Analysis by **Certificate Type**"
   ]
  },
  {
   "cell_type": "markdown",
   "id": "0e8a1d16-e87f-47d9-8717-afae1218248f",
   "metadata": {},
   "source": [
    "#### 3.4.1. Students enrollment by certificate type"
   ]
  },
  {
   "cell_type": "code",
   "execution_count": 56,
   "id": "6ea19ebb-2afc-4ec9-bbc5-f966b845bbd6",
   "metadata": {},
   "outputs": [
    {
     "data": {
      "text/html": [
       "<div>\n",
       "<style scoped>\n",
       "    .dataframe tbody tr th:only-of-type {\n",
       "        vertical-align: middle;\n",
       "    }\n",
       "\n",
       "    .dataframe tbody tr th {\n",
       "        vertical-align: top;\n",
       "    }\n",
       "\n",
       "    .dataframe thead th {\n",
       "        text-align: right;\n",
       "    }\n",
       "</style>\n",
       "<table border=\"1\" class=\"dataframe\">\n",
       "  <thead>\n",
       "    <tr style=\"text-align: right;\">\n",
       "      <th></th>\n",
       "      <th>certificate_type</th>\n",
       "      <th>students_enrolled</th>\n",
       "      <th>percent_enrolled</th>\n",
       "    </tr>\n",
       "  </thead>\n",
       "  <tbody>\n",
       "    <tr>\n",
       "      <th>1</th>\n",
       "      <td>Course</td>\n",
       "      <td>51131300</td>\n",
       "      <td>63.37%</td>\n",
       "    </tr>\n",
       "    <tr>\n",
       "      <th>2</th>\n",
       "      <td>Specialization</td>\n",
       "      <td>27262200</td>\n",
       "      <td>33.79%</td>\n",
       "    </tr>\n",
       "    <tr>\n",
       "      <th>3</th>\n",
       "      <td>Professional Certificate</td>\n",
       "      <td>2288400</td>\n",
       "      <td>2.84%</td>\n",
       "    </tr>\n",
       "  </tbody>\n",
       "</table>\n",
       "</div>"
      ],
      "text/plain": [
       "           certificate_type  students_enrolled percent_enrolled\n",
       "1                    Course           51131300           63.37%\n",
       "2            Specialization           27262200           33.79%\n",
       "3  Professional Certificate            2288400            2.84%"
      ]
     },
     "execution_count": 56,
     "metadata": {},
     "output_type": "execute_result"
    }
   ],
   "source": [
    "rank_certificate = get_ranked_by_enrollment(df_coursera, column=\"certificate_type\", n=3, order=\"top\")\n",
    "rank_certificate"
   ]
  },
  {
   "cell_type": "markdown",
   "id": "fdb4cc85-46a2-4e3c-9592-43c8fc2cb5c3",
   "metadata": {},
   "source": [
    "#### 3.4.2 Certificate Types: Key Metrics Heatmap"
   ]
  },
  {
   "cell_type": "code",
   "execution_count": 57,
   "id": "16ade57e-b955-492c-abbb-02957f558a75",
   "metadata": {},
   "outputs": [],
   "source": [
    "metrics = df_coursera.groupby(\"certificate_type\", observed=False).agg({\n",
    "    \"students_enrolled\": [\"sum\", \"mean\", \"count\"],\n",
    "    \"rating\": \"mean\"\n",
    "})\n",
    "\n",
    "metrics.columns = [\"Total Enrollment\", \"Average Enrollment\", \"Course Count\", \"Average Rating\"]\n",
    "metrics = metrics.reset_index()\n",
    "\n",
    "scaler = MinMaxScaler()\n",
    "normalized_values = scaler.fit_transform(metrics.iloc[:, 1:])\n",
    "\n",
    "# Create DataFrame for the heatmap\n",
    "df_normalized = pd.DataFrame(\n",
    "    normalized_values,\n",
    "    index=metrics[\"certificate_type\"],\n",
    "    columns=[\"Total Enrollment\", \"Avg Enrollment\", \"Course Count\", \"Rating\"]\n",
    ")"
   ]
  },
  {
   "cell_type": "code",
   "execution_count": 58,
   "id": "1f713ace-a04a-48e2-b921-184ef531b47d",
   "metadata": {},
   "outputs": [
    {
     "data": {
      "image/png": "[encoded data removed]",
      "text/plain": [
       "<Figure size 800x300 with 1 Axes>"
      ]
     },
     "metadata": {},
     "output_type": "display_data"
    }
   ],
   "source": [
    "# Plot heatmap\n",
    "plt.figure(figsize=(8, 3))\n",
    "sns.heatmap(\n",
    "    df_normalized,\n",
    "    annot=True,\n",
    "    cmap=\"YlGnBu\",\n",
    "    fmt=\".2f\",\n",
    "    cbar=False\n",
    ")\n",
    "\n",
    "plt.title(\"\\nNormalized Metrics by Certificate Types\\n\", fontsize=12)\n",
    "plt.tick_params(axis=\"x\", bottom=False)\n",
    "plt.tick_params(axis=\"y\", left=False)\n",
    "plt.ylabel(\"\")\n",
    "plt.tight_layout()\n",
    "plt.show()"
   ]
  },
  {
   "cell_type": "markdown",
   "id": "6bec384c-b5ff-42a5-b7c5-e36e1e74ae08",
   "metadata": {},
   "source": [
    "#### Insights\n",
    "\n",
    "- **Courses** Dominate in **Quantity and Popularity**\n",
    "- **Professional Certificates: Highest Average Enrollment** per course, and a strong Rating. Despite having fewest total enrollments and low course count, they deliver focused, high-impact content.\n",
    "- **Specializations:** Moderate Total Enrollment and Course Count, but very **low Average Enrollment and Rating**. May reflect less learner engagement per course."
   ]
  },
  {
   "cell_type": "markdown",
   "id": "86e10940-9f62-4c71-a1ac-53b5cb1f996f",
   "metadata": {},
   "source": [
    "---"
   ]
  },
  {
   "cell_type": "markdown",
   "id": "fded20ea-2c89-4fc6-b872-14f21f3593e2",
   "metadata": {},
   "source": [
    "### 3.5. Analysis by **Language**"
   ]
  },
  {
   "cell_type": "markdown",
   "id": "85ac8973-9347-4c05-beb6-6fdcceec637a",
   "metadata": {},
   "source": [
    "#### 3.5.1. Students enrollment by language"
   ]
  },
  {
   "cell_type": "code",
   "execution_count": 59,
   "id": "f9125459-837f-4d6f-89a2-7292c8c21e65",
   "metadata": {},
   "outputs": [
    {
     "data": {
      "text/html": [
       "<div>\n",
       "<style scoped>\n",
       "    .dataframe tbody tr th:only-of-type {\n",
       "        vertical-align: middle;\n",
       "    }\n",
       "\n",
       "    .dataframe tbody tr th {\n",
       "        vertical-align: top;\n",
       "    }\n",
       "\n",
       "    .dataframe thead th {\n",
       "        text-align: right;\n",
       "    }\n",
       "</style>\n",
       "<table border=\"1\" class=\"dataframe\">\n",
       "  <thead>\n",
       "    <tr style=\"text-align: right;\">\n",
       "      <th></th>\n",
       "      <th>language</th>\n",
       "      <th>students_enrolled</th>\n",
       "      <th>percent_enrolled</th>\n",
       "    </tr>\n",
       "  </thead>\n",
       "  <tbody>\n",
       "    <tr>\n",
       "      <th>1</th>\n",
       "      <td>en</td>\n",
       "      <td>75846800</td>\n",
       "      <td>94.01%</td>\n",
       "    </tr>\n",
       "    <tr>\n",
       "      <th>2</th>\n",
       "      <td>es</td>\n",
       "      <td>3720800</td>\n",
       "      <td>4.61%</td>\n",
       "    </tr>\n",
       "    <tr>\n",
       "      <th>3</th>\n",
       "      <td>ru</td>\n",
       "      <td>599800</td>\n",
       "      <td>0.74%</td>\n",
       "    </tr>\n",
       "    <tr>\n",
       "      <th>4</th>\n",
       "      <td>fr</td>\n",
       "      <td>357900</td>\n",
       "      <td>0.44%</td>\n",
       "    </tr>\n",
       "    <tr>\n",
       "      <th>5</th>\n",
       "      <td>pt</td>\n",
       "      <td>141500</td>\n",
       "      <td>0.18%</td>\n",
       "    </tr>\n",
       "    <tr>\n",
       "      <th>6</th>\n",
       "      <td>ja</td>\n",
       "      <td>15100</td>\n",
       "      <td>0.02%</td>\n",
       "    </tr>\n",
       "  </tbody>\n",
       "</table>\n",
       "</div>"
      ],
      "text/plain": [
       "  language  students_enrolled percent_enrolled\n",
       "1       en           75846800           94.01%\n",
       "2       es            3720800            4.61%\n",
       "3       ru             599800            0.74%\n",
       "4       fr             357900            0.44%\n",
       "5       pt             141500            0.18%\n",
       "6       ja              15100            0.02%"
      ]
     },
     "execution_count": 59,
     "metadata": {},
     "output_type": "execute_result"
    }
   ],
   "source": [
    "rank_language = get_ranked_by_enrollment(df_coursera, column=\"language\", n=6, order=\"top\")\n",
    "rank_language"
   ]
  },
  {
   "cell_type": "markdown",
   "id": "655208b9-9f4a-47e6-9381-39cc1a97f489",
   "metadata": {},
   "source": [
    "#### Insights\n",
    "\n",
    "- **English** (en) is the primary language for Coursera enrollments, accounting for **94.01%** of all students.\n",
    "- Spanish ranks second at 4.61%, far behind English but still the only language with notable representation.\n",
    "- Low engagement in other languages: Russian, French, Portuguese, and Japanese each account for under 1% of enrollments.\n"
   ]
  },
  {
   "cell_type": "markdown",
   "id": "1216e472-6978-4947-b93e-1cb04f1f8973",
   "metadata": {},
   "source": [
    "---"
   ]
  },
  {
   "cell_type": "markdown",
   "id": "9bc50210-8f4d-4c92-a8ba-bc5ae3146925",
   "metadata": {},
   "source": [
    "### 3.6. Analysis by **Category**"
   ]
  },
  {
   "cell_type": "markdown",
   "id": "4de3912d-93cc-46c4-990d-544a58d9064c",
   "metadata": {},
   "source": [
    "#### 3.6.1. Student enrollement by Category"
   ]
  },
  {
   "cell_type": "code",
   "execution_count": 60,
   "id": "3dd27d67-94ef-4c11-9615-60a1ab5ca828",
   "metadata": {},
   "outputs": [
    {
     "data": {
      "text/html": [
       "<div>\n",
       "<style scoped>\n",
       "    .dataframe tbody tr th:only-of-type {\n",
       "        vertical-align: middle;\n",
       "    }\n",
       "\n",
       "    .dataframe tbody tr th {\n",
       "        vertical-align: top;\n",
       "    }\n",
       "\n",
       "    .dataframe thead th {\n",
       "        text-align: right;\n",
       "    }\n",
       "</style>\n",
       "<table border=\"1\" class=\"dataframe\">\n",
       "  <thead>\n",
       "    <tr style=\"text-align: right;\">\n",
       "      <th></th>\n",
       "      <th>category</th>\n",
       "      <th>students_enrolled</th>\n",
       "      <th>percent_enrolled</th>\n",
       "    </tr>\n",
       "  </thead>\n",
       "  <tbody>\n",
       "    <tr>\n",
       "      <th>1</th>\n",
       "      <td>Data Science &amp; Analytics</td>\n",
       "      <td>22915900</td>\n",
       "      <td>28.40%</td>\n",
       "    </tr>\n",
       "    <tr>\n",
       "      <th>2</th>\n",
       "      <td>Business &amp; Marketing</td>\n",
       "      <td>12739500</td>\n",
       "      <td>15.79%</td>\n",
       "    </tr>\n",
       "    <tr>\n",
       "      <th>3</th>\n",
       "      <td>Other</td>\n",
       "      <td>10448100</td>\n",
       "      <td>12.95%</td>\n",
       "    </tr>\n",
       "    <tr>\n",
       "      <th>4</th>\n",
       "      <td>Programming &amp; Software Dev</td>\n",
       "      <td>10384200</td>\n",
       "      <td>12.87%</td>\n",
       "    </tr>\n",
       "    <tr>\n",
       "      <th>5</th>\n",
       "      <td>Health &amp; Medicine</td>\n",
       "      <td>7613100</td>\n",
       "      <td>9.44%</td>\n",
       "    </tr>\n",
       "    <tr>\n",
       "      <th>6</th>\n",
       "      <td>Arts &amp; Humanities</td>\n",
       "      <td>6021000</td>\n",
       "      <td>7.46%</td>\n",
       "    </tr>\n",
       "    <tr>\n",
       "      <th>7</th>\n",
       "      <td>Personal Development</td>\n",
       "      <td>4877600</td>\n",
       "      <td>6.05%</td>\n",
       "    </tr>\n",
       "    <tr>\n",
       "      <th>8</th>\n",
       "      <td>Cloud Computing &amp; IT</td>\n",
       "      <td>3965100</td>\n",
       "      <td>4.91%</td>\n",
       "    </tr>\n",
       "    <tr>\n",
       "      <th>9</th>\n",
       "      <td>Social Sciences</td>\n",
       "      <td>953400</td>\n",
       "      <td>1.18%</td>\n",
       "    </tr>\n",
       "    <tr>\n",
       "      <th>10</th>\n",
       "      <td>Mathematics &amp; Logic</td>\n",
       "      <td>764000</td>\n",
       "      <td>0.95%</td>\n",
       "    </tr>\n",
       "  </tbody>\n",
       "</table>\n",
       "</div>"
      ],
      "text/plain": [
       "                      category  students_enrolled percent_enrolled\n",
       "1     Data Science & Analytics           22915900           28.40%\n",
       "2         Business & Marketing           12739500           15.79%\n",
       "3                        Other           10448100           12.95%\n",
       "4   Programming & Software Dev           10384200           12.87%\n",
       "5            Health & Medicine            7613100            9.44%\n",
       "6            Arts & Humanities            6021000            7.46%\n",
       "7         Personal Development            4877600            6.05%\n",
       "8         Cloud Computing & IT            3965100            4.91%\n",
       "9              Social Sciences             953400            1.18%\n",
       "10         Mathematics & Logic             764000            0.95%"
      ]
     },
     "execution_count": 60,
     "metadata": {},
     "output_type": "execute_result"
    }
   ],
   "source": [
    "categories_enrolled = get_ranked_by_enrollment(df_coursera, column=\"category\", n=10, order=\"top\")\n",
    "categories_enrolled"
   ]
  },
  {
   "cell_type": "code",
   "execution_count": 61,
   "id": "61017f82-7846-4078-a614-4f23f1bf0bb5",
   "metadata": {},
   "outputs": [
    {
     "data": {
      "image/png": "[encoded data removed]",
      "text/plain": [
       "<Figure size 1200x400 with 1 Axes>"
      ]
     },
     "metadata": {},
     "output_type": "display_data"
    }
   ],
   "source": [
    "fig, ax1 = plt.subplots(figsize=(12, 4))\n",
    "plot_enrolled_bar(ax1, categories_enrolled, \"Students enrolled by category\", \"category\", 0, \"#003785\")\n",
    "plt.tight_layout()\n",
    "plt.show()"
   ]
  },
  {
   "cell_type": "markdown",
   "id": "b058c49a-77b5-45ff-9968-604e5395be30",
   "metadata": {},
   "source": [
    "#### Insights\n",
    "\n",
    "- **Data Science & Analytics** is the most popular category, capturing **28.44%** of all student enrollments (nearly 23 million students).\n",
    "- \"Business & Marketing\" (15.8%) and \"Programming & Software Dev\" (12.9%) are the next most popular categories. When combined with \"Cloud Computing & IT\" (4.9%), it's clear that professional, tech-oriented skills are the primary drivers of enrollment on Coursera.\n",
    "- Traditional academic fields like \"Social Sciences\" (1.2%) and \"Mathematics & Logic\" (0.9%) have the lowest enrollments. "
   ]
  },
  {
   "cell_type": "markdown",
   "id": "498dff1b-42ed-46dd-b804-ca040a3fdf7e",
   "metadata": {},
   "source": [
    "---"
   ]
  },
  {
   "cell_type": "markdown",
   "id": "2a1fe8b6-bb9c-469c-98ce-baa26d829b2b",
   "metadata": {},
   "source": [
    "#### 3.6.2. Most common keywords in title by Category"
   ]
  },
  {
   "cell_type": "markdown",
   "id": "7801b624-2e4a-44f3-8130-7aaa7c4a65b1",
   "metadata": {},
   "source": [
    "- TF-IDF keyword extraction\n",
    "- Aggregation of keyword metrics"
   ]
  },
  {
   "cell_type": "code",
   "execution_count": 62,
   "id": "6ab1772a-7261-426b-a6c6-b12d70736621",
   "metadata": {},
   "outputs": [],
   "source": [
    "df_topic = df_coursera.copy()"
   ]
  },
  {
   "cell_type": "code",
   "execution_count": 63,
   "id": "80df44ed-8731-4d3f-84c5-2a3912ef745b",
   "metadata": {},
   "outputs": [],
   "source": [
    "# Clean titles for TF-IDF\n",
    "df_topic[\"clean_title\"] = df_topic[\"translated_title\"].apply(\n",
    "    lambda x: re.sub(r\"[^a-zA-Z\\s]\", \"\", str(x).lower())\n",
    ")"
   ]
  },
  {
   "cell_type": "code",
   "execution_count": 64,
   "id": "971ee3b9-ad6e-47e5-a84e-4da3f91c7cd8",
   "metadata": {},
   "outputs": [],
   "source": [
    "# Initialize TF-IDF Vectorizer\n",
    "vectorizer = TfidfVectorizer(stop_words=\"english\", max_features=500)\n",
    "\n",
    "categories = df_topic[\"category\"].unique()\n",
    "category_figures = []"
   ]
  },
  {
   "cell_type": "code",
   "execution_count": 65,
   "id": "ec025ee1-ac64-4e15-bf85-654120a60fc8",
   "metadata": {},
   "outputs": [],
   "source": [
    "for cat in categories:\n",
    "    df_cat = df_topic[df_topic[\"category\"] == cat].copy()\n",
    "    \n",
    "    if df_cat.empty or df_cat[\"clean_title\"].nunique() < 2:\n",
    "        continue\n",
    "    \n",
    "    # TF-IDF processing\n",
    "    tfidf_matrix = vectorizer.fit_transform(df_cat[\"clean_title\"])\n",
    "    tfidf_df = pd.DataFrame(tfidf_matrix.toarray(), columns=vectorizer.get_feature_names_out())\n",
    "    \n",
    "    # Top keyword per course\n",
    "    df_cat[\"top_keyword\"] = tfidf_df.idxmax(axis=1)\n",
    "    \n",
    "    keyword_metrics = df_cat.groupby(\"top_keyword\").agg(\n",
    "        Average_Enrollment=(\"students_enrolled\", \"mean\"),\n",
    "        Average_Rating=(\"rating\", \"mean\"),\n",
    "        Course_Count=(\"translated_title\", \"count\")\n",
    "    ).sort_values(by=\"Average_Enrollment\", ascending=False)\n",
    "\n",
    "    keyword_metrics = keyword_metrics.round(2)\n",
    "    \n",
    "    # Add total TF-IDF score\n",
    "    total_tfidf_scores = tfidf_df.sum(axis=0)\n",
    "    total_tfidf_scores_df = total_tfidf_scores.reset_index()\n",
    "    total_tfidf_scores_df.columns = [\"top_keyword\", \"Total_TFIDF_Score\"]\n",
    "    \n",
    "    keyword_metrics = pd.merge(\n",
    "        keyword_metrics.reset_index(),\n",
    "        total_tfidf_scores_df,\n",
    "        on=\"top_keyword\",\n",
    "        how=\"left\"\n",
    "    ).sort_values(by=\"Average_Enrollment\", ascending=False)\n",
    "    \n",
    "    category_figures.append(keyword_metrics.head(20))"
   ]
  },
  {
   "cell_type": "code",
   "execution_count": 66,
   "id": "88c14d0b-9a5e-435d-8f1b-cde762fcbb59",
   "metadata": {},
   "outputs": [
    {
     "data": {
      "application/vnd.plotly.v1+json": {
       "config": {
        "plotlyServerURL": "https://plot.ly"
       },
       "data": [
        {
         "customdata": {
          "bdata": "AAAAAAAA8D86EPr/WcknQAAAAAAAAPA/Qie3vBGiAEAAAAAAAADwP8w7f2aeoOY/AAAAAAAA8D9I9Ug/jPELQAAAAAAAAABAo6gm/zSOCEAAAAAAAADwP57x1KyTnPQ/AAAAAAAA8D+PC3TaDmgdQAAAAAAAAPA/LXySZUl75T8AAAAAAADwP97n0vF9a+I/AAAAAAAA8D8qSRKrC+ndPwAAAAAAAPA/ge+CVCIiHUAAAAAAAADwP3RbNddgYt8/AAAAAAAA8D91vc39e/voPwAAAAAAAPA/0aRXD+H14D8AAAAAAADwPxku7E9u8OE/AAAAAAAA8D+b1uRn1mAWQAAAAAAAAPA/+n7xv3wH6z8AAAAAAADwP74HodEzUfM/AAAAAAAA8D/ir8X4F/T1PwAAAAAAAPA/+n7xv3wH6z8=",
          "dtype": "f8",
          "shape": "20, 2"
         },
         "hovertemplate": "Keyword: %{text}<br>Enrollment: %{x}<br>Rating: %{y}<br>Courses: %{customdata[0]}<br>TF-IDF Score: %{customdata[1]:.2f}<extra></extra>",
         "marker": {
          "color": {
           "bdata": "OhD6/1nJJ0BCJ7e8EaIAQMw7f2aeoOY/SPVIP4zxC0CjqCb/NI4IQJ7x1KyTnPQ/jwt02g5oHUAtfJJlSXvlP97n0vF9a+I/KkkSqwvp3T+B74JUIiIdQHRbNddgYt8/db3N/Xv76D/RpFcP4fXgPxku7E9u8OE/m9bkZ9ZgFkD6fvG/fAfrP74HodEzUfM/4q/F+Bf09T/6fvG/fAfrPw==",
           "dtype": "f8"
          },
          "colorbar": {
           "title": {
            "text": "TF-IDF Score"
           }
          },
          "colorscale": [
           [
            0,
            "#440154"
           ],
           [
            0.1111111111111111,
            "#482878"
           ],
           [
            0.2222222222222222,
            "#3e4989"
           ],
           [
            0.3333333333333333,
            "#31688e"
           ],
           [
            0.4444444444444444,
            "#26828e"
           ],
           [
            0.5555555555555556,
            "#1f9e89"
           ],
           [
            0.6666666666666666,
            "#35b779"
           ],
           [
            0.7777777777777778,
            "#6ece58"
           ],
           [
            0.8888888888888888,
            "#b5de2b"
           ],
           [
            1,
            "#fde725"
           ]
          ],
          "showscale": true,
          "size": {
           "bdata": "AAAAAAAAYECamZmZmZlAQJqZmZmZmT1AMzMzMzMzOUBmZmZmZmY3QJqZmZmZmTNAMzMzMzMzM0DNzMzMzMwwQAAAAAAAACxAmpmZmZmZKUDNzMzMzMwoQGZmZmZmZiZAzczMzMzMJEDNzMzMzMwkQJqZmZmZmSFAmpmZmZmZIUCamZmZmZkhQJqZmZmZmSFAzczMzMzMIEBmZmZmZmYeQA==",
           "dtype": "f8"
          }
         },
         "mode": "markers",
         "name": "Data Science & Analytics",
         "text": [
          "science",
          "engineering",
          "aid",
          "blockchain",
          "ibm",
          "revolution",
          "statistics",
          "treatment",
          "algebra",
          "emerging",
          "introduction",
          "presentation",
          "fundraising",
          "cities",
          "convolutional",
          "business",
          "tools",
          "practice",
          "trading",
          "executive"
         ],
         "type": "scatter",
         "visible": true,
         "x": {
          "bdata": "AAAAAABqSEEAAAAAYFQpQQAAAABAlSZBAAAAAOA5I0EAAAAAUNohQQAAAABA6B1BAAAAAABMHUEAAAAAgKIZQQAAAADAXBVBAAAAAACIE0EAAAAAwOsSQQAAAAAAFxFBAAAAAAC9D0EAAAAAAL0PQQAAAAAA2wpBAAAAAADbCkEAAAAAANsKQQAAAAAA2wpBAAAAAICiCUEAAAAAgDEHQQ==",
          "dtype": "f8"
         },
         "y": {
          "bdata": "mpmZmZmZE0AAAAAAAAASQGZmZmZmZhJAmpmZmZmZE0DNzMzMzMwSQGZmZmZmZhJAAAAAAAAAEkCamZmZmZkTQDMzMzMzMxNAmpmZmZmZEUBmZmZmZmYSQGZmZmZmZhJAzczMzMzMEkBmZmZmZmYSQM3MzMzMzBJAZmZmZmZmEkBmZmZmZmYSQGZmZmZmZhJAmpmZmZmZEUAzMzMzMzMTQA==",
          "dtype": "f8"
         }
        },
        {
         "customdata": {
          "bdata": "AAAAAAAA8D+4E3N87RYLQAAAAAAAAPA/+xy9RaQC5D8AAAAAAADwP5azQHDx5N0/AAAAAAAA8D+zAS7nsO7bPwAAAAAAAPA/r1Jx2v+U4D8AAAAAAADwP1ePgq29leQ/AAAAAAAA8D/xpxM9lefgPw==",
          "dtype": "f8",
          "shape": "7, 2"
         },
         "hovertemplate": "Keyword: %{text}<br>Enrollment: %{x}<br>Rating: %{y}<br>Courses: %{customdata[0]}<br>TF-IDF Score: %{customdata[1]:.2f}<extra></extra>",
         "marker": {
          "color": {
           "bdata": "uBNzfO0WC0D7HL1FpALkP5azQHDx5N0/swEu57Du2z+vUnHa/5TgP1ePgq29leQ/8acTPZXn4D8=",
           "dtype": "f8"
          },
          "colorbar": {
           "title": {
            "text": "TF-IDF Score"
           }
          },
          "colorscale": [
           [
            0,
            "#440154"
           ],
           [
            0.1111111111111111,
            "#482878"
           ],
           [
            0.2222222222222222,
            "#3e4989"
           ],
           [
            0.3333333333333333,
            "#31688e"
           ],
           [
            0.4444444444444444,
            "#26828e"
           ],
           [
            0.5555555555555556,
            "#1f9e89"
           ],
           [
            0.6666666666666666,
            "#35b779"
           ],
           [
            0.7777777777777778,
            "#6ece58"
           ],
           [
            0.8888888888888888,
            "#b5de2b"
           ],
           [
            1,
            "#fde725"
           ]
          ],
          "showscale": false,
          "size": {
           "bdata": "AAAAAAAAWUCamZmZmZk/QJqZmZmZmS1AmpmZmZmZJUCamZmZmZkhQHsUrkfhegxA16NwPQrX8z8=",
           "dtype": "f8"
          }
         },
         "mode": "markers",
         "name": "Health & Medicine",
         "text": [
          "introduction",
          "biotechnology",
          "anymore",
          "addiction",
          "control",
          "baby",
          "leading"
         ],
         "type": "scatter",
         "visible": false,
         "x": {
          "bdata": "AAAAANASQ0EAAAAA4BsoQQAAAABAlRZBAAAAAMB6EEEAAAAAANsKQQAAAACAuvVAAAAAAABG3kA=",
          "dtype": "f8"
         },
         "y": {
          "bdata": "mpmZmZmZE0CamZmZmZkRQM3MzMzMzBJAmpmZmZmZE0CamZmZmZkTQDMzMzMzMxNAzczMzMzMEkA=",
          "dtype": "f8"
         }
        },
        {
         "customdata": {
          "bdata": "AAAAAAAA8D84HiwCmjzwPwAAAAAAAPA/UxYrcm6J8T8AAAAAAADwPy4mYGV4zts/AAAAAAAA8D80ZrJSQJfdPwAAAAAAAPA/BbntMibY5T8AAAAAAADwP+76ApVz4AVAAAAAAAAA8D++KY4HHLPfPwAAAAAAAPA/eodj5dpc4T8=",
          "dtype": "f8",
          "shape": "8, 2"
         },
         "hovertemplate": "Keyword: %{text}<br>Enrollment: %{x}<br>Rating: %{y}<br>Courses: %{customdata[0]}<br>TF-IDF Score: %{customdata[1]:.2f}<extra></extra>",
         "marker": {
          "color": {
           "bdata": "OB4sApo88D9TFitybonxPy4mYGV4zts/NGayUkCX3T8Fue0yJtjlP+76ApVz4AVAvimOBxyz3z96h2Pl2lzhPw==",
           "dtype": "f8"
          },
          "colorbar": {
           "title": {
            "text": "TF-IDF Score"
           }
          },
          "colorscale": [
           [
            0,
            "#440154"
           ],
           [
            0.1111111111111111,
            "#482878"
           ],
           [
            0.2222222222222222,
            "#3e4989"
           ],
           [
            0.3333333333333333,
            "#31688e"
           ],
           [
            0.4444444444444444,
            "#26828e"
           ],
           [
            0.5555555555555556,
            "#1f9e89"
           ],
           [
            0.6666666666666666,
            "#35b779"
           ],
           [
            0.7777777777777778,
            "#6ece58"
           ],
           [
            0.8888888888888888,
            "#b5de2b"
           ],
           [
            1,
            "#fde725"
           ]
          ],
          "showscale": false,
          "size": {
           "bdata": "AAAAAAAATkAAAAAAAABKQGZmZmZmZi5AZmZmZmZmJkAAAAAAAAAYQJqZmZmZmRFAFK5H4XoUDkDD9Shcj8INQA==",
           "dtype": "f8"
          }
         },
         "mode": "markers",
         "name": "Programming & Software Dev",
         "text": [
          "engineering",
          "getting",
          "bootstrap",
          "git",
          "learn",
          "computer",
          "requirements",
          "battery"
         ],
         "type": "scatter",
         "visible": false,
         "x": {
          "bdata": "AAAAAGDjNkEAAAAAINYzQQAAAACAMRdBAAAAAAAXEUEAAAAAgE8CQQAAAAAA2/pAAAAAAADz9kAAAAAAgLT2QA==",
          "dtype": "f8"
         },
         "y": {
          "bdata": "MzMzMzMzE0AzMzMzMzMTQGZmZmZmZhJAzczMzMzMEkAzMzMzMzMTQGZmZmZmZhJAzczMzMzMEkDNzMzMzMwSQA==",
          "dtype": "f8"
         }
        },
        {
         "customdata": {
          "bdata": "AAAAAAAA8D/7ib206FMBQAAAAAAAAPA/iurHFaRA3z8AAAAAAADwP8voUrM7Ydc/AAAAAAAA8D+FGhwIpGMIQAAAAAAAAPA/0ssSpf934j8AAAAAAADwP4bVkFPcouQ/",
          "dtype": "f8",
          "shape": "6, 2"
         },
         "hovertemplate": "Keyword: %{text}<br>Enrollment: %{x}<br>Rating: %{y}<br>Courses: %{customdata[0]}<br>TF-IDF Score: %{customdata[1]:.2f}<extra></extra>",
         "marker": {
          "color": {
           "bdata": "+4m9tOhTAUCK6scVpEDfP8voUrM7Ydc/hRocCKRjCEDSyxKl/3fiP4bVkFPcouQ/",
           "dtype": "f8"
          },
          "colorbar": {
           "title": {
            "text": "TF-IDF Score"
           }
          },
          "colorscale": [
           [
            0,
            "#440154"
           ],
           [
            0.1111111111111111,
            "#482878"
           ],
           [
            0.2222222222222222,
            "#3e4989"
           ],
           [
            0.3333333333333333,
            "#31688e"
           ],
           [
            0.4444444444444444,
            "#26828e"
           ],
           [
            0.5555555555555556,
            "#1f9e89"
           ],
           [
            0.6666666666666666,
            "#35b779"
           ],
           [
            0.7777777777777778,
            "#6ece58"
           ],
           [
            0.8888888888888888,
            "#b5de2b"
           ],
           [
            1,
            "#fde725"
           ]
          ],
          "showscale": false,
          "size": {
           "bdata": "AAAAAAAALEDNzMzMzMwoQM3MzMzMzChAAAAAAAAAKEAAAAAAAAAoQDMzMzMzMydA",
           "dtype": "f8"
          }
         },
         "mode": "markers",
         "name": "Cloud Computing & IT",
         "text": [
          "security",
          "cbrs",
          "deep",
          "cybersecurity",
          "information",
          "administration"
         ],
         "type": "scatter",
         "visible": false,
         "x": {
          "bdata": "AAAAAMBcFUEAAAAAwOsSQQAAAADA6xJBAAAAAIBPEkEAAAAAgE8SQQAAAABAsxFB",
          "dtype": "f8"
         },
         "y": {
          "bdata": "MzMzMzMzE0DNzMzMzMwSQM3MzMzMzBJAzczMzMzMEkDNzMzMzMwSQM3MzMzMzBJA",
          "dtype": "f8"
         }
        },
        {
         "customdata": {
          "bdata": "AAAAAAAA8D9JNDZgZAvhPwAAAAAAAPA/YTWgkMER4T8AAAAAAADwP47FXTR4ifw/AAAAAAAA8D+SKNZZKMbjPwAAAAAAAPA/KPBDWp5X6T8AAAAAAAAAQB8QbLCrKhFAAAAAAAAA8D9akG00GDrePwAAAAAAAPA/mLifYoJhEUAAAAAAAADwP9Km/pXJD+Y/AAAAAAAA8D9CmcOvV9IgQAAAAAAAAPA/Pn9d5n/B5j8AAAAAAADwP8Zea/Yr0AVAAAAAAAAA8D/JfA/9zJXlPwAAAAAAAPA/eYwfCb+G2z8AAAAAAADwP3jM9gTOtuA/AAAAAAAA8D/yOzM8o3sCQAAAAAAAAPA/IimQRgw7HEAAAAAAAADwPxSjqEI7oOY/AAAAAAAA8D/vLuu0wLLwPwAAAAAAAPA/kcYf/PLo5z8=",
          "dtype": "f8",
          "shape": "20, 2"
         },
         "hovertemplate": "Keyword: %{text}<br>Enrollment: %{x}<br>Rating: %{y}<br>Courses: %{customdata[0]}<br>TF-IDF Score: %{customdata[1]:.2f}<extra></extra>",
         "marker": {
          "color": {
           "bdata": "STQ2YGQL4T9hNaCQwRHhP47FXTR4ifw/kijWWSjG4z8o8ENanlfpPx8QbLCrKhFAWpBtNBg63j+YuJ9igmERQNKm/pXJD+Y/QpnDr1fSIEA+f13mf8HmP8Zea/Yr0AVAyXwP/cyV5T95jB8Jv4bbP3jM9gTOtuA/8jszPKN7AkAiKZBGDDscQBSjqEI7oOY/7y7rtMCy8D+Rxh/88ujnPw==",
           "dtype": "f8"
          },
          "colorbar": {
           "title": {
            "text": "TF-IDF Score"
           }
          },
          "colorscale": [
           [
            0,
            "#440154"
           ],
           [
            0.1111111111111111,
            "#482878"
           ],
           [
            0.2222222222222222,
            "#3e4989"
           ],
           [
            0.3333333333333333,
            "#31688e"
           ],
           [
            0.4444444444444444,
            "#26828e"
           ],
           [
            0.5555555555555556,
            "#1f9e89"
           ],
           [
            0.6666666666666666,
            "#35b779"
           ],
           [
            0.7777777777777778,
            "#6ece58"
           ],
           [
            0.8888888888888888,
            "#b5de2b"
           ],
           [
            1,
            "#fde725"
           ]
          ],
          "showscale": false,
          "size": {
           "bdata": "ZmZmZmZmNEDNzMzMzMwyQJqZmZmZmTFAZmZmZmZmLkDNzMzMzMwkQJqZmZmZmSNAMzMzMzMzI0BmZmZmZmYiQJqZmZmZmSFAAAAAAAAAIECamZmZmZkZQGZmZmZmZhZAzczMzMzMFEAzMzMzMzMTQDMzMzMzMxNAMzMzMzMzE0CamZmZmZkRQAAAAAAAABBAAAAAAAAAEEAAAAAAAAAQQA==",
           "dtype": "f8"
          }
         },
         "mode": "markers",
         "name": "Business & Marketing",
         "text": [
          "career",
          "applications",
          "content",
          "better",
          "brand",
          "accounting",
          "hr",
          "introduction",
          "culture",
          "strategy",
          "production",
          "english",
          "optimization",
          "giants",
          "foundational",
          "world",
          "financial",
          "everyday",
          "leading",
          "smart"
         ],
         "type": "scatter",
         "visible": false,
         "x": {
          "bdata": "AAAAAMAgH0EAAAAAwK8cQQAAAAAA2xpBAAAAAIAxF0EAAAAAAL0PQQAAAABA6A1BAAAAAABMDUEAAAAAgBMMQQAAAAAA2wpBAAAAAABqCEEAAAAAAIgDQQAAAAAAFwFBAAAAAAC9/0AAAAAAAEz9QAAAAAAATP1AAAAAAABM/UAAAAAAANv6QAAAAAAAavhAAAAAAABq+EAAAAAAAGr4QA==",
          "dtype": "f8"
         },
         "y": {
          "bdata": "zczMzMzMEkAzMzMzMzMTQGZmZmZmZhJAZmZmZmZmEkAAAAAAAAASQM3MzMzMzBJAmpmZmZmZE0DNzMzMzMwSQDMzMzMzMxNAmpmZmZmZE0AAAAAAAAASQM3MzMzMzBJAZmZmZmZmEkDNzMzMzMwSQM3MzMzMzBJAzczMzMzMEkAzMzMzMzMTQGZmZmZmZhJAzczMzMzMEkAAAAAAAAASQA==",
          "dtype": "f8"
         }
        },
        {
         "customdata": {
          "bdata": "AAAAAAAA8D/Ug/fzx63oPw==",
          "dtype": "f8",
          "shape": "1, 2"
         },
         "hovertemplate": "Keyword: %{text}<br>Enrollment: %{x}<br>Rating: %{y}<br>Courses: %{customdata[0]}<br>TF-IDF Score: %{customdata[1]:.2f}<extra></extra>",
         "marker": {
          "color": {
           "bdata": "1IP388et6D8=",
           "dtype": "f8"
          },
          "colorbar": {
           "title": {
            "text": "TF-IDF Score"
           }
          },
          "colorscale": [
           [
            0,
            "#440154"
           ],
           [
            0.1111111111111111,
            "#482878"
           ],
           [
            0.2222222222222222,
            "#3e4989"
           ],
           [
            0.3333333333333333,
            "#31688e"
           ],
           [
            0.4444444444444444,
            "#26828e"
           ],
           [
            0.5555555555555556,
            "#1f9e89"
           ],
           [
            0.6666666666666666,
            "#35b779"
           ],
           [
            0.7777777777777778,
            "#6ece58"
           ],
           [
            0.8888888888888888,
            "#b5de2b"
           ],
           [
            1,
            "#fde725"
           ]
          ],
          "showscale": false,
          "size": {
           "bdata": "ZmZmZmZmOEA=",
           "dtype": "f8"
          }
         },
         "mode": "markers",
         "name": "Personal Development",
         "text": [
          "alphabet"
         ],
         "type": "scatter",
         "visible": false,
         "x": {
          "bdata": "AAAAAKCdIkE=",
          "dtype": "f8"
         },
         "y": {
          "bdata": "zczMzMzMEkA=",
          "dtype": "f8"
         }
        },
        {
         "customdata": {
          "bdata": "AAAAAAAA8D8dM5BFp3niPwAAAAAAAPA/Esix6eCU5z8AAAAAAADwP2is0qGPlvU/AAAAAAAA8D96d31uDpDoPwAAAAAAAPA/AAAAAAAA4D8AAAAAAADwP/sbSvJ6ruM/AAAAAAAA8D8pHmlyI+nVPwAAAAAAAPA/uzSuUFp94D8AAAAAAADwP1OiiyHYpt8/AAAAAAAA8D9DtoOpmJ/hPwAAAAAAAPA/L2dAM4aA5T8AAAAAAADwP/sbSvJ6ruM/AAAAAAAA8D/MO39mnqDmPwAAAAAAAPA/iwbyhfcG4T8AAAAAAADwPx0zkEWneeI/AAAAAAAA8D96d31uDpDoPwAAAAAAAPA/AAAAAAAA8D8AAAAAAADwP/9CBNaEOOQ/AAAAAAAA8D8MusE2MbTxPwAAAAAAAPA/AAAAAAAA4D8=",
          "dtype": "f8",
          "shape": "20, 2"
         },
         "hovertemplate": "Keyword: %{text}<br>Enrollment: %{x}<br>Rating: %{y}<br>Courses: %{customdata[0]}<br>TF-IDF Score: %{customdata[1]:.2f}<extra></extra>",
         "marker": {
          "color": {
           "bdata": "HTOQRad54j8SyLHp4JTnP2is0qGPlvU/end9bg6Q6D8AAAAAAADgP/sbSvJ6ruM/KR5pciPp1T+7NK5QWn3gP1OiiyHYpt8/Q7aDqZif4T8vZ0AzhoDlP/sbSvJ6ruM/zDt/Zp6g5j+LBvKF9wbhPx0zkEWneeI/end9bg6Q6D8AAAAAAADwP/9CBNaEOOQ/DLrBNjG08T8AAAAAAADgPw==",
           "dtype": "f8"
          },
          "colorbar": {
           "title": {
            "text": "TF-IDF Score"
           }
          },
          "colorscale": [
           [
            0,
            "#440154"
           ],
           [
            0.1111111111111111,
            "#482878"
           ],
           [
            0.2222222222222222,
            "#3e4989"
           ],
           [
            0.3333333333333333,
            "#31688e"
           ],
           [
            0.4444444444444444,
            "#26828e"
           ],
           [
            0.5555555555555556,
            "#1f9e89"
           ],
           [
            0.6666666666666666,
            "#35b779"
           ],
           [
            0.7777777777777778,
            "#6ece58"
           ],
           [
            0.8888888888888888,
            "#b5de2b"
           ],
           [
            1,
            "#fde725"
           ]
          ],
          "showscale": false,
          "size": {
           "bdata": "mpmZmZmZKUBmZmZmZmYmQM3MzMzMzCRAmpmZmZmZIUBmZmZmZmYeQM3MzMzMzBxAAAAAAAAAGEBmZmZmZmYWQM3MzMzMzBRAmpmZmZmZEUCamZmZmZkRQArXo3A9Cg9ASOF6FK5HCUDD9Shcj8IFQFK4HoXrUQBA9ihcj8L1+D8K16NwPQr3P3E9CtejcO0/CtejcD0K5z+amZmZmZnZPw==",
           "dtype": "f8"
          }
         },
         "mode": "markers",
         "name": "Other",
         "text": [
          "modals",
          "reliability",
          "cars",
          "making",
          "energa",
          "mobile",
          "competences",
          "breastfeeding",
          "globalized",
          "antimicrobial",
          "countering",
          "basics",
          "infection",
          "changes",
          "city",
          "enterprise",
          "egyptology",
          "tableau",
          "speak",
          "employees"
         ],
         "type": "scatter",
         "visible": false,
         "x": {
          "bdata": "AAAAAACIE0EAAAAAABcRQQAAAAAAvQ9BAAAAAADbCkEAAAAAgDEHQQAAAAAA+QVBAAAAAIBPAkEAAAAAABcBQQAAAAAAvf9AAAAAAADb+kAAAAAAANv6QAAAAACArvdAAAAAAIBJ80AAAAAAAJrwQAAAAAAA5+hAAAAAAAAL40AAAAAAAJThQAAAAAAAdtZAAAAAAACU0UAAAAAAAIjDQA==",
          "dtype": "f8"
         },
         "y": {
          "bdata": "MzMzMzMzE0AzMzMzMzMTQGZmZmZmZhJAzczMzMzMEkAzMzMzMzMTQM3MzMzMzBJAmpmZmZmZE0AzMzMzMzMTQM3MzMzMzBJAzczMzMzMEkBmZmZmZmYSQDMzMzMzMxNAMzMzMzMzE0DNzMzMzMwSQDMzMzMzMxNAzczMzMzMEkDNzMzMzMwSQM3MzMzMzBJAzczMzMzMEkDNzMzMzMwSQA==",
          "dtype": "f8"
         }
        },
        {
         "customdata": {
          "bdata": "AAAAAAAA8D+LMmO6KFngPwAAAAAAAPA/RFgrKJVk2T8AAAAAAADwPxwzkEWneeI/AAAAAAAA8D+LMmO6KFngPwAAAAAAAPA/WE70yuw+3z8=",
          "dtype": "f8",
          "shape": "5, 2"
         },
         "hovertemplate": "Keyword: %{text}<br>Enrollment: %{x}<br>Rating: %{y}<br>Courses: %{customdata[0]}<br>TF-IDF Score: %{customdata[1]:.2f}<extra></extra>",
         "marker": {
          "color": {
           "bdata": "izJjuihZ4D9EWCsolWTZPxwzkEWneeI/izJjuihZ4D9YTvTK7D7fPw==",
           "dtype": "f8"
          },
          "colorbar": {
           "title": {
            "text": "TF-IDF Score"
           }
          },
          "colorscale": [
           [
            0,
            "#440154"
           ],
           [
            0.1111111111111111,
            "#482878"
           ],
           [
            0.2222222222222222,
            "#3e4989"
           ],
           [
            0.3333333333333333,
            "#31688e"
           ],
           [
            0.4444444444444444,
            "#26828e"
           ],
           [
            0.5555555555555556,
            "#1f9e89"
           ],
           [
            0.6666666666666666,
            "#35b779"
           ],
           [
            0.7777777777777778,
            "#6ece58"
           ],
           [
            0.8888888888888888,
            "#b5de2b"
           ],
           [
            1,
            "#fde725"
           ]
          ],
          "showscale": false,
          "size": {
           "bdata": "mpmZmZmZNUBmZmZmZmYWQGZmZmZmZhZAAAAAAAAAEEDD9Shcj8IFQA==",
           "dtype": "f8"
          }
         },
         "mode": "markers",
         "name": "Arts & Humanities",
         "text": [
          "knows",
          "autocad",
          "legal",
          "ancient",
          "course"
         ],
         "type": "scatter",
         "visible": false,
         "x": {
          "bdata": "AAAAAMB6IEEAAAAAABcBQQAAAAAAFwFBAAAAAABq+EAAAAAAAJrwQA==",
          "dtype": "f8"
         },
         "y": {
          "bdata": "zczMzMzMEkBmZmZmZmYSQJqZmZmZmRNAmpmZmZmZE0DNzMzMzMwSQA==",
          "dtype": "f8"
         }
        },
        {
         "customdata": [],
         "hovertemplate": "Keyword: %{text}<br>Enrollment: %{x}<br>Rating: %{y}<br>Courses: %{customdata[0]}<br>TF-IDF Score: %{customdata[1]:.2f}<extra></extra>",
         "marker": {
          "color": [],
          "colorbar": {
           "title": {
            "text": "TF-IDF Score"
           }
          },
          "colorscale": [
           [
            0,
            "#440154"
           ],
           [
            0.1111111111111111,
            "#482878"
           ],
           [
            0.2222222222222222,
            "#3e4989"
           ],
           [
            0.3333333333333333,
            "#31688e"
           ],
           [
            0.4444444444444444,
            "#26828e"
           ],
           [
            0.5555555555555556,
            "#1f9e89"
           ],
           [
            0.6666666666666666,
            "#35b779"
           ],
           [
            0.7777777777777778,
            "#6ece58"
           ],
           [
            0.8888888888888888,
            "#b5de2b"
           ],
           [
            1,
            "#fde725"
           ]
          ],
          "showscale": false,
          "size": []
         },
         "mode": "markers",
         "name": "Mathematics & Logic",
         "text": [],
         "type": "scatter",
         "visible": false,
         "x": [],
         "y": []
        },
        {
         "customdata": [],
         "hovertemplate": "Keyword: %{text}<br>Enrollment: %{x}<br>Rating: %{y}<br>Courses: %{customdata[0]}<br>TF-IDF Score: %{customdata[1]:.2f}<extra></extra>",
         "marker": {
          "color": [],
          "colorbar": {
           "title": {
            "text": "TF-IDF Score"
           }
          },
          "colorscale": [
           [
            0,
            "#440154"
           ],
           [
            0.1111111111111111,
            "#482878"
           ],
           [
            0.2222222222222222,
            "#3e4989"
           ],
           [
            0.3333333333333333,
            "#31688e"
           ],
           [
            0.4444444444444444,
            "#26828e"
           ],
           [
            0.5555555555555556,
            "#1f9e89"
           ],
           [
            0.6666666666666666,
            "#35b779"
           ],
           [
            0.7777777777777778,
            "#6ece58"
           ],
           [
            0.8888888888888888,
            "#b5de2b"
           ],
           [
            1,
            "#fde725"
           ]
          ],
          "showscale": false,
          "size": []
         },
         "mode": "markers",
         "name": "Social Sciences",
         "text": [],
         "type": "scatter",
         "visible": false,
         "x": [],
         "y": []
        }
       ],
       "layout": {
        "height": 550,
        "template": {
         "data": {
          "bar": [
           {
            "error_x": {
             "color": "#2a3f5f"
            },
            "error_y": {
             "color": "#2a3f5f"
            },
            "marker": {
             "line": {
              "color": "white",
              "width": 0.5
             },
             "pattern": {
              "fillmode": "overlay",
              "size": 10,
              "solidity": 0.2
             }
            },
            "type": "bar"
           }
          ],
          "barpolar": [
           {
            "marker": {
             "line": {
              "color": "white",
              "width": 0.5
             },
             "pattern": {
              "fillmode": "overlay",
              "size": 10,
              "solidity": 0.2
             }
            },
            "type": "barpolar"
           }
          ],
          "carpet": [
           {
            "aaxis": {
             "endlinecolor": "#2a3f5f",
             "gridcolor": "#C8D4E3",
             "linecolor": "#C8D4E3",
             "minorgridcolor": "#C8D4E3",
             "startlinecolor": "#2a3f5f"
            },
            "baxis": {
             "endlinecolor": "#2a3f5f",
             "gridcolor": "#C8D4E3",
             "linecolor": "#C8D4E3",
             "minorgridcolor": "#C8D4E3",
             "startlinecolor": "#2a3f5f"
            },
            "type": "carpet"
           }
          ],
          "choropleth": [
           {
            "colorbar": {
             "outlinewidth": 0,
             "ticks": ""
            },
            "type": "choropleth"
           }
          ],
          "contour": [
           {
            "colorbar": {
             "outlinewidth": 0,
             "ticks": ""
            },
            "colorscale": [
             [
              0,
              "#0d0887"
             ],
             [
              0.1111111111111111,
              "#46039f"
             ],
             [
              0.2222222222222222,
              "#7201a8"
             ],
             [
              0.3333333333333333,
              "#9c179e"
             ],
             [
              0.4444444444444444,
              "#bd3786"
             ],
             [
              0.5555555555555556,
              "#d8576b"
             ],
             [
              0.6666666666666666,
              "#ed7953"
             ],
             [
              0.7777777777777778,
              "#fb9f3a"
             ],
             [
              0.8888888888888888,
              "#fdca26"
             ],
             [
              1,
              "#f0f921"
             ]
            ],
            "type": "contour"
           }
          ],
          "contourcarpet": [
           {
            "colorbar": {
             "outlinewidth": 0,
             "ticks": ""
            },
            "type": "contourcarpet"
           }
          ],
          "heatmap": [
           {
            "colorbar": {
             "outlinewidth": 0,
             "ticks": ""
            },
            "colorscale": [
             [
              0,
              "#0d0887"
             ],
             [
              0.1111111111111111,
              "#46039f"
             ],
             [
              0.2222222222222222,
              "#7201a8"
             ],
             [
              0.3333333333333333,
              "#9c179e"
             ],
             [
              0.4444444444444444,
              "#bd3786"
             ],
             [
              0.5555555555555556,
              "#d8576b"
             ],
             [
              0.6666666666666666,
              "#ed7953"
             ],
             [
              0.7777777777777778,
              "#fb9f3a"
             ],
             [
              0.8888888888888888,
              "#fdca26"
             ],
             [
              1,
              "#f0f921"
             ]
            ],
            "type": "heatmap"
           }
          ],
          "histogram": [
           {
            "marker": {
             "pattern": {
              "fillmode": "overlay",
              "size": 10,
              "solidity": 0.2
             }
            },
            "type": "histogram"
           }
          ],
          "histogram2d": [
           {
            "colorbar": {
             "outlinewidth": 0,
             "ticks": ""
            },
            "colorscale": [
             [
              0,
              "#0d0887"
             ],
             [
              0.1111111111111111,
              "#46039f"
             ],
             [
              0.2222222222222222,
              "#7201a8"
             ],
             [
              0.3333333333333333,
              "#9c179e"
             ],
             [
              0.4444444444444444,
              "#bd3786"
             ],
             [
              0.5555555555555556,
              "#d8576b"
             ],
             [
              0.6666666666666666,
              "#ed7953"
             ],
             [
              0.7777777777777778,
              "#fb9f3a"
             ],
             [
              0.8888888888888888,
              "#fdca26"
             ],
             [
              1,
              "#f0f921"
             ]
            ],
            "type": "histogram2d"
           }
          ],
          "histogram2dcontour": [
           {
            "colorbar": {
             "outlinewidth": 0,
             "ticks": ""
            },
            "colorscale": [
             [
              0,
              "#0d0887"
             ],
             [
              0.1111111111111111,
              "#46039f"
             ],
             [
              0.2222222222222222,
              "#7201a8"
             ],
             [
              0.3333333333333333,
              "#9c179e"
             ],
             [
              0.4444444444444444,
              "#bd3786"
             ],
             [
              0.5555555555555556,
              "#d8576b"
             ],
             [
              0.6666666666666666,
              "#ed7953"
             ],
             [
              0.7777777777777778,
              "#fb9f3a"
             ],
             [
              0.8888888888888888,
              "#fdca26"
             ],
             [
              1,
              "#f0f921"
             ]
            ],
            "type": "histogram2dcontour"
           }
          ],
          "mesh3d": [
           {
            "colorbar": {
             "outlinewidth": 0,
             "ticks": ""
            },
            "type": "mesh3d"
           }
          ],
          "parcoords": [
           {
            "line": {
             "colorbar": {
              "outlinewidth": 0,
              "ticks": ""
             }
            },
            "type": "parcoords"
           }
          ],
          "pie": [
           {
            "automargin": true,
            "type": "pie"
           }
          ],
          "scatter": [
           {
            "fillpattern": {
             "fillmode": "overlay",
             "size": 10,
             "solidity": 0.2
            },
            "type": "scatter"
           }
          ],
          "scatter3d": [
           {
            "line": {
             "colorbar": {
              "outlinewidth": 0,
              "ticks": ""
             }
            },
            "marker": {
             "colorbar": {
              "outlinewidth": 0,
              "ticks": ""
             }
            },
            "type": "scatter3d"
           }
          ],
          "scattercarpet": [
           {
            "marker": {
             "colorbar": {
              "outlinewidth": 0,
              "ticks": ""
             }
            },
            "type": "scattercarpet"
           }
          ],
          "scattergeo": [
           {
            "marker": {
             "colorbar": {
              "outlinewidth": 0,
              "ticks": ""
             }
            },
            "type": "scattergeo"
           }
          ],
          "scattergl": [
           {
            "marker": {
             "colorbar": {
              "outlinewidth": 0,
              "ticks": ""
             }
            },
            "type": "scattergl"
           }
          ],
          "scattermap": [
           {
            "marker": {
             "colorbar": {
              "outlinewidth": 0,
              "ticks": ""
             }
            },
            "type": "scattermap"
           }
          ],
          "scattermapbox": [
           {
            "marker": {
             "colorbar": {
              "outlinewidth": 0,
              "ticks": ""
             }
            },
            "type": "scattermapbox"
           }
          ],
          "scatterpolar": [
           {
            "marker": {
             "colorbar": {
              "outlinewidth": 0,
              "ticks": ""
             }
            },
            "type": "scatterpolar"
           }
          ],
          "scatterpolargl": [
           {
            "marker": {
             "colorbar": {
              "outlinewidth": 0,
              "ticks": ""
             }
            },
            "type": "scatterpolargl"
           }
          ],
          "scatterternary": [
           {
            "marker": {
             "colorbar": {
              "outlinewidth": 0,
              "ticks": ""
             }
            },
            "type": "scatterternary"
           }
          ],
          "surface": [
           {
            "colorbar": {
             "outlinewidth": 0,
             "ticks": ""
            },
            "colorscale": [
             [
              0,
              "#0d0887"
             ],
             [
              0.1111111111111111,
              "#46039f"
             ],
             [
              0.2222222222222222,
              "#7201a8"
             ],
             [
              0.3333333333333333,
              "#9c179e"
             ],
             [
              0.4444444444444444,
              "#bd3786"
             ],
             [
              0.5555555555555556,
              "#d8576b"
             ],
             [
              0.6666666666666666,
              "#ed7953"
             ],
             [
              0.7777777777777778,
              "#fb9f3a"
             ],
             [
              0.8888888888888888,
              "#fdca26"
             ],
             [
              1,
              "#f0f921"
             ]
            ],
            "type": "surface"
           }
          ],
          "table": [
           {
            "cells": {
             "fill": {
              "color": "#EBF0F8"
             },
             "line": {
              "color": "white"
             }
            },
            "header": {
             "fill": {
              "color": "#C8D4E3"
             },
             "line": {
              "color": "white"
             }
            },
            "type": "table"
           }
          ]
         },
         "layout": {
          "annotationdefaults": {
           "arrowcolor": "#2a3f5f",
           "arrowhead": 0,
           "arrowwidth": 1
          },
          "autotypenumbers": "strict",
          "coloraxis": {
           "colorbar": {
            "outlinewidth": 0,
            "ticks": ""
           }
          },
          "colorscale": {
           "diverging": [
            [
             0,
             "#8e0152"
            ],
            [
             0.1,
             "#c51b7d"
            ],
            [
             0.2,
             "#de77ae"
            ],
            [
             0.3,
             "#f1b6da"
            ],
            [
             0.4,
             "#fde0ef"
            ],
            [
             0.5,
             "#f7f7f7"
            ],
            [
             0.6,
             "#e6f5d0"
            ],
            [
             0.7,
             "#b8e186"
            ],
            [
             0.8,
             "#7fbc41"
            ],
            [
             0.9,
             "#4d9221"
            ],
            [
             1,
             "#276419"
            ]
           ],
           "sequential": [
            [
             0,
             "#0d0887"
            ],
            [
             0.1111111111111111,
             "#46039f"
            ],
            [
             0.2222222222222222,
             "#7201a8"
            ],
            [
             0.3333333333333333,
             "#9c179e"
            ],
            [
             0.4444444444444444,
             "#bd3786"
            ],
            [
             0.5555555555555556,
             "#d8576b"
            ],
            [
             0.6666666666666666,
             "#ed7953"
            ],
            [
             0.7777777777777778,
             "#fb9f3a"
            ],
            [
             0.8888888888888888,
             "#fdca26"
            ],
            [
             1,
             "#f0f921"
            ]
           ],
           "sequentialminus": [
            [
             0,
             "#0d0887"
            ],
            [
             0.1111111111111111,
             "#46039f"
            ],
            [
             0.2222222222222222,
             "#7201a8"
            ],
            [
             0.3333333333333333,
             "#9c179e"
            ],
            [
             0.4444444444444444,
             "#bd3786"
            ],
            [
             0.5555555555555556,
             "#d8576b"
            ],
            [
             0.6666666666666666,
             "#ed7953"
            ],
            [
             0.7777777777777778,
             "#fb9f3a"
            ],
            [
             0.8888888888888888,
             "#fdca26"
            ],
            [
             1,
             "#f0f921"
            ]
           ]
          },
          "colorway": [
           "#636efa",
           "#EF553B",
           "#00cc96",
           "#ab63fa",
           "#FFA15A",
           "#19d3f3",
           "#FF6692",
           "#B6E880",
           "#FF97FF",
           "#FECB52"
          ],
          "font": {
           "color": "#2a3f5f"
          },
          "geo": {
           "bgcolor": "white",
           "lakecolor": "white",
           "landcolor": "white",
           "showlakes": true,
           "showland": true,
           "subunitcolor": "#C8D4E3"
          },
          "hoverlabel": {
           "align": "left"
          },
          "hovermode": "closest",
          "mapbox": {
           "style": "light"
          },
          "paper_bgcolor": "white",
          "plot_bgcolor": "white",
          "polar": {
           "angularaxis": {
            "gridcolor": "#EBF0F8",
            "linecolor": "#EBF0F8",
            "ticks": ""
           },
           "bgcolor": "white",
           "radialaxis": {
            "gridcolor": "#EBF0F8",
            "linecolor": "#EBF0F8",
            "ticks": ""
           }
          },
          "scene": {
           "xaxis": {
            "backgroundcolor": "white",
            "gridcolor": "#DFE8F3",
            "gridwidth": 2,
            "linecolor": "#EBF0F8",
            "showbackground": true,
            "ticks": "",
            "zerolinecolor": "#EBF0F8"
           },
           "yaxis": {
            "backgroundcolor": "white",
            "gridcolor": "#DFE8F3",
            "gridwidth": 2,
            "linecolor": "#EBF0F8",
            "showbackground": true,
            "ticks": "",
            "zerolinecolor": "#EBF0F8"
           },
           "zaxis": {
            "backgroundcolor": "white",
            "gridcolor": "#DFE8F3",
            "gridwidth": 2,
            "linecolor": "#EBF0F8",
            "showbackground": true,
            "ticks": "",
            "zerolinecolor": "#EBF0F8"
           }
          },
          "shapedefaults": {
           "line": {
            "color": "#2a3f5f"
           }
          },
          "ternary": {
           "aaxis": {
            "gridcolor": "#DFE8F3",
            "linecolor": "#A2B1C6",
            "ticks": ""
           },
           "baxis": {
            "gridcolor": "#DFE8F3",
            "linecolor": "#A2B1C6",
            "ticks": ""
           },
           "bgcolor": "white",
           "caxis": {
            "gridcolor": "#DFE8F3",
            "linecolor": "#A2B1C6",
            "ticks": ""
           }
          },
          "title": {
           "x": 0.05
          },
          "xaxis": {
           "automargin": true,
           "gridcolor": "#EBF0F8",
           "linecolor": "#EBF0F8",
           "ticks": "",
           "title": {
            "standoff": 15
           },
           "zerolinecolor": "#EBF0F8",
           "zerolinewidth": 2
          },
          "yaxis": {
           "automargin": true,
           "gridcolor": "#EBF0F8",
           "linecolor": "#EBF0F8",
           "ticks": "",
           "title": {
            "standoff": 15
           },
           "zerolinecolor": "#EBF0F8",
           "zerolinewidth": 2
          }
         }
        },
        "title": {
         "text": "Top TF-IDF Keywords for Category: Data Science & Analytics"
        },
        "updatemenus": [
         {
          "buttons": [
           {
            "args": [
             {
              "visible": [
               true,
               false,
               false,
               false,
               false,
               false,
               false,
               false,
               false,
               false
              ]
             },
             {
              "title": "Top TF-IDF Keywords for Category: Data Science & Analytics"
             }
            ],
            "label": "Data Science & Analytics",
            "method": "update"
           },
           {
            "args": [
             {
              "visible": [
               false,
               true,
               false,
               false,
               false,
               false,
               false,
               false,
               false,
               false
              ]
             },
             {
              "title": "Top TF-IDF Keywords for Category: Health & Medicine"
             }
            ],
            "label": "Health & Medicine",
            "method": "update"
           },
           {
            "args": [
             {
              "visible": [
               false,
               false,
               true,
               false,
               false,
               false,
               false,
               false,
               false,
               false
              ]
             },
             {
              "title": "Top TF-IDF Keywords for Category: Programming & Software Dev"
             }
            ],
            "label": "Programming & Software Dev",
            "method": "update"
           },
           {
            "args": [
             {
              "visible": [
               false,
               false,
               false,
               true,
               false,
               false,
               false,
               false,
               false,
               false
              ]
             },
             {
              "title": "Top TF-IDF Keywords for Category: Cloud Computing & IT"
             }
            ],
            "label": "Cloud Computing & IT",
            "method": "update"
           },
           {
            "args": [
             {
              "visible": [
               false,
               false,
               false,
               false,
               true,
               false,
               false,
               false,
               false,
               false
              ]
             },
             {
              "title": "Top TF-IDF Keywords for Category: Business & Marketing"
             }
            ],
            "label": "Business & Marketing",
            "method": "update"
           },
           {
            "args": [
             {
              "visible": [
               false,
               false,
               false,
               false,
               false,
               true,
               false,
               false,
               false,
               false
              ]
             },
             {
              "title": "Top TF-IDF Keywords for Category: Personal Development"
             }
            ],
            "label": "Personal Development",
            "method": "update"
           },
           {
            "args": [
             {
              "visible": [
               false,
               false,
               false,
               false,
               false,
               false,
               true,
               false,
               false,
               false
              ]
             },
             {
              "title": "Top TF-IDF Keywords for Category: Other"
             }
            ],
            "label": "Other",
            "method": "update"
           },
           {
            "args": [
             {
              "visible": [
               false,
               false,
               false,
               false,
               false,
               false,
               false,
               true,
               false,
               false
              ]
             },
             {
              "title": "Top TF-IDF Keywords for Category: Arts & Humanities"
             }
            ],
            "label": "Arts & Humanities",
            "method": "update"
           },
           {
            "args": [
             {
              "visible": [
               false,
               false,
               false,
               false,
               false,
               false,
               false,
               false,
               true,
               false
              ]
             },
             {
              "title": "Top TF-IDF Keywords for Category: Mathematics & Logic"
             }
            ],
            "label": "Mathematics & Logic",
            "method": "update"
           },
           {
            "args": [
             {
              "visible": [
               false,
               false,
               false,
               false,
               false,
               false,
               false,
               false,
               false,
               true
              ]
             },
             {
              "title": "Top TF-IDF Keywords for Category: Social Sciences"
             }
            ],
            "label": "Social Sciences",
            "method": "update"
           }
          ],
          "direction": "down",
          "showactive": true,
          "x": 0.98,
          "xanchor": "right",
          "y": 1.15,
          "yanchor": "top"
         }
        ],
        "width": 950,
        "xaxis": {
         "title": {
          "text": "Average Enrollment"
         }
        },
        "yaxis": {
         "title": {
          "text": "Average Rating"
         }
        }
       }
      },
      "image/png": "[encoded data removed]"
     },
     "metadata": {},
     "output_type": "display_data"
    }
   ],
   "source": [
    "# Create scatter traces for each category\n",
    "fig = go.Figure()\n",
    "\n",
    "for i, data in enumerate(category_figures):\n",
    "    visible = True if i == 0 else False\n",
    "    fig.add_trace(go.Scatter(\n",
    "        x=data[\"Average_Enrollment\"],\n",
    "        y=data[\"Average_Rating\"],\n",
    "        mode='markers',\n",
    "        marker=dict(\n",
    "            size=data[\"Average_Enrollment\"] / 25000,\n",
    "            color=data[\"Total_TFIDF_Score\"],\n",
    "            colorscale='Viridis',\n",
    "            showscale=(i == 0),\n",
    "            colorbar=dict(title=\"TF-IDF Score\")\n",
    "        ),\n",
    "        text=data[\"top_keyword\"],\n",
    "        customdata=data[[\"Course_Count\", \"Total_TFIDF_Score\"]],\n",
    "        hovertemplate=(\n",
    "            \"Keyword: %{text}<br>\" +\n",
    "            \"Enrollment: %{x}<br>\" +\n",
    "            \"Rating: %{y}<br>\" +\n",
    "            \"Courses: %{customdata[0]}<br>\" +\n",
    "            \"TF-IDF Score: %{customdata[1]:.2f}<extra></extra>\"\n",
    "        ),\n",
    "        name=categories[i],\n",
    "        visible=visible\n",
    "    ))\n",
    "\n",
    "dropdown_buttons = [\n",
    "    dict(label=cat,\n",
    "         method=\"update\",\n",
    "         args=[{\"visible\": [i == j for j in range(len(categories))]},\n",
    "               {\"title\": f\"Top TF-IDF Keywords for Category: {cat}\"}])\n",
    "    for i, cat in enumerate(categories)\n",
    "]\n",
    "\n",
    "fig.update_layout(\n",
    "    title=f\"Top TF-IDF Keywords for Category: {categories[0]}\",\n",
    "    xaxis_title=\"Average Enrollment\",\n",
    "    yaxis_title=\"Average Rating\",\n",
    "    width=950,\n",
    "    height=550,\n",
    "    template=\"plotly_white\",\n",
    "    updatemenus=[{\n",
    "        \"buttons\": dropdown_buttons,\n",
    "        \"direction\": \"down\",\n",
    "        \"showactive\": True,\n",
    "        \"x\": 0.98,\n",
    "        \"xanchor\": \"right\",\n",
    "        \"y\": 1.15,\n",
    "        \"yanchor\": \"top\"\n",
    "    }]\n",
    ")\n",
    "\n",
    "fig.show()"
   ]
  },
  {
   "cell_type": "markdown",
   "id": "767075a8-982c-46a5-9392-7a23fbeebb14",
   "metadata": {},
   "source": [
    "#### Observations\n",
    "\n",
    "Keywords with higher TF-IDF scores are more distinctive within their categories and can significantly drive learner engagement. The following keywords stand out due to their uniqueness and high enrollment:\n",
    "\n",
    "- **\"science\"** - The most distinctive keyword in *Data Science & Analytics* and across all categories, with the highest average enrollment of **3.2M**.\n",
    "- **\"introduction\"** - in *Health & Medicine* with 2.5M.\n",
    "- **\"engineering\"** - in *Programming & Software Development* with 1.5M.\n",
    "- **\"security\"** - in *Cloud Computing & IT* with 350k.\n",
    "- **\"strategy**\" - in *Business & Marketing* with 200k."
   ]
  },
  {
   "cell_type": "markdown",
   "id": "f41a7c80-d5a3-4aa5-9f21-8a7ed50d8dba",
   "metadata": {},
   "source": [
    "---"
   ]
  },
  {
   "cell_type": "markdown",
   "id": "a3c5feb7-077d-4752-b0c7-e423d2da5667",
   "metadata": {},
   "source": [
    "## 4. Correlation Analysis"
   ]
  },
  {
   "cell_type": "markdown",
   "id": "f79b89a3-c736-44b7-b5bf-bddc9bcc6add",
   "metadata": {},
   "source": [
    "Correlation between ***'rating'*** and ***'students_enrolled'***"
   ]
  },
  {
   "cell_type": "code",
   "execution_count": 67,
   "id": "f31e584c-e912-492c-94e4-348f8eff709d",
   "metadata": {},
   "outputs": [
    {
     "name": "stdout",
     "output_type": "stream",
     "text": [
      "                    rating  students_enrolled\n",
      "rating             1.00000            0.07109\n",
      "students_enrolled  0.07109            1.00000\n"
     ]
    }
   ],
   "source": [
    "print(df_coursera[[\"rating\", \"students_enrolled\"]].corr())"
   ]
  },
  {
   "cell_type": "code",
   "execution_count": 68,
   "id": "0b5fdd73-e727-4162-a4e1-aa6ed9c7e3ad",
   "metadata": {},
   "outputs": [
    {
     "data": {
      "image/png": "[encoded data removed]",
      "text/plain": [
       "<Figure size 800x400 with 1 Axes>"
      ]
     },
     "metadata": {},
     "output_type": "display_data"
    }
   ],
   "source": [
    "# Plot Scatterplot\n",
    "plt.figure(figsize=(8, 4))\n",
    "sns.scatterplot(data=df_coursera, x=\"rating\", y=\"students_enrolled\", alpha=0.6)\n",
    "plt.title(\"Rating vs. Students Enrolled\")\n",
    "plt.xlabel(\"Rating\")\n",
    "plt.ylabel(\"Students\")\n",
    "plt.show()"
   ]
  },
  {
   "cell_type": "markdown",
   "id": "4f6b5075-88bb-466e-8bf8-7edc4ae3043f",
   "metadata": {},
   "source": [
    "#### Insights\n",
    "\n",
    "- The correlation coefficient between *'rating'* and *'students_enrolled'* is very low (0.071), suggesting no meaningful linear relationship between a course's rating and the number of students it enrolls.\n",
    "- **High ratings don't guarantee high enrollment**, and moderate ratings can still attract many students."
   ]
  },
  {
   "cell_type": "markdown",
   "id": "c3af1718-d78f-482a-afb4-acc444be5260",
   "metadata": {},
   "source": [
    "---"
   ]
  },
  {
   "cell_type": "markdown",
   "id": "146f97a8-0614-499f-bda5-0e026a9956d7",
   "metadata": {},
   "source": [
    "## 5. Statistical Test"
   ]
  },
  {
   "cell_type": "markdown",
   "id": "17e9f621-641e-4e88-b3fb-551670c7b5e1",
   "metadata": {},
   "source": [
    "Is There a Difference in Average Ratings Across Difficulty Levels?"
   ]
  },
  {
   "cell_type": "markdown",
   "id": "c728a1d6-6130-4e0b-a8ca-4b1d419b5ec1",
   "metadata": {},
   "source": [
    "#### 5.1. Distribution of Course Ratings for each Difficulty level "
   ]
  },
  {
   "cell_type": "code",
   "execution_count": 69,
   "id": "f75a1f16-a89d-43a6-be0d-fffd33317800",
   "metadata": {},
   "outputs": [],
   "source": [
    "difficulty_levels = df_coursera[\"difficulty\"].unique()"
   ]
  },
  {
   "cell_type": "code",
   "execution_count": 70,
   "id": "04f77dbe-5fae-4ecf-af22-1b4c1052d48d",
   "metadata": {},
   "outputs": [
    {
     "data": {
      "image/png": "[encoded data removed]",
      "text/plain": [
       "<Figure size 1400x1200 with 8 Axes>"
      ]
     },
     "metadata": {},
     "output_type": "display_data"
    }
   ],
   "source": [
    "fig_overall, axes_overall = plt.subplots(\n",
    "    len(difficulty_levels), 2, figsize=(14, 3 * len(difficulty_levels))\n",
    ")\n",
    "fig_overall.suptitle(\n",
    "    \"Distribution of Ratings for Difficulty Levels\", fontsize=16, y=1.02\n",
    ")\n",
    "\n",
    "for i, level in enumerate(difficulty_levels):\n",
    "    ratings_for_level = df_coursera[df_coursera[\"difficulty\"] == level][\"rating\"]\n",
    "\n",
    "    # Plot Histogram\n",
    "    sns.histplot(ratings_for_level, kde=True, ax=axes_overall[i, 0])\n",
    "    axes_overall[i, 0].set_xlabel(\"Rating\")\n",
    "    axes_overall[i, 0].set_ylabel(\"Frequency\")\n",
    "\n",
    "    # Plot Q-Q Plot\n",
    "    sm.qqplot(ratings_for_level, line=\"s\", ax=axes_overall[i, 1])\n",
    "    axes_overall[i, 1].set_ylabel(\"Sample Quantiles\")\n",
    "    axes_overall[i, 1].set_xlabel(\"Theoretical Quantiles\")\n",
    "\n",
    "    if i == 0:\n",
    "        axes_overall[i, 0].set_title(\"Histogram with KDE\")\n",
    "        axes_overall[i, 1].set_title(\"Q-Q Plot\")\n",
    "    else:\n",
    "        axes_overall[i, 0].set_title(\"\")\n",
    "        axes_overall[i, 1].set_title(\"\")\n",
    "\n",
    "    axes_overall[i, 0].text(\n",
    "        1.1,\n",
    "        1.25,\n",
    "        f\"{level}\",\n",
    "        transform=axes_overall[i, 0].transAxes,\n",
    "        fontsize=14,\n",
    "        ha=\"center\",\n",
    "        va=\"center\",\n",
    "    )\n",
    "\n",
    "\n",
    "plt.tight_layout(rect=[0, 0.03, 1, 1])\n",
    "plt.subplots_adjust(wspace=0.2, hspace=0.7)\n",
    "plt.show()"
   ]
  },
  {
   "cell_type": "markdown",
   "id": "70378da7-b8c8-4b3b-9839-58eda9068021",
   "metadata": {},
   "source": [
    "#### Insights\n",
    "\n",
    "- **Q-Q Plots Indicate Deviations from Normality**: While the Q-Q plots show a general linear trend, there are clear deviations, especially at the tails.\n",
    "- This indicates that the rating distributions are likely not perfectly normal. There's often a \"heavier tail\" on the lower end, meaning more lower ratings than a normal distribution would predict, and potentially a \"lighter tail\" on the higher end."
   ]
  },
  {
   "cell_type": "markdown",
   "id": "bafdce6c-d9e9-4eb8-bfa3-a51899e16393",
   "metadata": {},
   "source": [
    "#### 5.1. Shapiro-Wilk Normality Test"
   ]
  },
  {
   "cell_type": "markdown",
   "id": "320181f8-10ae-4acd-83a0-cd64267a75d4",
   "metadata": {},
   "source": [
    "- Null Hypothesis **(H0): The data is normally distributed.**\n",
    "- Alternative Hypothesis **(H1): The data is NOT normally distributed.**"
   ]
  },
  {
   "cell_type": "code",
   "execution_count": 71,
   "id": "dc335524-cac9-454d-99a8-613062248dee",
   "metadata": {},
   "outputs": [
    {
     "name": "stdout",
     "output_type": "stream",
     "text": [
      "Difficulty: Beginner\n",
      "  Shapiro-Wilk Test Statistic: 0.916\n",
      "  P-value: 0.000000000000000737\n",
      "  Result: Reject H0, ratings for this difficulty level do NOT appear normally distributed.\n",
      "------------------------------\n",
      "Difficulty: Mixed\n",
      "  Shapiro-Wilk Test Statistic: 0.702\n",
      "  P-value: 0.000000000000000005\n",
      "  Result: Reject H0, ratings for this difficulty level do NOT appear normally distributed.\n",
      "------------------------------\n",
      "Difficulty: Intermediate\n",
      "  Shapiro-Wilk Test Statistic: 0.846\n",
      "  P-value: 0.000000000000340356\n",
      "  Result: Reject H0, ratings for this difficulty level do NOT appear normally distributed.\n",
      "------------------------------\n",
      "Difficulty: Advanced\n",
      "  Shapiro-Wilk Test Statistic: 0.928\n",
      "  P-value: 0.161646033344948092\n",
      "  Result: Fail to reject H0, ratings for this difficulty level appear normally distributed.\n",
      "------------------------------\n"
     ]
    }
   ],
   "source": [
    "normality_results = {}\n",
    "\n",
    "for level in difficulty_levels:\n",
    "    ratings_for_level = df_coursera[df_coursera[\"difficulty\"] == level][\"rating\"]\n",
    "\n",
    "    if len(ratings_for_level) >= 3:\n",
    "        stat, p = stats.shapiro(ratings_for_level)\n",
    "        normality_results[level] = {\n",
    "            \"Statistic\": stat,\n",
    "            \"P-value\": p,\n",
    "            \"Count\": len(ratings_for_level),\n",
    "        }\n",
    "        print(f\"Difficulty: {level}\")\n",
    "        print(f\"  Shapiro-Wilk Test Statistic: {stat:.3f}\")\n",
    "        print(f\"  P-value: {p:.18f}\")\n",
    "        if p > 0.01:\n",
    "            print(\"  Result: Fail to reject H0, ratings for this difficulty level appear normally distributed.\")\n",
    "        else:\n",
    "            print(\"  Result: Reject H0, ratings for this difficulty level do NOT appear normally distributed.\")\n",
    "        print(\"-\" * 30)"
   ]
  },
  {
   "cell_type": "markdown",
   "id": "51a366c0-12c4-4f7f-8816-13eb31e6e3a1",
   "metadata": {},
   "source": [
    "#### Insight\n",
    "\n",
    "- While visually these distributions appear quite close to normal, Shapiro-Wilk tests concluded that these **distributions are not statistically normal**."
   ]
  },
  {
   "cell_type": "markdown",
   "id": "375828e3-9567-432b-b88a-fc15a393f125",
   "metadata": {},
   "source": [
    "---"
   ]
  },
  {
   "cell_type": "markdown",
   "id": "733d4818-c82b-40d8-8a50-ab240aec377e",
   "metadata": {},
   "source": [
    "#### 5.2. Kruskal-Wallis H-Test"
   ]
  },
  {
   "cell_type": "markdown",
   "id": "271aceb0-6579-4471-87fe-fc2b1edd122b",
   "metadata": {},
   "source": [
    "- Decision is to use a non-parametric Kruskal-Wallis Test due to its independence from normality assumptions and effectiveness with diverse distributions and unequal group sizes.\n",
    "- ***'Advanced'*** difficulty was **excluded** (due to insufficient sample size  (19) for reliable statistical comparison)."
   ]
  },
  {
   "cell_type": "markdown",
   "id": "241e3536-be10-462e-a76f-72f6b84c7b36",
   "metadata": {},
   "source": [
    "For the Kruskal-Wallis H-Test on **Rating by Difficulty, the hypotheses**:\n",
    "- Null Hypothesis **(H0): There is no statistically significant difference in the median ratings** across the different course difficulty levels (Beginner, Intermediate, Mixed).\n",
    "- Alternative Hypothesis **(H1): There is a statistically significant difference in the median ratings** among at least one pair of course difficulty levels."
   ]
  },
  {
   "cell_type": "code",
   "execution_count": 72,
   "id": "5e5e263d-1331-436a-acb4-10efc18c89e0",
   "metadata": {},
   "outputs": [],
   "source": [
    "# Separate the 'rating' data for each specified difficulty level.\n",
    "beginner_ratings = df_coursera[df_coursera[\"difficulty\"] == \"Beginner\"][\"rating\"].values\n",
    "intermediate_ratings = df_coursera[df_coursera[\"difficulty\"] == \"Intermediate\"][\"rating\"].values\n",
    "mixed_ratings = df_coursera[df_coursera[\"difficulty\"] == \"Mixed\"][\"rating\"].values\n",
    "\n",
    "groups_for_kruskal = [\n",
    "    beginner_ratings,\n",
    "    intermediate_ratings,\n",
    "    mixed_ratings\n",
    "]"
   ]
  },
  {
   "cell_type": "code",
   "execution_count": 73,
   "id": "fff64ae9-17d8-4517-b06a-beac7fc7d85e",
   "metadata": {},
   "outputs": [
    {
     "name": "stdout",
     "output_type": "stream",
     "text": [
      "--- Kruskal-Wallis H-Test Results for Rating by Difficulty ---\n",
      "H-statistic: 18.472\n",
      "P-value: 0.000097\n",
      "\n",
      "Result: Reject the null hypothesis.\n",
      "There is a statistically significant difference in the median ratings across at least one pair of difficulty levels.\n"
     ]
    }
   ],
   "source": [
    "# Perform the Kruskal-Wallis H-test\n",
    "h_statistic, p_value = stats.kruskal(*groups_for_kruskal)\n",
    "\n",
    "print(f\"--- Kruskal-Wallis H-Test Results for Rating by Difficulty ---\")\n",
    "print(f\"H-statistic: {h_statistic:.3f}\")\n",
    "print(f\"P-value: {p_value:.6f}\")\n",
    "\n",
    "# Interpret the results\n",
    "if p_value < 0.01:\n",
    "    print(\"\\nResult: Reject the null hypothesis.\")\n",
    "    print(\"There is a statistically significant difference in the median ratings across at least one pair of difficulty levels.\")\n",
    "else:\n",
    "    print(\"\\nResult: Fail to reject the null hypothesis.\")\n",
    "    print(\"There is no statistically significant difference in the median ratings across the difficulty levels.\")"
   ]
  },
  {
   "cell_type": "markdown",
   "id": "b478b686-4a61-4c55-89f1-c25979c78e47",
   "metadata": {},
   "source": [
    "- Since Kruskal-Wallis test (with p-value=0.01) is **statistically significant**, next step is to perform post-hoc test to identify which specific pairs of difficulty levels have significantly different median ratings."
   ]
  },
  {
   "cell_type": "markdown",
   "id": "8bfd8a52-c08e-40a8-aa6a-b4e5ea1dfb27",
   "metadata": {},
   "source": [
    "---"
   ]
  },
  {
   "cell_type": "markdown",
   "id": "43d84e1f-001b-4318-b9e1-9c00dc6117b6",
   "metadata": {},
   "source": [
    "#### 5.3. All Pairwise Mann-Whitney U Tests"
   ]
  },
  {
   "cell_type": "markdown",
   "id": "7d275f9c-cd59-499b-949b-36707e4ba848",
   "metadata": {},
   "source": [
    "- The Pairwise Mann-Whitney U Test is used to identify specific pairs of difficulty levels that have significantly different median ratings.\n",
    "- It doesn't assume that data is normally distributed, nor does it require equal variances between groups.\n",
    "- It performs individual comparisons between every possible pair of groups."
   ]
  },
  {
   "cell_type": "code",
   "execution_count": 74,
   "id": "8fa233ab-b153-4c31-8bdc-1097eff18b7e",
   "metadata": {},
   "outputs": [],
   "source": [
    "levels = [\"Beginner\", \"Intermediate\", \"Mixed\"]\n",
    "\n",
    "# Organize ratings by selected difficulty levels\n",
    "ratings = {\n",
    "    level: df_coursera[df_coursera[\"difficulty\"] == level][\"rating\"].values\n",
    "    for level in sorted(levels)\n",
    "}"
   ]
  },
  {
   "cell_type": "code",
   "execution_count": 75,
   "id": "65dffc08-5479-4320-b2d1-f2ddacee20ce",
   "metadata": {},
   "outputs": [],
   "source": [
    "# Perform pairwise Mann-Whitney U tests\n",
    "pairwise_results = []\n",
    "for level1, level2 in itertools.combinations(ratings, 2):\n",
    "    data1 = ratings[level1]\n",
    "    data2 = ratings[level2]\n",
    "\n",
    "    stat, p_value = stats.mannwhitneyu(data1, data2, alternative=\"two-sided\")\n",
    "    pairwise_results.append({\n",
    "        \"Group1\": level1,\n",
    "        \"Group2\": level2,\n",
    "        \"MannWhitney_U_Stat\": stat,\n",
    "        \"P_value_unadjusted\": p_value\n",
    "    })\n",
    "\n",
    "pairwise_df = pd.DataFrame(pairwise_results)"
   ]
  },
  {
   "cell_type": "code",
   "execution_count": 76,
   "id": "6f01f472-d823-411c-a2a6-2eebd15e9258",
   "metadata": {},
   "outputs": [
    {
     "name": "stdout",
     "output_type": "stream",
     "text": [
      "--- Unadjusted Pairwise Mann-Whitney U Test Results ---\n"
     ]
    },
    {
     "data": {
      "text/html": [
       "<div>\n",
       "<style scoped>\n",
       "    .dataframe tbody tr th:only-of-type {\n",
       "        vertical-align: middle;\n",
       "    }\n",
       "\n",
       "    .dataframe tbody tr th {\n",
       "        vertical-align: top;\n",
       "    }\n",
       "\n",
       "    .dataframe thead th {\n",
       "        text-align: right;\n",
       "    }\n",
       "</style>\n",
       "<table border=\"1\" class=\"dataframe\">\n",
       "  <thead>\n",
       "    <tr style=\"text-align: right;\">\n",
       "      <th></th>\n",
       "      <th>Group1</th>\n",
       "      <th>Group2</th>\n",
       "      <th>MannWhitney_U_Stat</th>\n",
       "      <th>P_value_unadjusted</th>\n",
       "    </tr>\n",
       "  </thead>\n",
       "  <tbody>\n",
       "    <tr>\n",
       "      <th>0</th>\n",
       "      <td>Beginner</td>\n",
       "      <td>Intermediate</td>\n",
       "      <td>52200.5</td>\n",
       "      <td>0.081201</td>\n",
       "    </tr>\n",
       "    <tr>\n",
       "      <th>1</th>\n",
       "      <td>Beginner</td>\n",
       "      <td>Mixed</td>\n",
       "      <td>38199.5</td>\n",
       "      <td>0.000837</td>\n",
       "    </tr>\n",
       "    <tr>\n",
       "      <th>2</th>\n",
       "      <td>Intermediate</td>\n",
       "      <td>Mixed</td>\n",
       "      <td>14147.5</td>\n",
       "      <td>0.000038</td>\n",
       "    </tr>\n",
       "  </tbody>\n",
       "</table>\n",
       "</div>"
      ],
      "text/plain": [
       "         Group1        Group2  MannWhitney_U_Stat  P_value_unadjusted\n",
       "0      Beginner  Intermediate             52200.5            0.081201\n",
       "1      Beginner         Mixed             38199.5            0.000837\n",
       "2  Intermediate         Mixed             14147.5            0.000038"
      ]
     },
     "execution_count": 76,
     "metadata": {},
     "output_type": "execute_result"
    }
   ],
   "source": [
    "print(\"--- Unadjusted Pairwise Mann-Whitney U Test Results ---\")\n",
    "pairwise_df"
   ]
  },
  {
   "cell_type": "markdown",
   "id": "9f72c5da-e5da-45b5-86d2-b62811eda44f",
   "metadata": {},
   "source": [
    "---"
   ]
  },
  {
   "cell_type": "markdown",
   "id": "d693a145-dfdd-42cd-9d1b-f4865cd5865f",
   "metadata": {},
   "source": [
    "#### 5.4. Apply Bonferroni Correction for Multiple Comparisons"
   ]
  },
  {
   "cell_type": "markdown",
   "id": "23d57085-6b34-42d1-a78e-294c88223350",
   "metadata": {},
   "source": [
    "- Performing multiple statistical tests inflates the Type I error rate (false positives).\n",
    "- Bonferroni correction adjusts p-values across these simultaneous tests to control the family-wise error rate, ensuring the overall probability of a false positive remains at the desired significance level (e.g., 0.01)."
   ]
  },
  {
   "cell_type": "code",
   "execution_count": 77,
   "id": "0c3f7a59-9b09-4e80-821c-f0d2e6895932",
   "metadata": {},
   "outputs": [],
   "source": [
    "unadjusted_p_values = pairwise_df[\"P_value_unadjusted\"].tolist()\n",
    "\n",
    "# Apply Bonferroni correction\n",
    "reject_bonf, p_values_bonf_corrected, alpha_bonf_corrected, alpha_bonf_unadjusted = multipletests(\n",
    "    unadjusted_p_values,\n",
    "    alpha=0.01,\n",
    "    method=\"bonferroni\"\n",
    ")\n",
    "\n",
    "pairwise_df[\"P_value_bonferroni_corrected\"] = p_values_bonf_corrected\n",
    "pairwise_df[\"Significant_bonferroni\"] = reject_bonf"
   ]
  },
  {
   "cell_type": "code",
   "execution_count": 78,
   "id": "12348857-6f45-4ab1-8ae1-f40b86f9ca58",
   "metadata": {},
   "outputs": [
    {
     "name": "stdout",
     "output_type": "stream",
     "text": [
      "\n",
      "--- Adjusted Pairwise Mann-Whitney U Test Results (Bonferroni Correction) ---\n"
     ]
    },
    {
     "data": {
      "text/html": [
       "<div>\n",
       "<style scoped>\n",
       "    .dataframe tbody tr th:only-of-type {\n",
       "        vertical-align: middle;\n",
       "    }\n",
       "\n",
       "    .dataframe tbody tr th {\n",
       "        vertical-align: top;\n",
       "    }\n",
       "\n",
       "    .dataframe thead th {\n",
       "        text-align: right;\n",
       "    }\n",
       "</style>\n",
       "<table border=\"1\" class=\"dataframe\">\n",
       "  <thead>\n",
       "    <tr style=\"text-align: right;\">\n",
       "      <th></th>\n",
       "      <th>Group1</th>\n",
       "      <th>Group2</th>\n",
       "      <th>MannWhitney_U_Stat</th>\n",
       "      <th>P_value_unadjusted</th>\n",
       "      <th>P_value_bonferroni_corrected</th>\n",
       "      <th>Significant_bonferroni</th>\n",
       "    </tr>\n",
       "  </thead>\n",
       "  <tbody>\n",
       "    <tr>\n",
       "      <th>0</th>\n",
       "      <td>Beginner</td>\n",
       "      <td>Intermediate</td>\n",
       "      <td>52200.5</td>\n",
       "      <td>0.081201</td>\n",
       "      <td>0.243604</td>\n",
       "      <td>False</td>\n",
       "    </tr>\n",
       "    <tr>\n",
       "      <th>1</th>\n",
       "      <td>Beginner</td>\n",
       "      <td>Mixed</td>\n",
       "      <td>38199.5</td>\n",
       "      <td>0.000837</td>\n",
       "      <td>0.002511</td>\n",
       "      <td>True</td>\n",
       "    </tr>\n",
       "    <tr>\n",
       "      <th>2</th>\n",
       "      <td>Intermediate</td>\n",
       "      <td>Mixed</td>\n",
       "      <td>14147.5</td>\n",
       "      <td>0.000038</td>\n",
       "      <td>0.000113</td>\n",
       "      <td>True</td>\n",
       "    </tr>\n",
       "  </tbody>\n",
       "</table>\n",
       "</div>"
      ],
      "text/plain": [
       "         Group1        Group2  MannWhitney_U_Stat  P_value_unadjusted  \\\n",
       "0      Beginner  Intermediate             52200.5            0.081201   \n",
       "1      Beginner         Mixed             38199.5            0.000837   \n",
       "2  Intermediate         Mixed             14147.5            0.000038   \n",
       "\n",
       "   P_value_bonferroni_corrected  Significant_bonferroni  \n",
       "0                      0.243604                   False  \n",
       "1                      0.002511                    True  \n",
       "2                      0.000113                    True  "
      ]
     },
     "execution_count": 78,
     "metadata": {},
     "output_type": "execute_result"
    }
   ],
   "source": [
    "print(\"\\n--- Adjusted Pairwise Mann-Whitney U Test Results (Bonferroni Correction) ---\")\n",
    "pairwise_df"
   ]
  },
  {
   "cell_type": "markdown",
   "id": "8ac946a8-3de9-48f8-b631-0881d7d0e182",
   "metadata": {},
   "source": [
    "- Results suggest that **users rate the Mixed difficulty level differently** than both Beginner and Intermediate levels."
   ]
  },
  {
   "cell_type": "code",
   "execution_count": 79,
   "id": "ccbd1b01-e5c7-4f34-9f4e-94566a00b4c1",
   "metadata": {},
   "outputs": [
    {
     "data": {
      "text/plain": [
       "difficulty\n",
       "Advanced        4.7\n",
       "Beginner        4.7\n",
       "Intermediate    4.7\n",
       "Mixed           4.8\n",
       "Name: rating, dtype: float64"
      ]
     },
     "execution_count": 79,
     "metadata": {},
     "output_type": "execute_result"
    }
   ],
   "source": [
    "df_coursera.groupby(\"difficulty\", observed=False)[\"rating\"].median()"
   ]
  },
  {
   "cell_type": "markdown",
   "id": "c69830cf-04a9-48c2-aea9-14823ae3bccc",
   "metadata": {},
   "source": [
    "#### Insights\n",
    "\n",
    "- While a numerical difference of **0.1** (from 4.7 to 4.8) may seem minor, its **statistical significance** confirms it's unlikely to be due to random chance.\n",
    "- Even a seemingly small 0.1 point difference in median ratings, particularly on a 5-point scale, can be highly meaningful. It not only influences course selection but also suggests that learners may perceive *'Mixed'* difficulty courses more positively than either *'Beginner'* or *'Intermediate'*."
   ]
  }
 ],
 "metadata": {
  "kernelspec": {
   "display_name": "Python 3 (ipykernel)",
   "language": "python",
   "name": "python3"
  },
  "language_info": {
   "codemirror_mode": {
    "name": "ipython",
    "version": 3
   },
   "file_extension": ".py",
   "mimetype": "text/x-python",
   "name": "python",
   "nbconvert_exporter": "python",
   "pygments_lexer": "ipython3",
   "version": "3.13.5"
  }
 },
 "nbformat": 4,
 "nbformat_minor": 5
}
